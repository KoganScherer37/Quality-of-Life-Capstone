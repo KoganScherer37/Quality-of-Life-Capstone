{
 "cells": [
  {
   "cell_type": "code",
   "execution_count": null,
   "id": "f5fdf249",
   "metadata": {},
   "outputs": [],
   "source": [
    "import pandas as pd\n",
    "import requests\n",
    "import numpy as np\n",
    "from datetime import datetime as dt\n",
    "from bs4 import BeautifulSoup as BS\n",
    "from time import sleep\n",
    "from random import randint\n",
    "import regex as re\n",
    "from babel.numbers import format_currency"
   ]
  },
  {
   "cell_type": "code",
   "execution_count": null,
   "id": "2127b151",
   "metadata": {},
   "outputs": [],
   "source": [
    "#bring in gdp excel worksheet\n",
    "gdp = pd.read_excel('../data/gdp.xlsx',header = [3], nrows = 3219)\n",
    "gdp.head()"
   ]
  },
  {
   "cell_type": "code",
   "execution_count": null,
   "id": "7e00ba05",
   "metadata": {},
   "outputs": [],
   "source": [
    "#rename unamed column\n",
    "gdp = gdp.rename(columns = {'Unnamed: 0':'County'})\n",
    "gdp.head()"
   ]
  },
  {
   "cell_type": "code",
   "execution_count": null,
   "id": "dbdecd86",
   "metadata": {},
   "outputs": [],
   "source": [
    "#pull out columns for particular counties\n",
    "counties = gdp.loc[(gdp['County']=='Davidson')|(gdp['County']=='Fulton')|(gdp['County']=='Travis')]\n",
    "counties"
   ]
  },
  {
   "cell_type": "code",
   "execution_count": null,
   "id": "4424ee15",
   "metadata": {},
   "outputs": [],
   "source": [
    "#locate proper fulton county\n",
    "fulton = counties.iloc[1].to_frame().transpose().reset_index(drop = True)\n",
    "fulton"
   ]
  },
  {
   "cell_type": "code",
   "execution_count": null,
   "id": "eff190a0",
   "metadata": {},
   "outputs": [],
   "source": [
    "#locate proper davidson county\n",
    "davidson = counties.iloc[9].to_frame().transpose().reset_index(drop=True)\n",
    "davidson"
   ]
  },
  {
   "cell_type": "code",
   "execution_count": null,
   "id": "ffd23fa5",
   "metadata": {},
   "outputs": [],
   "source": [
    "#locate proper travis county\n",
    "travis = counties.iloc[10].to_frame().transpose().reset_index(drop=True)\n",
    "travis"
   ]
  },
  {
   "cell_type": "code",
   "execution_count": null,
   "id": "0e97a0ed",
   "metadata": {},
   "outputs": [],
   "source": [
    "#add city column\n",
    "fulton['city'] = ['Atlanta']\n",
    "fulton"
   ]
  },
  {
   "cell_type": "code",
   "execution_count": null,
   "id": "17aed5be",
   "metadata": {},
   "outputs": [],
   "source": [
    "#add city column\n",
    "davidson['city'] = ['Nashville']\n",
    "davidson"
   ]
  },
  {
   "cell_type": "code",
   "execution_count": null,
   "id": "f078d00d",
   "metadata": {},
   "outputs": [],
   "source": [
    "#add city column\n",
    "travis['city'] = ['Austin']\n",
    "travis"
   ]
  },
  {
   "cell_type": "code",
   "execution_count": null,
   "id": "baa4ca56",
   "metadata": {},
   "outputs": [],
   "source": [
    "#concatenating all counties\n",
    "counties_gdp = pd.concat([fulton,davidson,travis])\n",
    "counties_gdp"
   ]
  },
  {
   "cell_type": "code",
   "execution_count": null,
   "id": "0b6009e2",
   "metadata": {},
   "outputs": [],
   "source": [
    "#setting columns\n",
    "counties_gdp = counties_gdp.loc[:,['County','city',2018,2019, 2020,2021, '2019.1','2020.1', '2021.2']]\n",
    "counties_gdp"
   ]
  },
  {
   "cell_type": "code",
   "execution_count": null,
   "id": "abef0921",
   "metadata": {},
   "outputs": [],
   "source": [
    "#gross gdp DF\n",
    "gross = counties_gdp[['city',2018,2019, 2020,2021]]\n",
    "gross"
   ]
  },
  {
   "cell_type": "code",
   "execution_count": null,
   "id": "4a54d77f",
   "metadata": {},
   "outputs": [],
   "source": [
    "#percent change DF\n",
    "perc_change = counties_gdp[['city', '2019.1','2020.1', '2021.2']]\n",
    "perc_change"
   ]
  },
  {
   "cell_type": "code",
   "execution_count": null,
   "id": "8bf7cc47",
   "metadata": {},
   "outputs": [],
   "source": [
    "#percent change DF renaming\n",
    "perc_change = perc_change.rename(columns = {'2019.1':'2019','2020.1':'2020', '2021.2':'2021'})\n",
    "perc_change"
   ]
  },
  {
   "cell_type": "code",
   "execution_count": null,
   "id": "f61e09f4",
   "metadata": {},
   "outputs": [],
   "source": [
    "#first melt for gdp value\n",
    "gross = pd.melt(gross, id_vars = ['city'],var_name = 'year',value_name = 'gross_gdp')\n",
    "gross"
   ]
  },
  {
   "cell_type": "code",
   "execution_count": null,
   "id": "d972e5f5",
   "metadata": {},
   "outputs": [],
   "source": [
    "#formatting gross gdp column to currency\n",
    "gross['gross_gdp'] = gross['gross_gdp'].apply(lambda x: format_currency(x, currency=\"USD\", locale=\"en_US\"))\n",
    "gross"
   ]
  },
  {
   "cell_type": "code",
   "execution_count": null,
   "id": "597face1",
   "metadata": {},
   "outputs": [],
   "source": [
    "#first melt for gdp % change\n",
    "perc_change = pd.melt(perc_change, id_vars = ['city'],var_name = 'year',value_name = 'gdp_perc_change')\n",
    "perc_change"
   ]
  },
  {
   "cell_type": "code",
   "execution_count": null,
   "id": "cf11b9ed",
   "metadata": {},
   "outputs": [],
   "source": [
    "#save gross to csv\n",
    "gross.to_csv('../data/cleaned/economic/gross_gdp.csv', index = False)"
   ]
  },
  {
   "cell_type": "code",
   "execution_count": null,
   "id": "c86fdc38",
   "metadata": {},
   "outputs": [],
   "source": [
    "#save percent change to csv\n",
    "perc_change.to_csv('../data/cleaned/economic/gdp_perc_change.csv', index = False)"
   ]
  },
  {
   "cell_type": "code",
   "execution_count": null,
   "id": "6bd0a6b4",
   "metadata": {},
   "outputs": [],
   "source": [
    "#pull in price parity csv\n",
    "price_parity = pd.read_csv('../data/price_parity.csv', nrows = 9)\n",
    "price_parity"
   ]
  },
  {
   "cell_type": "code",
   "execution_count": null,
   "id": "0408088b",
   "metadata": {},
   "outputs": [],
   "source": [
    "#splitting up description column values\n",
    "price_parity[['rpp','desc','service']] = price_parity['Description'].str.split(': ', expand = True)\n",
    "price_parity"
   ]
  },
  {
   "cell_type": "code",
   "execution_count": null,
   "id": "4e6e194b",
   "metadata": {},
   "outputs": [],
   "source": [
    "#assigning string type to column to deal with None values\n",
    "price_parity['service'].astype(str)"
   ]
  },
  {
   "cell_type": "code",
   "execution_count": null,
   "id": "93f83adc",
   "metadata": {},
   "outputs": [],
   "source": [
    "#replacing None value with Goods\n",
    "price_parity = price_parity.replace(to_replace ={ None: 'Goods'})\n",
    "price_parity"
   ]
  },
  {
   "cell_type": "code",
   "execution_count": null,
   "id": "75b0090f",
   "metadata": {
    "scrolled": false
   },
   "outputs": [],
   "source": [
    "#splitting out city from Geoname value\n",
    "price_parity[['city','1','2','3','4','5']] = price_parity['GeoName'].str.split('-',expand = True)\n",
    "price_parity"
   ]
  },
  {
   "cell_type": "code",
   "execution_count": null,
   "id": "c6811f4f",
   "metadata": {},
   "outputs": [],
   "source": [
    "#pulling out relevant columns \n",
    "price_parity = price_parity.loc[:,['city','service','2017','2018','2019','2020']]\n",
    "price_parity "
   ]
  },
  {
   "cell_type": "code",
   "execution_count": null,
   "id": "4c328991",
   "metadata": {},
   "outputs": [],
   "source": [
    "#saving price parity to csv \n",
    "price_parity.to_csv('../data/cleaned/economic/price_parity.csv', index = False)"
   ]
  },
  {
   "cell_type": "code",
   "execution_count": null,
   "id": "a643e0a0",
   "metadata": {},
   "outputs": [],
   "source": []
  }
 ],
 "metadata": {
  "kernelspec": {
   "display_name": "Python 3 (ipykernel)",
   "language": "python",
   "name": "python3"
  },
  "language_info": {
   "codemirror_mode": {
    "name": "ipython",
    "version": 3
   },
   "file_extension": ".py",
   "mimetype": "text/x-python",
   "name": "python",
   "nbconvert_exporter": "python",
   "pygments_lexer": "ipython3",
   "version": "3.9.13"
  }
 },
 "nbformat": 4,
 "nbformat_minor": 5
}
