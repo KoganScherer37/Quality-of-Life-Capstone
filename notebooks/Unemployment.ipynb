{
 "cells": [
  {
   "cell_type": "code",
   "execution_count": null,
   "id": "edf27001",
   "metadata": {},
   "outputs": [],
   "source": [
    "import pandas as pd\n",
    "import matplotlib.pyplot as plt\n",
    "import numpy as np\n",
    "import seaborn as sns\n",
    "from datetime import datetime as dt\n",
    "import plotly.express as px\n",
    "\n",
    "\n",
    "%matplotlib inline"
   ]
  },
  {
   "cell_type": "code",
   "execution_count": null,
   "id": "96dc3208",
   "metadata": {},
   "outputs": [],
   "source": [
    "#bringing in Atlanta unemployment rates\n",
    "atl_unemp = pd.read_excel('../data/atl_unemp_rates.xlsx', header = [10] )\n",
    "atl_unemp.head()"
   ]
  },
  {
   "cell_type": "code",
   "execution_count": null,
   "id": "4caf4dd5",
   "metadata": {},
   "outputs": [],
   "source": [
    "#adding city column\n",
    "atl_unemp['city'] = 'Atlanta'\n",
    "\n",
    "#renaming period column to month\n",
    "atl_unemp = atl_unemp.rename(columns = {'Period':'month'})\n",
    "\n",
    "#reordering columns\n",
    "atl_unemp = atl_unemp.loc[:,['Year', 'city', 'month', 'labor force', 'employment', 'unemployment','unemployment rate']]\n",
    "\n",
    "atl_unemp.head()"
   ]
  },
  {
   "cell_type": "code",
   "execution_count": null,
   "id": "587bd321",
   "metadata": {},
   "outputs": [],
   "source": [
    "#bringing in Austin unemployment rates\n",
    "austin_unemp = pd.read_excel('../data/austin_unemp_rate.xlsx', header = [10] )\n",
    "austin_unemp.head()"
   ]
  },
  {
   "cell_type": "code",
   "execution_count": null,
   "id": "c83290e1",
   "metadata": {},
   "outputs": [],
   "source": [
    "#adding city column\n",
    "austin_unemp['city'] = 'Austin'\n",
    "\n",
    "#renaming period column to month\n",
    "austin_unemp = austin_unemp.rename(columns = {'Period':'month'})\n",
    "\n",
    "#reordering columns\n",
    "austin_unemp = austin_unemp.loc[:,['Year', 'city', 'month', 'labor force', 'employment', 'unemployment','unemployment rate']]\n",
    "\n",
    "austin_unemp.head()"
   ]
  },
  {
   "cell_type": "code",
   "execution_count": null,
   "id": "bf7b9b89",
   "metadata": {},
   "outputs": [],
   "source": [
    "#bringing in Nashville unemployment rates\n",
    "nash_unemp = pd.read_excel('../data/nash_unemp_rate.xlsx', header = [10] )\n",
    "nash_unemp.head()"
   ]
  },
  {
   "cell_type": "code",
   "execution_count": null,
   "id": "642920c8",
   "metadata": {},
   "outputs": [],
   "source": [
    "#adding city column\n",
    "nash_unemp['city'] = 'Nashville'\n",
    "\n",
    "#renaming period column to month\n",
    "nash_unemp = nash_unemp.rename(columns = {'Period':'month'})\n",
    "\n",
    "#reordering columns\n",
    "nash_unemp = nash_unemp.loc[:,['Year', 'city', 'month', 'labor force', 'employment', 'unemployment','unemployment rate']]\n",
    "\n",
    "nash_unemp.head()"
   ]
  },
  {
   "cell_type": "code",
   "execution_count": null,
   "id": "67659017",
   "metadata": {},
   "outputs": [],
   "source": [
    "atl_unemp.to_csv('../data/cleaned/unemp/atl_unemp.csv', index = False)"
   ]
  },
  {
   "cell_type": "code",
   "execution_count": null,
   "id": "746dbcbe",
   "metadata": {},
   "outputs": [],
   "source": [
    "austin_unemp.to_csv('../data/cleaned/unemp/austin_unemp.csv', index = False)"
   ]
  },
  {
   "cell_type": "code",
   "execution_count": null,
   "id": "72998e19",
   "metadata": {},
   "outputs": [],
   "source": [
    "nash_unemp.to_csv('../data/cleaned/unemp/nash_unemp.csv', index = False)"
   ]
  },
  {
   "cell_type": "code",
   "execution_count": null,
   "id": "cae38acc",
   "metadata": {},
   "outputs": [],
   "source": [
    "atl_unemp.head()"
   ]
  },
  {
   "cell_type": "code",
   "execution_count": null,
   "id": "9fd9604c",
   "metadata": {},
   "outputs": [],
   "source": [
    "nash_unemp.head()"
   ]
  },
  {
   "cell_type": "code",
   "execution_count": null,
   "id": "9153a182",
   "metadata": {},
   "outputs": [],
   "source": [
    "austin_unemp.head()"
   ]
  },
  {
   "cell_type": "code",
   "execution_count": null,
   "id": "e9a50757",
   "metadata": {},
   "outputs": [],
   "source": [
    "#concatenating all unemployment tables together\n",
    "unemp = pd.concat([atl_unemp,austin_unemp,nash_unemp])\n",
    "unemp.head()"
   ]
  },
  {
   "cell_type": "code",
   "execution_count": null,
   "id": "e0ad86a3",
   "metadata": {},
   "outputs": [],
   "source": [
    "unemp.to_csv('../data/cleaned/unemp/unemp.csv')"
   ]
  },
  {
   "cell_type": "code",
   "execution_count": null,
   "id": "f3178b46",
   "metadata": {},
   "outputs": [],
   "source": []
  }
 ],
 "metadata": {
  "kernelspec": {
   "display_name": "Python 3 (ipykernel)",
   "language": "python",
   "name": "python3"
  },
  "language_info": {
   "codemirror_mode": {
    "name": "ipython",
    "version": 3
   },
   "file_extension": ".py",
   "mimetype": "text/x-python",
   "name": "python",
   "nbconvert_exporter": "python",
   "pygments_lexer": "ipython3",
   "version": "3.9.13"
  }
 },
 "nbformat": 4,
 "nbformat_minor": 5
}
