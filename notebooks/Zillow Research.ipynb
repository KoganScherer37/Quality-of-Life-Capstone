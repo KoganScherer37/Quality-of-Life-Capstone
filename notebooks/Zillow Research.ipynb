{
 "cells": [
  {
   "cell_type": "code",
   "execution_count": null,
   "id": "fd1542b8",
   "metadata": {},
   "outputs": [],
   "source": [
    "import pandas as pd\n",
    "import matplotlib.pyplot as plt\n",
    "import numpy as np\n",
    "import seaborn as sns\n",
    "from datetime import datetime as dt\n",
    "import plotly.express as px\n",
    "\n",
    "\n",
    "%matplotlib inline"
   ]
  },
  {
   "cell_type": "code",
   "execution_count": null,
   "id": "262fae3c",
   "metadata": {},
   "outputs": [],
   "source": [
    "#Pulling in zillow inventory csv\n",
    "inventory = pd.read_csv('../data/zillow_inventory.csv')"
   ]
  },
  {
   "cell_type": "code",
   "execution_count": null,
   "id": "d81b2fad",
   "metadata": {},
   "outputs": [],
   "source": [
    "inventory.head()"
   ]
  },
  {
   "cell_type": "code",
   "execution_count": null,
   "id": "b6d00b4c",
   "metadata": {},
   "outputs": [],
   "source": [
    "#pulling in average list price csv\n",
    "list_price = pd.read_csv('../data/zillow_list_and_sales_price.csv')"
   ]
  },
  {
   "cell_type": "code",
   "execution_count": null,
   "id": "b815852e",
   "metadata": {},
   "outputs": [],
   "source": [
    "list_price.head()"
   ]
  },
  {
   "cell_type": "code",
   "execution_count": null,
   "id": "93a67eca",
   "metadata": {},
   "outputs": [],
   "source": [
    "#pulling in sales count csv\n",
    "sales_count = pd.read_csv('../data/zillow_sales_count.csv')"
   ]
  },
  {
   "cell_type": "code",
   "execution_count": null,
   "id": "de6150e7",
   "metadata": {},
   "outputs": [],
   "source": [
    "sales_count.head()"
   ]
  },
  {
   "cell_type": "code",
   "execution_count": null,
   "id": "f161bae1",
   "metadata": {},
   "outputs": [],
   "source": [
    "#pulling sales counts for Atlanta\n",
    "atl_sales_count = sales_count.loc[sales_count['RegionName']=='Atlanta, GA']\n",
    "atl_sales_count"
   ]
  },
  {
   "cell_type": "code",
   "execution_count": null,
   "id": "592d260e",
   "metadata": {},
   "outputs": [],
   "source": [
    "#pulling out list price for Atlanta\n",
    "atl_list_price = list_price.loc[list_price['RegionName']=='Atlanta, GA']\n",
    "atl_list_price"
   ]
  },
  {
   "cell_type": "code",
   "execution_count": null,
   "id": "37c5c876",
   "metadata": {},
   "outputs": [],
   "source": [
    "#inventory for Atlanta\n",
    "atl_inventory = inventory.loc[inventory['RegionName']=='Atlanta, GA']\n",
    "atl_inventory"
   ]
  },
  {
   "cell_type": "code",
   "execution_count": null,
   "id": "8a5dce65",
   "metadata": {},
   "outputs": [],
   "source": [
    "#Atlanta sales count melt\n",
    "atl_sales_count = pd.melt(atl_sales_count, id_vars=['RegionID','SizeRank','RegionName','RegionType','StateName'], var_name = 'date', value_name = 'sales_count' )\n",
    "atl_sales_count.head()"
   ]
  },
  {
   "cell_type": "code",
   "execution_count": null,
   "id": "b45c4a94",
   "metadata": {},
   "outputs": [],
   "source": [
    "#converting sales count date to datetime\n",
    "atl_sales_count['date']= pd.to_datetime(atl_sales_count['date'])\n",
    "atl_sales_count.info()"
   ]
  },
  {
   "cell_type": "code",
   "execution_count": null,
   "id": "5836d032",
   "metadata": {},
   "outputs": [],
   "source": [
    "#adjusting time to match other dateframes starting at 2018-03-31\n",
    "atl_sales_count = atl_sales_count.loc[atl_sales_count['date']>='2018-03-31']\n",
    "atl_sales_count = atl_sales_count.reset_index(drop=True)\n",
    "atl_sales_count = atl_sales_count.rename(columns = {'RegionName':'City','StateName':'State'})\n",
    "atl_sales_count.head()"
   ]
  },
  {
   "cell_type": "code",
   "execution_count": null,
   "id": "a8043135",
   "metadata": {},
   "outputs": [],
   "source": [
    "#Atlanta list price melt\n",
    "atl_list_price = pd.melt(atl_list_price, id_vars=['RegionID','SizeRank','RegionName','RegionType','StateName'], var_name = 'date', value_name = 'avg_list_price' )\n",
    "atl_list_price.head()"
   ]
  },
  {
   "cell_type": "code",
   "execution_count": null,
   "id": "2bfdd1f1",
   "metadata": {},
   "outputs": [],
   "source": [
    "atl_list_price = atl_list_price.rename(columns = {'RegionName':'City','StateName':'State'})\n",
    "atl_list_price.head()"
   ]
  },
  {
   "cell_type": "code",
   "execution_count": null,
   "id": "ddbaae1b",
   "metadata": {},
   "outputs": [],
   "source": [
    "#Atlanta inventory melt\n",
    "atl_inventory = pd.melt(atl_inventory, id_vars=['RegionID','SizeRank','RegionName','RegionType','StateName'], var_name = 'date', value_name = 'inventory_count' )"
   ]
  },
  {
   "cell_type": "code",
   "execution_count": null,
   "id": "9fe08383",
   "metadata": {},
   "outputs": [],
   "source": [
    "atl_inventory = atl_inventory.rename(columns = {'RegionName':'City','StateName':'State'})\n",
    "atl_inventory.head()"
   ]
  },
  {
   "cell_type": "code",
   "execution_count": null,
   "id": "b2e7c774",
   "metadata": {},
   "outputs": [],
   "source": [
    "#All sales count melt\n",
    "sales_count = pd.melt(sales_count, id_vars=['RegionID','SizeRank','RegionName','RegionType','StateName'], var_name = 'date', value_name = 'sales_count' )"
   ]
  },
  {
   "cell_type": "code",
   "execution_count": null,
   "id": "24c89897",
   "metadata": {},
   "outputs": [],
   "source": [
    "sales_count = sales_count.rename(columns = {'RegionName':'City','StateName':'State'})\n",
    "sales_count.head()"
   ]
  },
  {
   "cell_type": "code",
   "execution_count": null,
   "id": "96a2777e",
   "metadata": {},
   "outputs": [],
   "source": [
    "sales_count.info()"
   ]
  },
  {
   "cell_type": "code",
   "execution_count": null,
   "id": "5f7b3a16",
   "metadata": {},
   "outputs": [],
   "source": [
    "#all sales count convert date column to datetime\n",
    "sales_count['date'] = pd.to_datetime(sales_count['date'])"
   ]
  },
  {
   "cell_type": "code",
   "execution_count": null,
   "id": "eec0f318",
   "metadata": {},
   "outputs": [],
   "source": [
    "sales_count.info()"
   ]
  },
  {
   "cell_type": "code",
   "execution_count": null,
   "id": "21fac43a",
   "metadata": {},
   "outputs": [],
   "source": [
    "#Start date to match the other dataframes at 2018-03-31\n",
    "sales_count = sales_count.loc[sales_count['date'] >= '2018-03-31']\n",
    "sales_count = sales_count.reset_index(drop=True)\n",
    "sales_count.head()"
   ]
  },
  {
   "cell_type": "code",
   "execution_count": null,
   "id": "8d285eec",
   "metadata": {},
   "outputs": [],
   "source": [
    "#all list price melt\n",
    "list_price = pd.melt(list_price, id_vars=['RegionID','SizeRank','RegionName','RegionType','StateName'], var_name = 'date', value_name = 'avg_list_price' )"
   ]
  },
  {
   "cell_type": "code",
   "execution_count": null,
   "id": "a929d06d",
   "metadata": {},
   "outputs": [],
   "source": [
    "list_price = list_price.rename(columns = {'RegionName':'City','StateName':'State'})\n",
    "list_price.head()"
   ]
  },
  {
   "cell_type": "code",
   "execution_count": null,
   "id": "7136816f",
   "metadata": {},
   "outputs": [],
   "source": [
    "#all inventory melt\n",
    "inventory = pd.melt(inventory, id_vars=['RegionID','SizeRank','RegionName','RegionType','StateName'], var_name = 'date', value_name = 'inventory_count' )"
   ]
  },
  {
   "cell_type": "code",
   "execution_count": null,
   "id": "d66967bf",
   "metadata": {},
   "outputs": [],
   "source": [
    "inventory= inventory.rename(columns = {'RegionName':'City','StateName':'State'})\n",
    "inventory.head()"
   ]
  },
  {
   "cell_type": "code",
   "execution_count": null,
   "id": "cb57607d",
   "metadata": {},
   "outputs": [],
   "source": [
    "#Nashville sales count table DF\n",
    "nash_sales_count = sales_count.loc[sales_count['City']== 'Nashville, TN']\n",
    "nash_sales_count = nash_sales_count.reset_index(drop = True)\n",
    "nash_sales_count.head()"
   ]
  },
  {
   "cell_type": "code",
   "execution_count": null,
   "id": "5f77e379",
   "metadata": {},
   "outputs": [],
   "source": [
    "#Nashville list price DF\n",
    "nash_list_price = list_price.loc[list_price['City']== 'Nashville, TN']\n",
    "nash_list_price = nash_list_price.reset_index(drop=True)\n",
    "nash_list_price.head()"
   ]
  },
  {
   "cell_type": "code",
   "execution_count": null,
   "id": "dbff706a",
   "metadata": {},
   "outputs": [],
   "source": [
    "#Nashville inventory DF\n",
    "nash_inventory = inventory.loc[inventory['City']=='Nashville, TN']\n",
    "nash_inventory = nash_inventory.reset_index(drop=True)\n",
    "nash_inventory.head()"
   ]
  },
  {
   "cell_type": "code",
   "execution_count": null,
   "id": "9cd1c6f1",
   "metadata": {},
   "outputs": [],
   "source": [
    "austin_sales_count = sales_count.loc[sales_count['City']=='Austin, TX']\n",
    "austin_sales_count = austin_sales_count.reset_index(drop=True)\n",
    "austin_sales_count.head()"
   ]
  },
  {
   "cell_type": "code",
   "execution_count": null,
   "id": "518c594d",
   "metadata": {},
   "outputs": [],
   "source": [
    "austin_list_price = list_price.loc[list_price['City']=='Austin, TX']\n",
    "austin_list_price = austin_list_price.reset_index(drop=True)\n",
    "austin_list_price.head()"
   ]
  },
  {
   "cell_type": "code",
   "execution_count": null,
   "id": "fd10b47d",
   "metadata": {},
   "outputs": [],
   "source": [
    "austin_inventory = inventory.loc[inventory['City']=='Austin, TX']\n",
    "austin_inventory = austin_inventory.reset_index(drop=True)\n",
    "austin_inventory.head()"
   ]
  },
  {
   "cell_type": "code",
   "execution_count": null,
   "id": "bbb157d3",
   "metadata": {},
   "outputs": [],
   "source": [
    "#forecasting csv\n",
    "forecast = pd.read_csv('../data/zillow_forecasts.csv')"
   ]
  },
  {
   "cell_type": "code",
   "execution_count": null,
   "id": "d752431e",
   "metadata": {},
   "outputs": [],
   "source": [
    "forecast.head()"
   ]
  },
  {
   "cell_type": "code",
   "execution_count": null,
   "id": "4389f502",
   "metadata": {},
   "outputs": [],
   "source": [
    "#dropping irrelevant date\n",
    "forecast = forecast.drop('2022-11-30', axis=1)\n",
    "forecast.head()"
   ]
  },
  {
   "cell_type": "code",
   "execution_count": null,
   "id": "ef3c34e7",
   "metadata": {},
   "outputs": [],
   "source": [
    "#forecast melt\n",
    "forecast = pd.melt(forecast, id_vars = ['RegionID','SizeRank','RegionName','RegionType','StateName', 'BaseDate'], var_name = 'proj_date', value_name = 'proj_value')"
   ]
  },
  {
   "cell_type": "code",
   "execution_count": null,
   "id": "9c3367b5",
   "metadata": {},
   "outputs": [],
   "source": [
    "forecast = forecast.rename(columns = {'RegionName':'City','StateName':'State'})\n",
    "forecast.head()"
   ]
  },
  {
   "cell_type": "code",
   "execution_count": null,
   "id": "a292368b",
   "metadata": {},
   "outputs": [],
   "source": [
    "#Atlanta forecast\n",
    "atl_forecast = forecast.loc[forecast['City']=='Atlanta, GA']\n",
    "atl_forecast = atl_forecast.reset_index(drop=True)\n",
    "atl_forecast"
   ]
  },
  {
   "cell_type": "code",
   "execution_count": null,
   "id": "0793c2dd",
   "metadata": {},
   "outputs": [],
   "source": [
    "#Nashville forecast\n",
    "nash_forecast = forecast.loc[forecast['City']=='Nashville, TN']\n",
    "nash_forecast = nash_forecast.reset_index(drop=True)\n",
    "nash_forecast"
   ]
  },
  {
   "cell_type": "code",
   "execution_count": null,
   "id": "81888d37",
   "metadata": {},
   "outputs": [],
   "source": [
    "#Austin forecast\n",
    "austin_forecast = forecast.loc[forecast['City']=='Austin, TX']\n",
    "austin_forecast = austin_forecast.reset_index(drop=True)\n",
    "austin_forecast"
   ]
  },
  {
   "cell_type": "code",
   "execution_count": null,
   "id": "b86a4c76",
   "metadata": {},
   "outputs": [],
   "source": [
    "#one bedroom value DF\n",
    "one_bed_value = pd.read_csv('../data/one_bedroom_value.csv')\n",
    "one_bed_value.head()"
   ]
  },
  {
   "cell_type": "code",
   "execution_count": null,
   "id": "ca7e5e5a",
   "metadata": {},
   "outputs": [],
   "source": [
    "#two bedroom value DF\n",
    "two_bed_value = pd.read_csv('../data/two_bedroom_value.csv')\n",
    "two_bed_value.head()"
   ]
  },
  {
   "cell_type": "code",
   "execution_count": null,
   "id": "87c3dc94",
   "metadata": {},
   "outputs": [],
   "source": [
    "#three bedroom value DF\n",
    "three_bed_value = pd.read_csv('../data/three_bedroom_value.csv')\n",
    "three_bed_value.head()"
   ]
  },
  {
   "cell_type": "code",
   "execution_count": null,
   "id": "6e17dc9b",
   "metadata": {},
   "outputs": [],
   "source": [
    "#four bedroom value DF\n",
    "four_bed_value = pd.read_csv('../data/four_bedroom_value.csv')\n",
    "four_bed_value.head()"
   ]
  },
  {
   "cell_type": "code",
   "execution_count": null,
   "id": "dda2b090",
   "metadata": {},
   "outputs": [],
   "source": [
    "#five bedroom value DF\n",
    "five_bed_value = pd.read_csv('../data/five_bedroom_value.csv')\n",
    "five_bed_value.head()"
   ]
  },
  {
   "cell_type": "code",
   "execution_count": null,
   "id": "b1a56d21",
   "metadata": {},
   "outputs": [],
   "source": [
    "#one bed melt\n",
    "one_bed_value = pd.melt(one_bed_value, id_vars = ['RegionID','SizeRank','RegionName','RegionType','StateName'], var_name = 'date', value_name = 'home_value')"
   ]
  },
  {
   "cell_type": "code",
   "execution_count": null,
   "id": "64deca98",
   "metadata": {},
   "outputs": [],
   "source": [
    "#two bed melt\n",
    "two_bed_value = pd.melt(two_bed_value, id_vars = ['RegionID','SizeRank','RegionName','RegionType','StateName'], var_name = 'date', value_name = '2br_value')"
   ]
  },
  {
   "cell_type": "code",
   "execution_count": null,
   "id": "b2eb4f38",
   "metadata": {},
   "outputs": [],
   "source": [
    "#three bed melt\n",
    "three_bed_value = pd.melt(three_bed_value, id_vars = ['RegionID','SizeRank','RegionName','RegionType','StateName'], var_name = 'date', value_name = '3br_value')"
   ]
  },
  {
   "cell_type": "code",
   "execution_count": null,
   "id": "0a03809e",
   "metadata": {},
   "outputs": [],
   "source": [
    "#four bed melt\n",
    "four_bed_value = pd.melt(four_bed_value, id_vars = ['RegionID','SizeRank','RegionName','RegionType','StateName'], var_name = 'date', value_name = '4br_value')"
   ]
  },
  {
   "cell_type": "code",
   "execution_count": null,
   "id": "9924c323",
   "metadata": {},
   "outputs": [],
   "source": [
    "#five bed melt\n",
    "five_bed_value = pd.melt(five_bed_value, id_vars = ['RegionID','SizeRank','RegionName','RegionType','StateName'], var_name = 'date', value_name = '5br_value')"
   ]
  },
  {
   "cell_type": "code",
   "execution_count": null,
   "id": "11dcd2b0",
   "metadata": {},
   "outputs": [],
   "source": [
    "#household income 2017\n",
    "hh_nash_inc_2017 = pd.read_csv('../data/nash_mean_inc_2017.csv',header = [1])\n",
    "\n",
    "#add city column\n",
    "hh_nash_inc_2017['city'] = 'Nashville'\n",
    "\n",
    "hh_nash_inc_2017.head()"
   ]
  },
  {
   "cell_type": "code",
   "execution_count": null,
   "id": "363416e3",
   "metadata": {},
   "outputs": [],
   "source": [
    "#household income 2017\n",
    "hh_atl_inc_2017 = pd.read_csv('../data/atl_mean_inc_2017.csv',header = [1])\n",
    "\n",
    "#add city column\n",
    "hh_atl_inc_2017['city'] = 'Atlanta'\n",
    "\n",
    "hh_atl_inc_2017.head()"
   ]
  },
  {
   "cell_type": "code",
   "execution_count": null,
   "id": "4b23cb0c",
   "metadata": {},
   "outputs": [],
   "source": [
    "#household income 2017\n",
    "hh_austin_inc_2017 = pd.read_csv('../data/austin_mean_inc_2017.csv',header = [1])\n",
    "\n",
    "#add city column\n",
    "hh_austin_inc_2017['city'] = 'Austin'\n",
    "hh_austin_inc_2017.head()"
   ]
  },
  {
   "cell_type": "code",
   "execution_count": null,
   "id": "a00b58ba",
   "metadata": {},
   "outputs": [],
   "source": [
    "#household income 2018\n",
    "hh_nash_inc_2018 = pd.read_csv('../data/nash_mean_inc_2018.csv', header=[1])\n",
    "\n",
    "#add city column\n",
    "hh_nash_inc_2018['city'] = 'Nashville'\n",
    "hh_nash_inc_2018.head()"
   ]
  },
  {
   "cell_type": "code",
   "execution_count": null,
   "id": "b65aa9e7",
   "metadata": {},
   "outputs": [],
   "source": [
    "#household income 2018\n",
    "hh_atl_inc_2018 = pd.read_csv('../data/atl_mean_inc_2018.csv', header=[1])\n",
    "\n",
    "#add city column\n",
    "hh_atl_inc_2018['city'] = 'Atlanta'\n",
    "hh_atl_inc_2018.head()"
   ]
  },
  {
   "cell_type": "code",
   "execution_count": null,
   "id": "a2e1ae9d",
   "metadata": {},
   "outputs": [],
   "source": [
    "#household income 2018\n",
    "hh_austin_inc_2018 = pd.read_csv('../data/austin_mean_inc_2018.csv', header=[1])\n",
    "\n",
    "#add city column\n",
    "hh_austin_inc_2018['city'] = 'Austin'\n",
    "hh_austin_inc_2018.head()"
   ]
  },
  {
   "cell_type": "code",
   "execution_count": null,
   "id": "9c952ee9",
   "metadata": {},
   "outputs": [],
   "source": [
    "#household income 2019\n",
    "hh_nash_inc_2019 = pd.read_csv('../data/nash_mean_inc_2019.csv',header = [1])\n",
    "\n",
    "#add city column\n",
    "hh_nash_inc_2019['city'] = 'Nashville'\n",
    "hh_nash_inc_2019.head()"
   ]
  },
  {
   "cell_type": "code",
   "execution_count": null,
   "id": "cc86987c",
   "metadata": {},
   "outputs": [],
   "source": [
    "#household income 2019\n",
    "hh_atl_inc_2019 = pd.read_csv('../data/atl_mean_inc_2019.csv',header = [1])\n",
    "\n",
    "#add city column\n",
    "hh_atl_inc_2019['city'] = 'Atlanta'\n",
    "hh_atl_inc_2019.head()\n"
   ]
  },
  {
   "cell_type": "code",
   "execution_count": null,
   "id": "f30502b5",
   "metadata": {},
   "outputs": [],
   "source": [
    "#household income 2019\n",
    "hh_austin_inc_2019 = pd.read_csv('../data/austin_mean_inc_2019.csv',header = [1])\n",
    "\n",
    "#add city column\n",
    "hh_austin_inc_2019['city'] = 'Austin'\n",
    "hh_austin_inc_2019.head()"
   ]
  },
  {
   "cell_type": "code",
   "execution_count": null,
   "id": "c4eb74a6",
   "metadata": {
    "scrolled": true
   },
   "outputs": [],
   "source": [
    "#household income 2020\n",
    "hh_nash_inc_2020 = pd.read_csv('../data/nashville_mean_inc_2020.csv',header=[1])\n",
    "\n",
    "#add city column\n",
    "hh_nash_inc_2020['city'] = 'Nashville'\n",
    "hh_nash_inc_2020.head()"
   ]
  },
  {
   "cell_type": "code",
   "execution_count": null,
   "id": "d5855c4f",
   "metadata": {},
   "outputs": [],
   "source": [
    "#household income 2020\n",
    "hh_atl_inc_2020 = pd.read_csv('../data/atl_mean_inc_2020.csv',header=[1])\n",
    "\n",
    "#add city column\n",
    "hh_atl_inc_2020['city'] = 'Atlanta'\n",
    "hh_atl_inc_2020.head()"
   ]
  },
  {
   "cell_type": "code",
   "execution_count": null,
   "id": "69b2b6ac",
   "metadata": {},
   "outputs": [],
   "source": [
    "#household income 2020\n",
    "hh_austin_inc_2020 = pd.read_csv('../data/austin_mean_inc_2020.csv',header=[1])\n",
    "\n",
    "#add city column\n",
    "hh_austin_inc_2020['city'] = 'Austin'\n",
    "hh_austin_inc_2020.head()"
   ]
  },
  {
   "cell_type": "code",
   "execution_count": null,
   "id": "1c44ddbf",
   "metadata": {
    "scrolled": true
   },
   "outputs": [],
   "source": [
    "#household income 2021\n",
    "hh_nash_inc_2021 = pd.read_csv('../data/nash_mean_inc_2021.csv', header=[1])\n",
    "\n",
    "#add city column\n",
    "hh_nash_inc_2021['city'] = 'Nashville'\n",
    "hh_nash_inc_2021.head()"
   ]
  },
  {
   "cell_type": "code",
   "execution_count": null,
   "id": "976b33c7",
   "metadata": {},
   "outputs": [],
   "source": [
    "#household income 2021\n",
    "hh_austin_inc_2021 = pd.read_csv('../data/austin_mean_inc_2021.csv', header=[1])\n",
    "\n",
    "#add city column\n",
    "hh_austin_inc_2021['city'] = 'Austin'\n",
    "hh_austin_inc_2021.head()"
   ]
  },
  {
   "cell_type": "code",
   "execution_count": null,
   "id": "befe05be",
   "metadata": {},
   "outputs": [],
   "source": [
    "#household income 2021\n",
    "hh_atl_inc_2021 = pd.read_csv('../data/atl_mean_inc_2021.csv', header=[1])\n",
    "\n",
    "#add city column\n",
    "hh_atl_inc_2021['city'] = 'Atlanta'\n",
    "hh_atl_inc_2021.head()"
   ]
  },
  {
   "cell_type": "code",
   "execution_count": null,
   "id": "14a60dcc",
   "metadata": {},
   "outputs": [],
   "source": [
    "#pulling out relevant columns\n",
    "hh_nash_inc_2017 = hh_nash_inc_2017.loc[:,['city','HOUSEHOLD INCOME','Unnamed: 1','Unnamed: 5']]\n",
    "\n",
    "#renaming column\n",
    "hh_nash_inc_2017 = hh_nash_inc_2017.rename(columns = {'HOUSEHOLD INCOME':'household_income','Unnamed: 1': 'household_count',\n",
    "                                                      'Unnamed: 5':'avg_income'})\n",
    "\n",
    "#stripping extra space in column\n",
    "hh_nash_inc_2017['household_income'] = hh_nash_inc_2017['household_income'].str.strip()\n",
    "\n",
    "#consolidating table\n",
    "hh_nash_inc_2017 = hh_nash_inc_2017.loc[(hh_nash_inc_2017['household_income']=='All households')|\n",
    "                                        (hh_nash_inc_2017['household_income']=='With earnings')|\n",
    "                                        (hh_nash_inc_2017['household_income']=='With wages or salary income')|\n",
    "                                        (hh_nash_inc_2017['household_income']=='With self-employment income')]\n",
    "\n",
    "#add year column\n",
    "hh_nash_inc_2017['year'] = 2017\n",
    "\n",
    "#reorder columns \n",
    "hh_nash_inc_2017 = hh_nash_inc_2017.loc[:,['city','household_income', 'year','household_count','avg_income']]\n",
    "\n",
    "hh_nash_inc_2017.head()"
   ]
  },
  {
   "cell_type": "code",
   "execution_count": null,
   "id": "f93d24f3",
   "metadata": {},
   "outputs": [],
   "source": [
    "#pulling out relevant columns\n",
    "hh_atl_inc_2017 = hh_atl_inc_2017.loc[:,['city','HOUSEHOLD INCOME','Unnamed: 1','Unnamed: 5']]\n",
    "\n",
    "#renaming column\n",
    "hh_atl_inc_2017 = hh_atl_inc_2017.rename(columns = {'HOUSEHOLD INCOME':'household_income','Unnamed: 1': 'household_count',\n",
    "                                                      'Unnamed: 5':'avg_income'})\n",
    "\n",
    "#stripping extra space in column\n",
    "hh_atl_inc_2017['household_income'] = hh_atl_inc_2017['household_income'].str.strip()\n",
    "\n",
    "#consolidating table\n",
    "hh_atl_inc_2017 = hh_atl_inc_2017.loc[(hh_atl_inc_2017['household_income']=='All households')|\n",
    "                                      (hh_atl_inc_2017['household_income']=='With earnings')|\n",
    "                                      (hh_atl_inc_2017['household_income']=='With wages or salary income')|\n",
    "                                      (hh_atl_inc_2017['household_income']=='With self-employment income')]\n",
    "\n",
    "#add year column\n",
    "hh_atl_inc_2017['year'] = 2017\n",
    "\n",
    "#reorder columns \n",
    "hh_atl_inc_2017 = hh_atl_inc_2017.loc[:,['city','household_income', 'year','household_count','avg_income']]\n",
    "\n",
    "hh_atl_inc_2017.head()"
   ]
  },
  {
   "cell_type": "code",
   "execution_count": null,
   "id": "e09d1f9e",
   "metadata": {},
   "outputs": [],
   "source": [
    "#pulling out relevant columns\n",
    "hh_austin_inc_2017 = hh_austin_inc_2017.loc[:,['city','HOUSEHOLD INCOME','Unnamed: 1','Unnamed: 5']]\n",
    "\n",
    "#renaming column\n",
    "hh_austin_inc_2017 = hh_austin_inc_2017.rename(columns = {'HOUSEHOLD INCOME':'household_income','Unnamed: 1': 'household_count',\n",
    "                                                          'Unnamed: 5':'avg_income'})\n",
    "\n",
    "#stripping extra space in column\n",
    "hh_austin_inc_2017['household_income'] = hh_austin_inc_2017['household_income'].str.strip()\n",
    "\n",
    "#consolidating table\n",
    "hh_austin_inc_2017 = hh_austin_inc_2017.loc[(hh_austin_inc_2017['household_income']=='All households')|\n",
    "                                            (hh_austin_inc_2017['household_income']=='With earnings')|\n",
    "                                            (hh_austin_inc_2017['household_income']=='With wages or salary income')|\n",
    "                                            (hh_austin_inc_2017['household_income']=='With self-employment income')]\n",
    "\n",
    "#add year column\n",
    "hh_austin_inc_2017['year'] = 2017\n",
    "\n",
    "#reorder columns \n",
    "hh_austin_inc_2017 = hh_austin_inc_2017.loc[:,['city','household_income', 'year','household_count','avg_income']]\n",
    "\n",
    "hh_austin_inc_2017.head()"
   ]
  },
  {
   "cell_type": "code",
   "execution_count": null,
   "id": "99d5aba8",
   "metadata": {},
   "outputs": [],
   "source": [
    "#pulling out relevant columns\n",
    "hh_nash_inc_2018 = hh_nash_inc_2018.loc[:,['city','HOUSEHOLD INCOME','Unnamed: 1','Unnamed: 5']]\n",
    "\n",
    "#renaming column\n",
    "hh_nash_inc_2018 = hh_nash_inc_2018.rename(columns = {'HOUSEHOLD INCOME':'household_income','Unnamed: 1': 'household_count',\n",
    "                                                      'Unnamed: 5':'avg_income'})\n",
    "\n",
    "#stripping extra space in column\n",
    "hh_nash_inc_2018['household_income'] = hh_nash_inc_2018['household_income'].str.strip()\n",
    "\n",
    "#consolidating table\n",
    "hh_nash_inc_2018 = hh_nash_inc_2018.loc[(hh_nash_inc_2018['household_income']=='All households')|\n",
    "                                        (hh_nash_inc_2018['household_income']=='With earnings')|\n",
    "                                        (hh_nash_inc_2018['household_income']=='With wages or salary income')|\n",
    "                                        (hh_nash_inc_2018['household_income']=='With self-employment income')]\n",
    "\n",
    "#add year column\n",
    "hh_nash_inc_2018['year'] = 2018\n",
    "\n",
    "#reorder columns \n",
    "hh_nash_inc_2018 = hh_nash_inc_2018.loc[:,['city','household_income', 'year','household_count','avg_income']]\n",
    "\n",
    "hh_nash_inc_2018.head()"
   ]
  },
  {
   "cell_type": "code",
   "execution_count": null,
   "id": "ea0ab804",
   "metadata": {},
   "outputs": [],
   "source": [
    "#pulling out relevant columns\n",
    "hh_atl_inc_2018 = hh_atl_inc_2018.loc[:,['city','HOUSEHOLD INCOME','Unnamed: 1','Unnamed: 5']]\n",
    "\n",
    "#renaming column\n",
    "hh_atl_inc_2018 = hh_atl_inc_2018.rename(columns = {'HOUSEHOLD INCOME':'household_income','Unnamed: 1': 'household_count',\n",
    "                                                      'Unnamed: 5':'avg_income'})\n",
    "\n",
    "#stripping extra space in column\n",
    "hh_atl_inc_2018['household_income'] = hh_atl_inc_2018['household_income'].str.strip()\n",
    "\n",
    "#consolidating table\n",
    "hh_atl_inc_2018 = hh_atl_inc_2018.loc[(hh_atl_inc_2018['household_income']=='All households')|\n",
    "                                        (hh_atl_inc_2018['household_income']=='With earnings')|\n",
    "                                        (hh_atl_inc_2018['household_income']=='With wages or salary income')|\n",
    "                                        (hh_atl_inc_2018['household_income']=='With self-employment income')]\n",
    "\n",
    "#add year column\n",
    "hh_atl_inc_2018['year'] = 2018\n",
    "\n",
    "#reorder columns \n",
    "hh_atl_inc_2018 = hh_atl_inc_2018.loc[:,['city','household_income', 'year','household_count','avg_income']]\n",
    "\n",
    "hh_atl_inc_2018.head()"
   ]
  },
  {
   "cell_type": "code",
   "execution_count": null,
   "id": "4dfc1f37",
   "metadata": {},
   "outputs": [],
   "source": [
    "#pulling out relevant columns\n",
    "hh_austin_inc_2018 = hh_austin_inc_2018.loc[:,['city','HOUSEHOLD INCOME','Unnamed: 1','Unnamed: 5']]\n",
    "\n",
    "#renaming column\n",
    "hh_austin_inc_2018 = hh_austin_inc_2018.rename(columns = {'HOUSEHOLD INCOME':'household_income','Unnamed: 1': 'household_count',\n",
    "                                                      'Unnamed: 5':'avg_income'})\n",
    "\n",
    "#stripping extra space in column\n",
    "hh_austin_inc_2018['household_income'] = hh_austin_inc_2018['household_income'].str.strip()\n",
    "\n",
    "#consolidating table\n",
    "hh_austin_inc_2018 = hh_austin_inc_2018.loc[(hh_austin_inc_2018['household_income']=='All households')|\n",
    "                                            (hh_austin_inc_2018['household_income']=='With earnings')|\n",
    "                                            (hh_austin_inc_2018['household_income']=='With wages or salary income')|\n",
    "                                            (hh_austin_inc_2018['household_income']=='With self-employment income')]\n",
    "\n",
    "#add year column\n",
    "hh_austin_inc_2018['year'] = 2018\n",
    "\n",
    "#reorder columns \n",
    "hh_austin_inc_2018 = hh_austin_inc_2018.loc[:,['city','household_income', 'year','household_count','avg_income']]\n",
    "\n",
    "hh_austin_inc_2018.head()"
   ]
  },
  {
   "cell_type": "code",
   "execution_count": null,
   "id": "f937ea07",
   "metadata": {},
   "outputs": [],
   "source": [
    "#pulling out relevant columns\n",
    "hh_nash_inc_2019 = hh_nash_inc_2019.loc[:,['city','HOUSEHOLD INCOME','Unnamed: 1','Unnamed: 5']]\n",
    "\n",
    "#renaming column\n",
    "hh_nash_inc_2019 = hh_nash_inc_2019.rename(columns = {'HOUSEHOLD INCOME':'household_income','Unnamed: 1': 'household_count',\n",
    "                                                      'Unnamed: 5':'avg_income'})\n",
    "\n",
    "#stripping extra space in column\n",
    "hh_nash_inc_2019['household_income'] = hh_nash_inc_2019['household_income'].str.strip()\n",
    "\n",
    "#consolidating table\n",
    "hh_nash_inc_2019 = hh_nash_inc_2019.loc[(hh_nash_inc_2019['household_income']=='All households')|\n",
    "                                        (hh_nash_inc_2019['household_income']=='With earnings')|\n",
    "                                        (hh_nash_inc_2019['household_income']=='With wages or salary income')|\n",
    "                                        (hh_nash_inc_2019['household_income']=='With self-employment income')]\n",
    "\n",
    "#add year column\n",
    "hh_nash_inc_2019['year'] = 2019\n",
    "\n",
    "#reorder columns \n",
    "hh_nash_inc_2019 = hh_nash_inc_2019.loc[:,['city','household_income', 'year','household_count','avg_income']]\n",
    "\n",
    "hh_nash_inc_2019.head()"
   ]
  },
  {
   "cell_type": "code",
   "execution_count": null,
   "id": "c6ab190c",
   "metadata": {},
   "outputs": [],
   "source": [
    "#pulling out relevant columns\n",
    "hh_atl_inc_2019 = hh_atl_inc_2019.loc[:,['city','HOUSEHOLD INCOME','Unnamed: 1','Unnamed: 5']]\n",
    "\n",
    "#renaming column\n",
    "hh_atl_inc_2019 = hh_atl_inc_2019.rename(columns = {'HOUSEHOLD INCOME':'household_income','Unnamed: 1': 'household_count',\n",
    "                                                      'Unnamed: 5':'avg_income'})\n",
    "\n",
    "#stripping extra space in column\n",
    "hh_atl_inc_2019['household_income'] = hh_atl_inc_2019['household_income'].str.strip()\n",
    "\n",
    "#consolidating table\n",
    "hh_atl_inc_2019 = hh_atl_inc_2019.loc[(hh_atl_inc_2019['household_income']=='All households')|\n",
    "                                      (hh_atl_inc_2019['household_income']=='With earnings')|\n",
    "                                      (hh_atl_inc_2019['household_income']=='With wages or salary income')|\n",
    "                                      (hh_atl_inc_2019['household_income']=='With self-employment income')]\n",
    "\n",
    "#add year column\n",
    "hh_atl_inc_2019['year'] = 2019\n",
    "\n",
    "#reorder columns \n",
    "hh_atl_inc_2019 = hh_atl_inc_2019.loc[:,['city','household_income', 'year','household_count','avg_income']]\n",
    "\n",
    "hh_atl_inc_2019.head()"
   ]
  },
  {
   "cell_type": "code",
   "execution_count": null,
   "id": "53eb4fa9",
   "metadata": {},
   "outputs": [],
   "source": [
    "#pulling out relevant columns\n",
    "hh_austin_inc_2019 = hh_austin_inc_2019.loc[:,['city','HOUSEHOLD INCOME','Unnamed: 1','Unnamed: 5']]\n",
    "\n",
    "#renaming column\n",
    "hh_austin_inc_2019 = hh_austin_inc_2019.rename(columns = {'HOUSEHOLD INCOME':'household_income','Unnamed: 1': 'household_count',\n",
    "                                                          'Unnamed: 5':'avg_income'})\n",
    "\n",
    "#stripping extra space in column\n",
    "hh_austin_inc_2019['household_income'] = hh_austin_inc_2019['household_income'].str.strip()\n",
    "\n",
    "#consolidating table\n",
    "hh_austin_inc_2019 = hh_austin_inc_2019.loc[(hh_austin_inc_2019['household_income']=='All households')|\n",
    "                                            (hh_austin_inc_2019['household_income']=='With earnings')|\n",
    "                                            (hh_austin_inc_2019['household_income']=='With wages or salary income')|\n",
    "                                            (hh_austin_inc_2019['household_income']=='With self-employment income')]\n",
    "\n",
    "#add year column\n",
    "hh_austin_inc_2019['year'] = 2019\n",
    "\n",
    "#reorder columns \n",
    "hh_austin_inc_2019 = hh_austin_inc_2019.loc[:,['city','household_income', 'year','household_count','avg_income']]\n",
    "\n",
    "hh_austin_inc_2019.head()"
   ]
  },
  {
   "cell_type": "code",
   "execution_count": null,
   "id": "b6ab1728",
   "metadata": {},
   "outputs": [],
   "source": [
    "#pulling out relevant columns\n",
    "hh_nash_inc_2020 = hh_nash_inc_2020.loc[:,['city','HOUSEHOLD INCOME','Unnamed: 1','Unnamed: 5']]\n",
    "\n",
    "#renaming column\n",
    "hh_nash_inc_2020 = hh_nash_inc_2020.rename(columns = {'HOUSEHOLD INCOME':'household_income','Unnamed: 1': 'household_count',\n",
    "                                                      'Unnamed: 5':'avg_income'})\n",
    "\n",
    "#stripping extra space in column\n",
    "hh_nash_inc_2020['household_income'] = hh_nash_inc_2020['household_income'].str.strip()\n",
    "\n",
    "#consolidating table\n",
    "hh_nash_inc_2020 = hh_nash_inc_2020.loc[(hh_nash_inc_2020['household_income']=='All households')|\n",
    "                                        (hh_nash_inc_2020['household_income']=='With earnings')|\n",
    "                                        (hh_nash_inc_2020['household_income']=='With wages or salary income')|\n",
    "                                        (hh_nash_inc_2020['household_income']=='With self-employment income')]\n",
    "\n",
    "#add year column\n",
    "hh_nash_inc_2020['year'] = 2020\n",
    "\n",
    "#reorder columns \n",
    "hh_nash_inc_2020 = hh_nash_inc_2020.loc[:,['city','household_income', 'year','household_count','avg_income']]\n",
    "\n",
    "hh_nash_inc_2020.head()"
   ]
  },
  {
   "cell_type": "code",
   "execution_count": null,
   "id": "738885ff",
   "metadata": {},
   "outputs": [],
   "source": [
    "#pulling out relevant columns\n",
    "hh_atl_inc_2020 = hh_atl_inc_2020.loc[:,['city','HOUSEHOLD INCOME','Unnamed: 1','Unnamed: 5']]\n",
    "\n",
    "#renaming column\n",
    "hh_atl_inc_2020 = hh_atl_inc_2020.rename(columns = {'HOUSEHOLD INCOME':'household_income','Unnamed: 1': 'household_count',\n",
    "                                                      'Unnamed: 5':'avg_income'})\n",
    "\n",
    "#stripping extra space in column\n",
    "hh_atl_inc_2020['household_income'] = hh_atl_inc_2020['household_income'].str.strip()\n",
    "\n",
    "#consolidating table\n",
    "hh_atl_inc_2020 = hh_atl_inc_2020.loc[(hh_atl_inc_2020['household_income']=='All households')|\n",
    "                                      (hh_atl_inc_2020['household_income']=='With earnings')|\n",
    "                                      (hh_atl_inc_2020['household_income']=='With wages or salary income')|\n",
    "                                      (hh_atl_inc_2020['household_income']=='With self-employment income')]\n",
    "\n",
    "#add year column\n",
    "hh_atl_inc_2020['year'] = 2020\n",
    "\n",
    "#reorder columns \n",
    "hh_atl_inc_2020 = hh_atl_inc_2020.loc[:,['city','household_income', 'year','household_count','avg_income']]\n",
    "\n",
    "hh_atl_inc_2020.head()"
   ]
  },
  {
   "cell_type": "code",
   "execution_count": null,
   "id": "9b3fd537",
   "metadata": {},
   "outputs": [],
   "source": [
    "#pulling out relevant columns\n",
    "hh_austin_inc_2020 = hh_austin_inc_2020.loc[:,['city','HOUSEHOLD INCOME','Unnamed: 1','Unnamed: 5']]\n",
    "\n",
    "#renaming column\n",
    "hh_austin_inc_2020 = hh_austin_inc_2020.rename(columns = {'HOUSEHOLD INCOME':'household_income','Unnamed: 1': 'household_count',\n",
    "                                                          'Unnamed: 5':'avg_income'})\n",
    "\n",
    "#stripping extra space in column\n",
    "hh_austin_inc_2020['household_income'] = hh_austin_inc_2020['household_income'].str.strip()\n",
    "\n",
    "#consolidating table\n",
    "hh_austin_inc_2020 = hh_austin_inc_2020.loc[(hh_austin_inc_2020['household_income']=='All households')|\n",
    "                                            (hh_austin_inc_2020['household_income']=='With earnings')|\n",
    "                                            (hh_austin_inc_2020['household_income']=='With wages or salary income')|\n",
    "                                            (hh_austin_inc_2020['household_income']=='With self-employment income')]\n",
    "\n",
    "#add year column\n",
    "hh_austin_inc_2020['year'] = 2020\n",
    "\n",
    "#reorder columns \n",
    "hh_austin_inc_2020 = hh_austin_inc_2020.loc[:,['city','household_income', 'year','household_count','avg_income']]\n",
    "\n",
    "hh_austin_inc_2020.head()"
   ]
  },
  {
   "cell_type": "code",
   "execution_count": null,
   "id": "3dc81357",
   "metadata": {},
   "outputs": [],
   "source": [
    "#pulling out relevant columns\n",
    "hh_nash_inc_2021 = hh_nash_inc_2021.loc[:,['city','HOUSEHOLD INCOME','Unnamed: 1','Unnamed: 5']]\n",
    "\n",
    "#renaming column\n",
    "hh_nash_inc_2021 = hh_nash_inc_2021.rename(columns = {'HOUSEHOLD INCOME':'household_income','Unnamed: 1': 'household_count',\n",
    "                                                      'Unnamed: 5':'avg_income'})\n",
    "\n",
    "#stripping extra space in column\n",
    "hh_nash_inc_2021['household_income'] = hh_nash_inc_2021['household_income'].str.strip()\n",
    "\n",
    "#consolidating table\n",
    "hh_nash_inc_2021 = hh_nash_inc_2021.loc[(hh_nash_inc_2021['household_income']=='All households')|\n",
    "                                        (hh_nash_inc_2021['household_income']=='With earnings')|\n",
    "                                        (hh_nash_inc_2021['household_income']=='With wages or salary income')|\n",
    "                                        (hh_nash_inc_2021['household_income']=='With self-employment income')]\n",
    "\n",
    "#add year column\n",
    "hh_nash_inc_2021['year'] = 2021\n",
    "\n",
    "#reorder columns \n",
    "hh_nash_inc_2021 = hh_nash_inc_2021.loc[:,['city','household_income', 'year','household_count','avg_income']]\n",
    "\n",
    "hh_nash_inc_2021.head()"
   ]
  },
  {
   "cell_type": "code",
   "execution_count": null,
   "id": "0786c5f4",
   "metadata": {},
   "outputs": [],
   "source": [
    "#pulling out relevant columns\n",
    "hh_atl_inc_2021 = hh_atl_inc_2021.loc[:,['city','HOUSEHOLD INCOME','Unnamed: 1','Unnamed: 5']]\n",
    "\n",
    "#renaming column\n",
    "hh_atl_inc_2021 = hh_atl_inc_2021.rename(columns = {'HOUSEHOLD INCOME':'household_income','Unnamed: 1': 'household_count',\n",
    "                                                      'Unnamed: 5':'avg_income'})\n",
    "\n",
    "#stripping extra space in column\n",
    "hh_atl_inc_2021['household_income'] = hh_atl_inc_2021['household_income'].str.strip()\n",
    "\n",
    "#consolidating table\n",
    "hh_atl_inc_2021 = hh_atl_inc_2021.loc[(hh_atl_inc_2021['household_income']=='All households')|\n",
    "                                      (hh_atl_inc_2021['household_income']=='With earnings')|\n",
    "                                      (hh_atl_inc_2021['household_income']=='With wages or salary income')|\n",
    "                                      (hh_atl_inc_2021['household_income']=='With self-employment income')]\n",
    "\n",
    "#add year column\n",
    "hh_atl_inc_2021['year'] = 2021\n",
    "\n",
    "#reorder columns \n",
    "hh_atl_inc_2021 = hh_atl_inc_2021.loc[:,['city','household_income', 'year','household_count','avg_income']]\n",
    "\n",
    "hh_atl_inc_2021.head()"
   ]
  },
  {
   "cell_type": "code",
   "execution_count": null,
   "id": "7f1f8682",
   "metadata": {},
   "outputs": [],
   "source": [
    "#pulling out relevant columns\n",
    "hh_austin_inc_2021 = hh_austin_inc_2021.loc[:,['city','HOUSEHOLD INCOME','Unnamed: 1','Unnamed: 5']]\n",
    "\n",
    "#renaming column\n",
    "hh_austin_inc_2021 = hh_austin_inc_2021.rename(columns = {'HOUSEHOLD INCOME':'household_income','Unnamed: 1': 'household_count',\n",
    "                                                          'Unnamed: 5':'avg_income'})\n",
    "\n",
    "#stripping extra space in column\n",
    "hh_austin_inc_2021['household_income'] = hh_austin_inc_2021['household_income'].str.strip()\n",
    "\n",
    "#consolidating table\n",
    "hh_austin_inc_2021 = hh_austin_inc_2021.loc[(hh_austin_inc_2021['household_income']=='All households')|\n",
    "                                            (hh_austin_inc_2021['household_income']=='With earnings')|\n",
    "                                            (hh_austin_inc_2021['household_income']=='With wages or salary income')|\n",
    "                                            (hh_austin_inc_2021['household_income']=='With self-employment income')]\n",
    "\n",
    "#add year column\n",
    "hh_austin_inc_2021['year'] = 2021\n",
    "\n",
    "#reorder columns \n",
    "hh_austin_inc_2021 = hh_austin_inc_2021.loc[:,['city','household_income', 'year','household_count','avg_income']]\n",
    "\n",
    "hh_austin_inc_2021.head()"
   ]
  },
  {
   "cell_type": "code",
   "execution_count": null,
   "id": "c7511f3e",
   "metadata": {},
   "outputs": [],
   "source": [
    "#family income 2017\n",
    "fs_nash_inc_2017 = pd.read_csv('../data/nash_mean_inc_2017.csv',header = [13])\n",
    "\n",
    "#add city column\n",
    "fs_nash_inc_2017['city'] = 'Nashville'\n",
    "fs_nash_inc_2017.head()"
   ]
  },
  {
   "cell_type": "code",
   "execution_count": null,
   "id": "c2cab04a",
   "metadata": {},
   "outputs": [],
   "source": [
    "#family income 2017\n",
    "fs_atl_inc_2017 = pd.read_csv('../data/atl_mean_inc_2017.csv',header = [13])\n",
    "\n",
    "#add city column\n",
    "fs_atl_inc_2017['city'] = 'Atlanta'\n",
    "fs_atl_inc_2017.head()"
   ]
  },
  {
   "cell_type": "code",
   "execution_count": null,
   "id": "a27b1e5a",
   "metadata": {},
   "outputs": [],
   "source": [
    "#family income 2017\n",
    "fs_austin_inc_2017 = pd.read_csv('../data/austin_mean_inc_2017.csv',header = [13])\n",
    "\n",
    "#add city column\n",
    "fs_austin_inc_2017['city'] = 'Austin'\n",
    "fs_austin_inc_2017.head()"
   ]
  },
  {
   "cell_type": "code",
   "execution_count": null,
   "id": "cd1fd90d",
   "metadata": {},
   "outputs": [],
   "source": [
    "#family income 2018\n",
    "fs_nash_inc_2018 = pd.read_csv('../data/nash_mean_inc_2018.csv',header = [13])\n",
    "\n",
    "#add city column\n",
    "fs_nash_inc_2018['city'] = 'Nashville'\n",
    "fs_nash_inc_2018.head()"
   ]
  },
  {
   "cell_type": "code",
   "execution_count": null,
   "id": "dbf780be",
   "metadata": {},
   "outputs": [],
   "source": [
    "#family income 2018\n",
    "fs_atl_inc_2018 = pd.read_csv('../data/atl_mean_inc_2018.csv',header = [13])\n",
    "\n",
    "#add city column\n",
    "fs_atl_inc_2018['city'] = 'Atlanta'\n",
    "fs_atl_inc_2018.head()"
   ]
  },
  {
   "cell_type": "code",
   "execution_count": null,
   "id": "ed65dc63",
   "metadata": {},
   "outputs": [],
   "source": [
    "#family income 2018\n",
    "fs_austin_inc_2018 = pd.read_csv('../data/austin_mean_inc_2018.csv',header = [13])\n",
    "\n",
    "#add city column\n",
    "fs_austin_inc_2018['city'] = 'Austin'\n",
    "fs_austin_inc_2018.head()"
   ]
  },
  {
   "cell_type": "code",
   "execution_count": null,
   "id": "4145df46",
   "metadata": {},
   "outputs": [],
   "source": [
    "#family income 2019\n",
    "fs_nash_inc_2019 = pd.read_csv('../data/nash_mean_inc_2019.csv',header = [13])\n",
    "\n",
    "#add city column\n",
    "fs_nash_inc_2019['city'] = 'Nashville'\n",
    "fs_nash_inc_2019.head()"
   ]
  },
  {
   "cell_type": "code",
   "execution_count": null,
   "id": "dce76281",
   "metadata": {},
   "outputs": [],
   "source": [
    "#family income 2019\n",
    "fs_atl_inc_2019 = pd.read_csv('../data/atl_mean_inc_2019.csv',header = [13])\n",
    "\n",
    "#add city column\n",
    "fs_atl_inc_2019['city'] = 'Atlanta'\n",
    "fs_atl_inc_2019.head()"
   ]
  },
  {
   "cell_type": "code",
   "execution_count": null,
   "id": "4831513c",
   "metadata": {},
   "outputs": [],
   "source": [
    "#family income 2019\n",
    "fs_austin_inc_2019 = pd.read_csv('../data/austin_mean_inc_2019.csv',header = [13])\n",
    "\n",
    "#add city column\n",
    "fs_austin_inc_2019['city'] = 'Austin'\n",
    "fs_austin_inc_2019.head()"
   ]
  },
  {
   "cell_type": "code",
   "execution_count": null,
   "id": "53e88135",
   "metadata": {},
   "outputs": [],
   "source": [
    "#family income 2020\n",
    "fs_nash_inc_2020 = pd.read_csv('../data/nashville_mean_inc_2020.csv',header = [13])\n",
    "\n",
    "#add city column\n",
    "fs_nash_inc_2020['city'] = 'Nashville'\n",
    "fs_nash_inc_2020.head()"
   ]
  },
  {
   "cell_type": "code",
   "execution_count": null,
   "id": "81c42ff7",
   "metadata": {},
   "outputs": [],
   "source": [
    "#family income 2020\n",
    "fs_atl_inc_2020 = pd.read_csv('../data/atl_mean_inc_2020.csv',header = [13])\n",
    "\n",
    "#add city column\n",
    "fs_atl_inc_2020['city'] = 'Atlanta'\n",
    "fs_atl_inc_2020.head()"
   ]
  },
  {
   "cell_type": "code",
   "execution_count": null,
   "id": "a06c1112",
   "metadata": {},
   "outputs": [],
   "source": [
    "#family income 2020\n",
    "fs_austin_inc_2020 = pd.read_csv('../data/austin_mean_inc_2020.csv',header = [13])\n",
    "\n",
    "#add city column\n",
    "fs_austin_inc_2020['city'] = 'Austin'\n",
    "fs_austin_inc_2020.head()"
   ]
  },
  {
   "cell_type": "code",
   "execution_count": null,
   "id": "4e34a165",
   "metadata": {},
   "outputs": [],
   "source": [
    "#family income 2021\n",
    "fs_nash_inc_2021 = pd.read_csv('../data/nash_mean_inc_2021.csv',header = [13])\n",
    "\n",
    "#add city column\n",
    "fs_nash_inc_2021['city'] = 'Nashville'\n",
    "fs_nash_inc_2021.head()"
   ]
  },
  {
   "cell_type": "code",
   "execution_count": null,
   "id": "983fa6bb",
   "metadata": {},
   "outputs": [],
   "source": [
    "#family income 2021\n",
    "fs_atl_inc_2021 = pd.read_csv('../data/atl_mean_inc_2021.csv',header = [13])\n",
    "\n",
    "#add city column\n",
    "fs_atl_inc_2021['city'] = 'Atlanta'\n",
    "fs_atl_inc_2021.head()"
   ]
  },
  {
   "cell_type": "code",
   "execution_count": null,
   "id": "698af497",
   "metadata": {},
   "outputs": [],
   "source": [
    "#family income 2021\n",
    "fs_austin_inc_2021 = pd.read_csv('../data/austin_mean_inc_2021.csv',header = [13])\n",
    "\n",
    "#add city column\n",
    "fs_austin_inc_2021['city'] = 'Austin'\n",
    "fs_austin_inc_2021.head()"
   ]
  },
  {
   "cell_type": "code",
   "execution_count": null,
   "id": "9847f691",
   "metadata": {},
   "outputs": [],
   "source": [
    "fs_nash_inc_2017.columns"
   ]
  },
  {
   "cell_type": "code",
   "execution_count": null,
   "id": "5474e35d",
   "metadata": {},
   "outputs": [],
   "source": [
    "#pulling out relevant columns\n",
    "fs_nash_inc_2017 = fs_nash_inc_2017.loc[:,['city','FAMILY INCOME BY NUMBER OF WORKERS IN FAMILY','Unnamed: 1','Unnamed: 5']]\n",
    "\n",
    "#renaming column\n",
    "fs_nash_inc_2017 = fs_nash_inc_2017.rename(columns = {'FAMILY INCOME BY NUMBER OF WORKERS IN FAMILY':'family_size',\n",
    "                                                      'Unnamed: 1': 'household_count',\n",
    "                                                      'Unnamed: 5':'avg_income'})\n",
    "\n",
    "#stripping extra space in column\n",
    "fs_nash_inc_2017['family_size'] = fs_nash_inc_2017['family_size'].str.strip()\n",
    "\n",
    "#consolidating table\n",
    "fs_nash_inc_2017 = fs_nash_inc_2017.loc[(fs_nash_inc_2017['family_size']=='1 worker')|\n",
    "                                        (fs_nash_inc_2017['family_size']=='2 workers, husband and wife worked')|\n",
    "                                        (fs_nash_inc_2017['family_size']=='2 workers, other')|\n",
    "                                        (fs_nash_inc_2017['family_size']=='3 or more workers, husband and wife worked')|\n",
    "                                        (fs_nash_inc_2017['family_size']=='3 or more workers, other')].reset_index(drop=True)\n",
    "\n",
    "#add year column\n",
    "fs_nash_inc_2017['year'] = 2017\n",
    "\n",
    "#reorder columns \n",
    "fs_nash_inc_2017 = fs_nash_inc_2017.loc[:,['city','family_size', 'year','household_count','avg_income']]\n",
    "\n",
    "fs_nash_inc_2017.head()"
   ]
  },
  {
   "cell_type": "code",
   "execution_count": null,
   "id": "5d394782",
   "metadata": {},
   "outputs": [],
   "source": [
    "#pulling out relevant columns\n",
    "fs_atl_inc_2017 = fs_atl_inc_2017.loc[:,['city','FAMILY INCOME BY NUMBER OF WORKERS IN FAMILY','Unnamed: 1','Unnamed: 5']]\n",
    "\n",
    "#renaming column\n",
    "fs_atl_inc_2017 = fs_atl_inc_2017.rename(columns = {'FAMILY INCOME BY NUMBER OF WORKERS IN FAMILY':'family_size',\n",
    "                                                      'Unnamed: 1': 'household_count',\n",
    "                                                      'Unnamed: 5':'avg_income'})\n",
    "\n",
    "#stripping extra space in column\n",
    "fs_atl_inc_2017['family_size'] = fs_atl_inc_2017['family_size'].str.strip()\n",
    "\n",
    "#consolidating table\n",
    "fs_atl_inc_2017 = fs_atl_inc_2017.loc[(fs_atl_inc_2017['family_size']=='1 worker')|\n",
    "                                        (fs_atl_inc_2017['family_size']=='2 workers, husband and wife worked')|\n",
    "                                        (fs_atl_inc_2017['family_size']=='2 workers, other')|\n",
    "                                        (fs_atl_inc_2017['family_size']=='3 or more workers, husband and wife worked')|\n",
    "                                        (fs_atl_inc_2017['family_size']=='3 or more workers, other')].reset_index(drop=True)\n",
    "\n",
    "#add year column\n",
    "fs_atl_inc_2017['year'] = 2017\n",
    "\n",
    "#reorder columns \n",
    "fs_atl_inc_2017 = fs_atl_inc_2017.loc[:,['city','family_size', 'year','household_count','avg_income']]\n",
    "\n",
    "fs_atl_inc_2017.head()"
   ]
  },
  {
   "cell_type": "code",
   "execution_count": null,
   "id": "40b38641",
   "metadata": {},
   "outputs": [],
   "source": [
    "#pulling out relevant columns\n",
    "fs_austin_inc_2017 = fs_austin_inc_2017.loc[:,['city','FAMILY INCOME BY NUMBER OF WORKERS IN FAMILY','Unnamed: 1','Unnamed: 5']]\n",
    "\n",
    "#renaming column\n",
    "fs_austin_inc_2017 = fs_austin_inc_2017.rename(columns = {'FAMILY INCOME BY NUMBER OF WORKERS IN FAMILY':'family_size',\n",
    "                                                      'Unnamed: 1': 'household_count',\n",
    "                                                      'Unnamed: 5':'avg_income'})\n",
    "\n",
    "#stripping extra space in column\n",
    "fs_austin_inc_2017['family_size'] = fs_austin_inc_2017['family_size'].str.strip()\n",
    "\n",
    "#consolidating table\n",
    "fs_austin_inc_2017 = fs_austin_inc_2017.loc[(fs_austin_inc_2017['family_size']=='1 worker')|\n",
    "                                        (fs_austin_inc_2017['family_size']=='2 workers, husband and wife worked')|\n",
    "                                        (fs_austin_inc_2017['family_size']=='2 workers, other')|\n",
    "                                        (fs_austin_inc_2017['family_size']=='3 or more workers, husband and wife worked')|\n",
    "                                        (fs_austin_inc_2017['family_size']=='3 or more workers, other')].reset_index(drop=True)\n",
    "\n",
    "#add year column\n",
    "fs_austin_inc_2017['year'] = 2017\n",
    "\n",
    "#reorder columns \n",
    "fs_austin_inc_2017 = fs_austin_inc_2017.loc[:,['city','family_size', 'year','household_count','avg_income']]\n",
    "\n",
    "fs_austin_inc_2017.head()"
   ]
  },
  {
   "cell_type": "code",
   "execution_count": null,
   "id": "ae6d9593",
   "metadata": {},
   "outputs": [],
   "source": [
    "#pulling out relevant columns\n",
    "fs_nash_inc_2018 = fs_nash_inc_2018.loc[:,['city','FAMILY INCOME BY NUMBER OF WORKERS IN FAMILY','Unnamed: 1','Unnamed: 5']]\n",
    "\n",
    "#renaming column\n",
    "fs_nash_inc_2018 = fs_nash_inc_2018.rename(columns = {'FAMILY INCOME BY NUMBER OF WORKERS IN FAMILY':'family_size',\n",
    "                                                      'Unnamed: 1': 'household_count',\n",
    "                                                      'Unnamed: 5':'avg_income'})\n",
    "\n",
    "#stripping extra space in column\n",
    "fs_nash_inc_2018['family_size'] = fs_nash_inc_2018['family_size'].str.strip()\n",
    "\n",
    "#consolidating table\n",
    "fs_nash_inc_2018 = fs_nash_inc_2018.loc[(fs_nash_inc_2018['family_size']=='1 worker')|\n",
    "                                        (fs_nash_inc_2018['family_size']=='2 workers, husband and wife worked')|\n",
    "                                        (fs_nash_inc_2018['family_size']=='2 workers, other')|\n",
    "                                        (fs_nash_inc_2018['family_size']=='3 or more workers, husband and wife worked')|\n",
    "                                        (fs_nash_inc_2018['family_size']=='3 or more workers, other')].reset_index(drop=True)\n",
    "\n",
    "#add year column\n",
    "fs_nash_inc_2018['year'] = 2018\n",
    "\n",
    "#reorder columns \n",
    "fs_nash_inc_2018 = fs_nash_inc_2018.loc[:,['city','family_size', 'year','household_count','avg_income']]\n",
    "\n",
    "fs_nash_inc_2018.head()"
   ]
  },
  {
   "cell_type": "code",
   "execution_count": null,
   "id": "68532b5a",
   "metadata": {},
   "outputs": [],
   "source": [
    "#pulling out relevant columns\n",
    "fs_atl_inc_2018 = fs_atl_inc_2018.loc[:,['city','FAMILY INCOME BY NUMBER OF WORKERS IN FAMILY','Unnamed: 1','Unnamed: 5']]\n",
    "\n",
    "#renaming column\n",
    "fs_atl_inc_2018 = fs_atl_inc_2018.rename(columns = {'FAMILY INCOME BY NUMBER OF WORKERS IN FAMILY':'family_size',\n",
    "                                                      'Unnamed: 1': 'household_count',\n",
    "                                                      'Unnamed: 5':'avg_income'})\n",
    "\n",
    "#stripping extra space in column\n",
    "fs_atl_inc_2018['family_size'] = fs_atl_inc_2018['family_size'].str.strip()\n",
    "\n",
    "#consolidating table\n",
    "fs_atl_inc_2018 = fs_atl_inc_2018.loc[(fs_atl_inc_2018['family_size']=='1 worker')|\n",
    "                                        (fs_atl_inc_2018['family_size']=='2 workers, husband and wife worked')|\n",
    "                                        (fs_atl_inc_2018['family_size']=='2 workers, other')|\n",
    "                                        (fs_atl_inc_2018['family_size']=='3 or more workers, husband and wife worked')|\n",
    "                                        (fs_atl_inc_2018['family_size']=='3 or more workers, other')].reset_index(drop=True)\n",
    "\n",
    "#add year column\n",
    "fs_atl_inc_2018['year'] = 2018\n",
    "\n",
    "#reorder columns \n",
    "fs_atl_inc_2018 = fs_atl_inc_2018.loc[:,['city','family_size', 'year','household_count','avg_income']]\n",
    "\n",
    "fs_atl_inc_2018.head()"
   ]
  },
  {
   "cell_type": "code",
   "execution_count": null,
   "id": "969ddf68",
   "metadata": {},
   "outputs": [],
   "source": [
    "#pulling out relevant columns\n",
    "fs_austin_inc_2018 = fs_austin_inc_2018.loc[:,['city','FAMILY INCOME BY NUMBER OF WORKERS IN FAMILY','Unnamed: 1','Unnamed: 5']]\n",
    "\n",
    "#renaming column\n",
    "fs_austin_inc_2018 = fs_austin_inc_2018.rename(columns = {'FAMILY INCOME BY NUMBER OF WORKERS IN FAMILY':'family_size',\n",
    "                                                      'Unnamed: 1': 'household_count',\n",
    "                                                      'Unnamed: 5':'avg_income'})\n",
    "\n",
    "#stripping extra space in column\n",
    "fs_austin_inc_2018['family_size'] = fs_austin_inc_2018['family_size'].str.strip()\n",
    "\n",
    "#consolidating table\n",
    "fs_austin_inc_2018 = fs_austin_inc_2018.loc[(fs_austin_inc_2018['family_size']=='1 worker')|\n",
    "                                        (fs_austin_inc_2018['family_size']=='2 workers, husband and wife worked')|\n",
    "                                        (fs_austin_inc_2018['family_size']=='2 workers, other')|\n",
    "                                        (fs_austin_inc_2018['family_size']=='3 or more workers, husband and wife worked')|\n",
    "                                        (fs_austin_inc_2018['family_size']=='3 or more workers, other')].reset_index(drop=True)\n",
    "\n",
    "#add year column\n",
    "fs_austin_inc_2018['year'] = 2018\n",
    "\n",
    "#reorder columns \n",
    "fs_austin_inc_2018 = fs_austin_inc_2018.loc[:,['city','family_size', 'year','household_count','avg_income']]\n",
    "\n",
    "fs_austin_inc_2018.head()"
   ]
  },
  {
   "cell_type": "code",
   "execution_count": null,
   "id": "ed56a335",
   "metadata": {},
   "outputs": [],
   "source": [
    "#pulling out relevant columns\n",
    "fs_nash_inc_2019 = fs_nash_inc_2019.loc[:,['city','FAMILY INCOME BY NUMBER OF WORKERS IN FAMILY','Unnamed: 1','Unnamed: 5']]\n",
    "\n",
    "#renaming column\n",
    "fs_nash_inc_2019 = fs_nash_inc_2019.rename(columns = {'FAMILY INCOME BY NUMBER OF WORKERS IN FAMILY':'family_size',\n",
    "                                                      'Unnamed: 1': 'household_count',\n",
    "                                                      'Unnamed: 5':'avg_income'})\n",
    "\n",
    "#stripping extra space in column\n",
    "fs_nash_inc_2019['family_size'] = fs_nash_inc_2019['family_size'].str.strip()\n",
    "\n",
    "#consolidating table\n",
    "fs_nash_inc_2019 = fs_nash_inc_2019.loc[(fs_nash_inc_2019['family_size']=='1 worker')|\n",
    "                                        (fs_nash_inc_2019['family_size']=='2 workers, husband and wife worked')|\n",
    "                                        (fs_nash_inc_2019['family_size']=='2 workers, other')|\n",
    "                                        (fs_nash_inc_2019['family_size']=='3 or more workers, husband and wife worked')|\n",
    "                                        (fs_nash_inc_2019['family_size']=='3 or more workers, other')].reset_index(drop= True)\n",
    "\n",
    "#add year column\n",
    "fs_nash_inc_2019['year'] = 2019\n",
    "\n",
    "#reorder columns \n",
    "fs_nash_inc_2019 = fs_nash_inc_2019.loc[:,['city','family_size', 'year','household_count','avg_income']]\n",
    "\n",
    "fs_nash_inc_2019.head()"
   ]
  },
  {
   "cell_type": "code",
   "execution_count": null,
   "id": "d2830f3d",
   "metadata": {},
   "outputs": [],
   "source": [
    "#pulling out relevant columns\n",
    "fs_atl_inc_2019 = fs_atl_inc_2019.loc[:,['city','FAMILY INCOME BY NUMBER OF WORKERS IN FAMILY','Unnamed: 1','Unnamed: 5']]\n",
    "\n",
    "#renaming column\n",
    "fs_atl_inc_2019 = fs_atl_inc_2019.rename(columns = {'FAMILY INCOME BY NUMBER OF WORKERS IN FAMILY':'family_size',\n",
    "                                                      'Unnamed: 1': 'household_count',\n",
    "                                                      'Unnamed: 5':'avg_income'})\n",
    "\n",
    "#stripping extra space in column\n",
    "fs_atl_inc_2019['family_size'] = fs_atl_inc_2019['family_size'].str.strip()\n",
    "\n",
    "#consolidating table\n",
    "fs_atl_inc_2019 = fs_atl_inc_2019.loc[(fs_atl_inc_2019['family_size']=='1 worker')|\n",
    "                                        (fs_atl_inc_2019['family_size']=='2 workers, husband and wife worked')|\n",
    "                                        (fs_atl_inc_2019['family_size']=='2 workers, other')|\n",
    "                                        (fs_atl_inc_2019['family_size']=='3 or more workers, husband and wife worked')|\n",
    "                                        (fs_atl_inc_2019['family_size']=='3 or more workers, other')].reset_index(drop= True)\n",
    "\n",
    "#add year column\n",
    "fs_atl_inc_2019['year'] = 2019\n",
    "\n",
    "#reorder columns \n",
    "fs_atl_inc_2019 = fs_atl_inc_2019.loc[:,['city','family_size', 'year','household_count','avg_income']]\n",
    "\n",
    "fs_atl_inc_2019.head()"
   ]
  },
  {
   "cell_type": "code",
   "execution_count": null,
   "id": "4be85cf3",
   "metadata": {},
   "outputs": [],
   "source": [
    "#pulling out relevant columns\n",
    "fs_austin_inc_2019 = fs_austin_inc_2019.loc[:,['city','FAMILY INCOME BY NUMBER OF WORKERS IN FAMILY','Unnamed: 1','Unnamed: 5']]\n",
    "\n",
    "#renaming column\n",
    "fs_austin_inc_2019 = fs_austin_inc_2019.rename(columns = {'FAMILY INCOME BY NUMBER OF WORKERS IN FAMILY':'family_size',\n",
    "                                                      'Unnamed: 1': 'household_count',\n",
    "                                                      'Unnamed: 5':'avg_income'})\n",
    "\n",
    "#stripping extra space in column\n",
    "fs_austin_inc_2019['family_size'] = fs_austin_inc_2019['family_size'].str.strip()\n",
    "\n",
    "#consolidating table\n",
    "fs_austin_inc_2019 = fs_austin_inc_2019.loc[(fs_austin_inc_2019['family_size']=='1 worker')|\n",
    "                                        (fs_austin_inc_2019['family_size']=='2 workers, husband and wife worked')|\n",
    "                                        (fs_austin_inc_2019['family_size']=='2 workers, other')|\n",
    "                                        (fs_austin_inc_2019['family_size']=='3 or more workers, husband and wife worked')|\n",
    "                                        (fs_austin_inc_2019['family_size']=='3 or more workers, other')].reset_index(drop= True)\n",
    "\n",
    "#add year column\n",
    "fs_austin_inc_2019['year'] = 2019\n",
    "\n",
    "#reorder columns \n",
    "fs_austin_inc_2019 = fs_austin_inc_2019.loc[:,['city','family_size', 'year','household_count','avg_income']]\n",
    "\n",
    "fs_austin_inc_2019.head()"
   ]
  },
  {
   "cell_type": "code",
   "execution_count": null,
   "id": "2d9087e3",
   "metadata": {},
   "outputs": [],
   "source": [
    "#pulling out relevant columns\n",
    "fs_nash_inc_2020 = fs_nash_inc_2020.loc[:,['city','FAMILY INCOME BY NUMBER OF WORKERS IN FAMILY','Unnamed: 1','Unnamed: 5']]\n",
    "\n",
    "#renaming column\n",
    "fs_nash_inc_2020 = fs_nash_inc_2020.rename(columns = {'FAMILY INCOME BY NUMBER OF WORKERS IN FAMILY':'family_size',\n",
    "                                                      'Unnamed: 1': 'household_count',\n",
    "                                                      'Unnamed: 5':'avg_income'})\n",
    "\n",
    "#stripping extra space in column\n",
    "fs_nash_inc_2020['family_size'] = fs_nash_inc_2020['family_size'].str.strip()\n",
    "\n",
    "#consolidating table\n",
    "fs_nash_inc_2020 = fs_nash_inc_2020.loc[(fs_nash_inc_2020['family_size']=='1 worker')|\n",
    "                                        (fs_nash_inc_2020['family_size']=='2 workers, husband and wife worked')|\n",
    "                                        (fs_nash_inc_2020['family_size']=='2 workers, other')|\n",
    "                                        (fs_nash_inc_2020['family_size']=='3 or more workers, husband and wife worked')|\n",
    "                                        (fs_nash_inc_2020['family_size']=='3 or more workers, other')].reset_index(drop=True)\n",
    "\n",
    "#add year column\n",
    "fs_nash_inc_2020['year'] = 2020\n",
    "\n",
    "#reorder columns \n",
    "fs_nash_inc_2020 = fs_nash_inc_2020.loc[:,['city','family_size', 'year','household_count','avg_income']]\n",
    "\n",
    "fs_nash_inc_2020.head()"
   ]
  },
  {
   "cell_type": "code",
   "execution_count": null,
   "id": "69a5f744",
   "metadata": {},
   "outputs": [],
   "source": [
    "#pulling out relevant columns\n",
    "fs_atl_inc_2020 = fs_atl_inc_2020.loc[:,['city','FAMILY INCOME BY NUMBER OF WORKERS IN FAMILY','Unnamed: 1','Unnamed: 5']]\n",
    "\n",
    "#renaming column\n",
    "fs_atl_inc_2020 = fs_atl_inc_2020.rename(columns = {'FAMILY INCOME BY NUMBER OF WORKERS IN FAMILY':'family_size',\n",
    "                                                      'Unnamed: 1': 'household_count',\n",
    "                                                      'Unnamed: 5':'avg_income'})\n",
    "\n",
    "#stripping extra space in column\n",
    "fs_atl_inc_2020['family_size'] = fs_atl_inc_2020['family_size'].str.strip()\n",
    "\n",
    "#consolidating table\n",
    "fs_atl_inc_2020 = fs_atl_inc_2020.loc[(fs_atl_inc_2020['family_size']=='1 worker')|\n",
    "                                        (fs_atl_inc_2020['family_size']=='2 workers, husband and wife worked')|\n",
    "                                        (fs_atl_inc_2020['family_size']=='2 workers, other')|\n",
    "                                        (fs_atl_inc_2020['family_size']=='3 or more workers, husband and wife worked')|\n",
    "                                        (fs_atl_inc_2020['family_size']=='3 or more workers, other')].reset_index(drop=True)\n",
    "\n",
    "#add year column\n",
    "fs_atl_inc_2020['year'] = 2020\n",
    "\n",
    "#reorder columns \n",
    "fs_atl_inc_2020 = fs_atl_inc_2020.loc[:,['city','family_size', 'year','household_count','avg_income']]\n",
    "\n",
    "fs_atl_inc_2020.head()"
   ]
  },
  {
   "cell_type": "code",
   "execution_count": null,
   "id": "a27f1b78",
   "metadata": {},
   "outputs": [],
   "source": [
    "#pulling out relevant columns\n",
    "fs_austin_inc_2020 = fs_austin_inc_2020.loc[:,['city','FAMILY INCOME BY NUMBER OF WORKERS IN FAMILY','Unnamed: 1','Unnamed: 5']]\n",
    "\n",
    "#renaming column\n",
    "fs_austin_inc_2020 = fs_austin_inc_2020.rename(columns = {'FAMILY INCOME BY NUMBER OF WORKERS IN FAMILY':'family_size',\n",
    "                                                      'Unnamed: 1': 'household_count',\n",
    "                                                      'Unnamed: 5':'avg_income'})\n",
    "\n",
    "#stripping extra space in column\n",
    "fs_austin_inc_2020['family_size'] = fs_austin_inc_2020['family_size'].str.strip()\n",
    "\n",
    "#consolidating table\n",
    "fs_austin_inc_2020 = fs_austin_inc_2020.loc[(fs_austin_inc_2020['family_size']=='1 worker')|\n",
    "                                        (fs_austin_inc_2020['family_size']=='2 workers, husband and wife worked')|\n",
    "                                        (fs_austin_inc_2020['family_size']=='2 workers, other')|\n",
    "                                        (fs_austin_inc_2020['family_size']=='3 or more workers, husband and wife worked')|\n",
    "                                        (fs_austin_inc_2020['family_size']=='3 or more workers, other')].reset_index(drop=True)\n",
    "\n",
    "#add year column\n",
    "fs_austin_inc_2020['year'] = 2020\n",
    "\n",
    "#reorder columns \n",
    "fs_austin_inc_2020 = fs_austin_inc_2020.loc[:,['city','family_size', 'year','household_count','avg_income']]\n",
    "\n",
    "fs_austin_inc_2020.head()"
   ]
  },
  {
   "cell_type": "code",
   "execution_count": null,
   "id": "649e0801",
   "metadata": {},
   "outputs": [],
   "source": [
    "#pulling out relevant columns\n",
    "fs_nash_inc_2021 = fs_nash_inc_2021.loc[:,['city','FAMILY INCOME BY NUMBER OF WORKERS IN FAMILY','Unnamed: 1','Unnamed: 5']]\n",
    "\n",
    "#renaming column\n",
    "fs_nash_inc_2021 = fs_nash_inc_2021.rename(columns = {'FAMILY INCOME BY NUMBER OF WORKERS IN FAMILY':'family_size',\n",
    "                                                      'Unnamed: 1': 'household_count',\n",
    "                                                      'Unnamed: 5':'avg_income'})\n",
    "\n",
    "#stripping extra space in column\n",
    "fs_nash_inc_2021['family_size'] = fs_nash_inc_2021['family_size'].str.strip()\n",
    "\n",
    "#consolidating table\n",
    "fs_nash_inc_2021 = fs_nash_inc_2021.loc[(fs_nash_inc_2021['family_size']=='1 worker')|\n",
    "                                        (fs_nash_inc_2021['family_size']=='2 workers, husband and wife worked')|\n",
    "                                        (fs_nash_inc_2021['family_size']=='2 workers, other')|\n",
    "                                        (fs_nash_inc_2021['family_size']=='3 or more workers, husband and wife worked')|\n",
    "                                        (fs_nash_inc_2021['family_size']=='3 or more workers, other')].reset_index(drop=True)\n",
    "\n",
    "#add year column\n",
    "fs_nash_inc_2021['year'] = 2021\n",
    "\n",
    "#reorder columns \n",
    "fs_nash_inc_2021 = fs_nash_inc_2021.loc[:,['city','family_size', 'year','household_count','avg_income']]\n",
    "\n",
    "fs_nash_inc_2021.head()"
   ]
  },
  {
   "cell_type": "code",
   "execution_count": null,
   "id": "4c7097c1",
   "metadata": {},
   "outputs": [],
   "source": [
    "#pulling out relevant columns\n",
    "fs_atl_inc_2021 = fs_atl_inc_2021.loc[:,['city','FAMILY INCOME BY NUMBER OF WORKERS IN FAMILY','Unnamed: 1','Unnamed: 5']]\n",
    "\n",
    "#renaming column\n",
    "fs_atl_inc_2021 = fs_atl_inc_2021.rename(columns = {'FAMILY INCOME BY NUMBER OF WORKERS IN FAMILY':'family_size',\n",
    "                                                      'Unnamed: 1': 'household_count',\n",
    "                                                      'Unnamed: 5':'avg_income'})\n",
    "\n",
    "#stripping extra space in column\n",
    "fs_atl_inc_2021['family_size'] = fs_atl_inc_2021['family_size'].str.strip()\n",
    "\n",
    "#consolidating table\n",
    "fs_atl_inc_2021 = fs_atl_inc_2021.loc[(fs_atl_inc_2021['family_size']=='1 worker')|\n",
    "                                        (fs_atl_inc_2021['family_size']=='2 workers, husband and wife worked')|\n",
    "                                        (fs_atl_inc_2021['family_size']=='2 workers, other')|\n",
    "                                        (fs_atl_inc_2021['family_size']=='3 or more workers, husband and wife worked')|\n",
    "                                        (fs_atl_inc_2021['family_size']=='3 or more workers, other')].reset_index(drop=True)\n",
    "\n",
    "#add year column\n",
    "fs_atl_inc_2021['year'] = 2021\n",
    "\n",
    "#reorder columns \n",
    "fs_atl_inc_2021 = fs_atl_inc_2021.loc[:,['city','family_size', 'year','household_count','avg_income']]\n",
    "\n",
    "fs_atl_inc_2021.head()"
   ]
  },
  {
   "cell_type": "code",
   "execution_count": null,
   "id": "5258538b",
   "metadata": {},
   "outputs": [],
   "source": [
    "#pulling out relevant columns\n",
    "fs_austin_inc_2021 = fs_austin_inc_2021.loc[:,['city','FAMILY INCOME BY NUMBER OF WORKERS IN FAMILY','Unnamed: 1','Unnamed: 5']]\n",
    "\n",
    "#renaming column\n",
    "fs_austin_inc_2021 = fs_austin_inc_2021.rename(columns = {'FAMILY INCOME BY NUMBER OF WORKERS IN FAMILY':'family_size',\n",
    "                                                      'Unnamed: 1': 'household_count',\n",
    "                                                      'Unnamed: 5':'avg_income'})\n",
    "\n",
    "#stripping extra space in column\n",
    "fs_austin_inc_2021['family_size'] = fs_austin_inc_2021['family_size'].str.strip()\n",
    "\n",
    "#consolidating table\n",
    "fs_austin_inc_2021 = fs_austin_inc_2021.loc[(fs_austin_inc_2021['family_size']=='1 worker')|\n",
    "                                        (fs_austin_inc_2021['family_size']=='2 workers, husband and wife worked')|\n",
    "                                        (fs_austin_inc_2021['family_size']=='2 workers, other')|\n",
    "                                        (fs_austin_inc_2021['family_size']=='3 or more workers, husband and wife worked')|\n",
    "                                        (fs_austin_inc_2021['family_size']=='3 or more workers, other')].reset_index(drop=True)\n",
    "\n",
    "#add year column\n",
    "fs_austin_inc_2021['year'] = 2021\n",
    "\n",
    "#reorder columns \n",
    "fs_austin_inc_2021 = fs_austin_inc_2021.loc[:,['city','family_size', 'year','household_count','avg_income']]\n",
    "\n",
    "fs_austin_inc_2021.head()"
   ]
  },
  {
   "cell_type": "code",
   "execution_count": null,
   "id": "922e03e6",
   "metadata": {},
   "outputs": [],
   "source": [
    "#race income 2017\n",
    "race_nash_inc_2017 = pd.read_csv('../data/nash_mean_inc_2017.csv',header = [21])\n",
    "\n",
    "#add city column\n",
    "race_nash_inc_2017['city'] = 'Nashville'\n",
    "race_nash_inc_2017.head()"
   ]
  },
  {
   "cell_type": "code",
   "execution_count": null,
   "id": "634d7c72",
   "metadata": {},
   "outputs": [],
   "source": [
    "#race income 2017\n",
    "race_atl_inc_2017 = pd.read_csv('../data/atl_mean_inc_2017.csv',header = [21])\n",
    "\n",
    "#add city column\n",
    "race_atl_inc_2017['city'] = 'Atlanta'\n",
    "race_atl_inc_2017.head()"
   ]
  },
  {
   "cell_type": "code",
   "execution_count": null,
   "id": "636e65c3",
   "metadata": {},
   "outputs": [],
   "source": [
    "#race income 2017\n",
    "race_austin_inc_2017 = pd.read_csv('../data/austin_mean_inc_2017.csv',header = [21])\n",
    "\n",
    "#add city column\n",
    "race_austin_inc_2017['city'] = 'Austin'\n",
    "race_austin_inc_2017.head()"
   ]
  },
  {
   "cell_type": "code",
   "execution_count": null,
   "id": "ed2fa22a",
   "metadata": {},
   "outputs": [],
   "source": [
    "#race income 2018\n",
    "race_nash_inc_2018 = pd.read_csv('../data/nash_mean_inc_2018.csv',header = [21])\n",
    "\n",
    "#add city column\n",
    "race_nash_inc_2018['city'] = 'Nashville'\n",
    "race_nash_inc_2018.head()"
   ]
  },
  {
   "cell_type": "code",
   "execution_count": null,
   "id": "195c2188",
   "metadata": {},
   "outputs": [],
   "source": [
    "#race income 2018\n",
    "race_atl_inc_2018 = pd.read_csv('../data/atl_mean_inc_2018.csv',header = [21])\n",
    "\n",
    "#add city column\n",
    "race_atl_inc_2018['city'] = 'Atlanta'\n",
    "race_atl_inc_2018.head()"
   ]
  },
  {
   "cell_type": "code",
   "execution_count": null,
   "id": "19b30b0f",
   "metadata": {},
   "outputs": [],
   "source": [
    "#race income 2018\n",
    "race_austin_inc_2018 = pd.read_csv('../data/austin_mean_inc_2018.csv',header = [21])\n",
    "\n",
    "#add city column\n",
    "race_austin_inc_2018['city'] = 'Austin'\n",
    "race_austin_inc_2018.head()"
   ]
  },
  {
   "cell_type": "code",
   "execution_count": null,
   "id": "9889ce42",
   "metadata": {},
   "outputs": [],
   "source": [
    "#race income 2019\n",
    "race_nash_inc_2019 = pd.read_csv('../data/nash_mean_inc_2019.csv',header = [21])\n",
    "\n",
    "#add city column\n",
    "race_nash_inc_2019['city'] = 'Nashville'\n",
    "race_nash_inc_2019.head()"
   ]
  },
  {
   "cell_type": "code",
   "execution_count": null,
   "id": "94eaad0f",
   "metadata": {},
   "outputs": [],
   "source": [
    "#race income 2019\n",
    "race_atl_inc_2019 = pd.read_csv('../data/atl_mean_inc_2019.csv',header = [21])\n",
    "\n",
    "#add city column\n",
    "race_atl_inc_2019['city'] = 'Atlanta'\n",
    "race_atl_inc_2019.head()"
   ]
  },
  {
   "cell_type": "code",
   "execution_count": null,
   "id": "3245c796",
   "metadata": {},
   "outputs": [],
   "source": [
    "#race income 2019\n",
    "race_austin_inc_2019 = pd.read_csv('../data/austin_mean_inc_2019.csv',header = [21])\n",
    "\n",
    "#add city column\n",
    "race_austin_inc_2019['city'] = 'Austin'\n",
    "race_austin_inc_2019.head()"
   ]
  },
  {
   "cell_type": "code",
   "execution_count": null,
   "id": "8e17c8da",
   "metadata": {},
   "outputs": [],
   "source": [
    "#race income 2020\n",
    "race_nash_inc_2020 = pd.read_csv('../data/nashville_mean_inc_2020.csv',header = [21])\n",
    "\n",
    "#add city column\n",
    "race_nash_inc_2020['city'] = 'Nashville'\n",
    "race_nash_inc_2020.head()"
   ]
  },
  {
   "cell_type": "code",
   "execution_count": null,
   "id": "0134da03",
   "metadata": {},
   "outputs": [],
   "source": [
    "#race income 2020\n",
    "race_atl_inc_2020 = pd.read_csv('../data/atl_mean_inc_2020.csv',header = [21])\n",
    "\n",
    "#add city column\n",
    "race_atl_inc_2020['city'] = 'Atlanta'\n",
    "race_atl_inc_2020.head()"
   ]
  },
  {
   "cell_type": "code",
   "execution_count": null,
   "id": "c3bc5ccf",
   "metadata": {},
   "outputs": [],
   "source": [
    "#race income 2020\n",
    "race_austin_inc_2020 = pd.read_csv('../data/austin_mean_inc_2020.csv',header = [21])\n",
    "\n",
    "#add city column\n",
    "race_austin_inc_2020['city'] = 'Austin'\n",
    "race_austin_inc_2020.head()"
   ]
  },
  {
   "cell_type": "code",
   "execution_count": null,
   "id": "61daf757",
   "metadata": {
    "scrolled": false
   },
   "outputs": [],
   "source": [
    "#race income 2021\n",
    "race_nash_inc_2021 = pd.read_csv('../data/nash_mean_inc_2021.csv',header = [21])\n",
    "\n",
    "#add city column\n",
    "race_nash_inc_2021['city'] = 'Nashville'\n",
    "race_nash_inc_2021.head()"
   ]
  },
  {
   "cell_type": "code",
   "execution_count": null,
   "id": "6a031a7c",
   "metadata": {},
   "outputs": [],
   "source": [
    "#race income 2021\n",
    "race_atl_inc_2021 = pd.read_csv('../data/atl_mean_inc_2021.csv',header = [21])\n",
    "\n",
    "#add city column\n",
    "race_atl_inc_2021['city'] = 'Atlanta'\n",
    "race_atl_inc_2021.head()"
   ]
  },
  {
   "cell_type": "code",
   "execution_count": null,
   "id": "82c67630",
   "metadata": {},
   "outputs": [],
   "source": [
    "#race income 2021\n",
    "race_austin_inc_2021 = pd.read_csv('../data/austin_mean_inc_2021.csv',header = [21])\n",
    "\n",
    "#add city column\n",
    "race_austin_inc_2021['city'] = 'Austin'\n",
    "race_austin_inc_2021.head()"
   ]
  },
  {
   "cell_type": "code",
   "execution_count": null,
   "id": "b15db9a1",
   "metadata": {},
   "outputs": [],
   "source": [
    "race_nash_inc_2017.columns"
   ]
  },
  {
   "cell_type": "code",
   "execution_count": null,
   "id": "87563d30",
   "metadata": {},
   "outputs": [],
   "source": [
    "#pulling out relevant columns\n",
    "race_nash_inc_2017 = race_nash_inc_2017.loc[:,['city','PER CAPITA INCOME BY RACE AND HISPANIC OR LATINO ORIGIN','Unnamed: 1','Unnamed: 5']]\n",
    "\n",
    "#renaming column\n",
    "race_nash_inc_2017 = race_nash_inc_2017.rename(columns = {'PER CAPITA INCOME BY RACE AND HISPANIC OR LATINO ORIGIN':'race',\n",
    "                                                          'Unnamed: 1': 'household_count',\n",
    "                                                          'Unnamed: 5':'avg_income'})\n",
    "\n",
    "#stripping extra space in column\n",
    "race_nash_inc_2017['race'] = race_nash_inc_2017['race'].str.strip()\n",
    "\n",
    "#consolidating table\n",
    "race_nash_inc_2017 = race_nash_inc_2017.loc[(race_nash_inc_2017['race']=='White')|\n",
    "                                            (race_nash_inc_2017['race']=='Black or African American')|\n",
    "                                            (race_nash_inc_2017['race']=='American Indian and Alaska Native')|\n",
    "                                            (race_nash_inc_2017['race']=='Asian')|\n",
    "                                            (race_nash_inc_2017['race']=='Native Hawaiian and Other Pacific Islander')|\n",
    "                                            (race_nash_inc_2017['race']=='Some other race')|\n",
    "                                            (race_nash_inc_2017['race']=='Two or more races')|\n",
    "                                            (race_nash_inc_2017['race']=='Hispanic or Latino origin (of any race)')].reset_index(drop=True)\n",
    "\n",
    "#add year column\n",
    "race_nash_inc_2017['year'] = 2017\n",
    "\n",
    "#reorder columns \n",
    "race_nash_inc_2017 = race_nash_inc_2017.loc[:,['city','race', 'year','household_count','avg_income']]\n",
    "\n",
    "race_nash_inc_2017.head()"
   ]
  },
  {
   "cell_type": "code",
   "execution_count": null,
   "id": "466fb27c",
   "metadata": {},
   "outputs": [],
   "source": [
    "#pulling out relevant columns\n",
    "race_atl_inc_2017 = race_atl_inc_2017.loc[:,['city','PER CAPITA INCOME BY RACE AND HISPANIC OR LATINO ORIGIN','Unnamed: 1','Unnamed: 5']]\n",
    "\n",
    "#renaming column\n",
    "race_atl_inc_2017 = race_atl_inc_2017.rename(columns = {'PER CAPITA INCOME BY RACE AND HISPANIC OR LATINO ORIGIN':'race',\n",
    "                                                          'Unnamed: 1': 'household_count',\n",
    "                                                          'Unnamed: 5':'avg_income'})\n",
    "\n",
    "#stripping extra space in column\n",
    "race_atl_inc_2017['race'] = race_atl_inc_2017['race'].str.strip()\n",
    "\n",
    "#consolidating table\n",
    "race_atl_inc_2017 = race_atl_inc_2017.loc[(race_atl_inc_2017['race']=='White')|\n",
    "                                            (race_atl_inc_2017['race']=='Black or African American')|\n",
    "                                            (race_atl_inc_2017['race']=='American Indian and Alaska Native')|\n",
    "                                            (race_atl_inc_2017['race']=='Asian')|\n",
    "                                            (race_atl_inc_2017['race']=='Native Hawaiian and Other Pacific Islander')|\n",
    "                                            (race_atl_inc_2017['race']=='Some other race')|\n",
    "                                            (race_atl_inc_2017['race']=='Two or more races')|\n",
    "                                            (race_atl_inc_2017['race']=='Hispanic or Latino origin (of any race)')].reset_index(drop=True)\n",
    "\n",
    "#add year column\n",
    "race_atl_inc_2017['year'] = 2017\n",
    "\n",
    "#reorder columns \n",
    "race_atl_inc_2017 = race_atl_inc_2017.loc[:,['city','race', 'year','household_count','avg_income']]\n",
    "\n",
    "race_atl_inc_2017.head()"
   ]
  },
  {
   "cell_type": "code",
   "execution_count": null,
   "id": "f40d234a",
   "metadata": {},
   "outputs": [],
   "source": [
    "#pulling out relevant columns\n",
    "race_austin_inc_2017 = race_austin_inc_2017.loc[:,['city','PER CAPITA INCOME BY RACE AND HISPANIC OR LATINO ORIGIN','Unnamed: 1','Unnamed: 5']]\n",
    "\n",
    "#renaming column\n",
    "race_austin_inc_2017 = race_austin_inc_2017.rename(columns = {'PER CAPITA INCOME BY RACE AND HISPANIC OR LATINO ORIGIN':'race',\n",
    "                                                          'Unnamed: 1': 'household_count',\n",
    "                                                          'Unnamed: 5':'avg_income'})\n",
    "\n",
    "#stripping extra space in column\n",
    "race_austin_inc_2017['race'] = race_austin_inc_2017['race'].str.strip()\n",
    "\n",
    "#consolidating table\n",
    "race_austin_inc_2017 = race_austin_inc_2017.loc[(race_austin_inc_2017['race']=='White')|\n",
    "                                            (race_austin_inc_2017['race']=='Black or African American')|\n",
    "                                            (race_austin_inc_2017['race']=='American Indian and Alaska Native')|\n",
    "                                            (race_austin_inc_2017['race']=='Asian')|\n",
    "                                            (race_austin_inc_2017['race']=='Native Hawaiian and Other Pacific Islander')|\n",
    "                                            (race_austin_inc_2017['race']=='Some other race')|\n",
    "                                            (race_austin_inc_2017['race']=='Two or more races')|\n",
    "                                            (race_austin_inc_2017['race']=='Hispanic or Latino origin (of any race)')].reset_index(drop=True)\n",
    "\n",
    "#add year column\n",
    "race_austin_inc_2017['year'] = 2017\n",
    "\n",
    "#reorder columns \n",
    "race_austin_inc_2017 = race_austin_inc_2017.loc[:,['city','race', 'year','household_count','avg_income']]\n",
    "\n",
    "race_austin_inc_2017.head()"
   ]
  },
  {
   "cell_type": "code",
   "execution_count": null,
   "id": "933b2f61",
   "metadata": {},
   "outputs": [],
   "source": [
    "#pulling out relevant columns\n",
    "race_nash_inc_2018 = race_nash_inc_2018.loc[:,['city','PER CAPITA INCOME BY RACE AND HISPANIC OR LATINO ORIGIN','Unnamed: 1','Unnamed: 5']]\n",
    "\n",
    "#renaming column\n",
    "race_nash_inc_2018 = race_nash_inc_2018.rename(columns = {'PER CAPITA INCOME BY RACE AND HISPANIC OR LATINO ORIGIN':'race',\n",
    "                                                          'Unnamed: 1': 'household_count',\n",
    "                                                          'Unnamed: 5':'avg_income'})\n",
    "\n",
    "#stripping extra space in column\n",
    "race_nash_inc_2018['race'] = race_nash_inc_2018['race'].str.strip()\n",
    "\n",
    "#consolidating table\n",
    "race_nash_inc_2018 = race_nash_inc_2018.loc[(race_nash_inc_2018['race']=='White')|\n",
    "                                            (race_nash_inc_2018['race']=='Black or African American')|\n",
    "                                            (race_nash_inc_2018['race']=='American Indian and Alaska Native')|\n",
    "                                            (race_nash_inc_2018['race']=='Asian')|\n",
    "                                            (race_nash_inc_2018['race']=='Native Hawaiian and Other Pacific Islander')|\n",
    "                                            (race_nash_inc_2018['race']=='Some other race')|\n",
    "                                            (race_nash_inc_2018['race']=='Two or more races')|\n",
    "                                            (race_nash_inc_2018['race']=='Hispanic or Latino origin (of any race)')].reset_index(drop=True)\n",
    "\n",
    "#add year column\n",
    "race_nash_inc_2018['year'] = 2018\n",
    "\n",
    "#reorder columns \n",
    "race_nash_inc_2018 = race_nash_inc_2018.loc[:,['city','race', 'year','household_count','avg_income']]\n",
    "\n",
    "race_nash_inc_2018.head()"
   ]
  },
  {
   "cell_type": "code",
   "execution_count": null,
   "id": "b222f050",
   "metadata": {},
   "outputs": [],
   "source": [
    "#pulling out relevant columns\n",
    "race_atl_inc_2018 = race_atl_inc_2018.loc[:,['city','PER CAPITA INCOME BY RACE AND HISPANIC OR LATINO ORIGIN','Unnamed: 1','Unnamed: 5']]\n",
    "\n",
    "#renaming column\n",
    "race_atl_inc_2018 = race_atl_inc_2018.rename(columns = {'PER CAPITA INCOME BY RACE AND HISPANIC OR LATINO ORIGIN':'race',\n",
    "                                                          'Unnamed: 1': 'household_count',\n",
    "                                                          'Unnamed: 5':'avg_income'})\n",
    "\n",
    "#stripping extra space in column\n",
    "race_atl_inc_2018['race'] = race_atl_inc_2018['race'].str.strip()\n",
    "\n",
    "#consolidating table\n",
    "race_atl_inc_2018 = race_atl_inc_2018.loc[(race_atl_inc_2018['race']=='White')|\n",
    "                                            (race_atl_inc_2018['race']=='Black or African American')|\n",
    "                                            (race_atl_inc_2018['race']=='American Indian and Alaska Native')|\n",
    "                                            (race_atl_inc_2018['race']=='Asian')|\n",
    "                                            (race_atl_inc_2018['race']=='Native Hawaiian and Other Pacific Islander')|\n",
    "                                            (race_atl_inc_2018['race']=='Some other race')|\n",
    "                                            (race_atl_inc_2018['race']=='Two or more races')|\n",
    "                                            (race_atl_inc_2018['race']=='Hispanic or Latino origin (of any race)')].reset_index(drop=True)\n",
    "\n",
    "#add year column\n",
    "race_atl_inc_2018['year'] = 2018\n",
    "\n",
    "#reorder columns \n",
    "race_atl_inc_2018 = race_atl_inc_2018.loc[:,['city','race', 'year','household_count','avg_income']]\n",
    "\n",
    "race_atl_inc_2018.head()"
   ]
  },
  {
   "cell_type": "code",
   "execution_count": null,
   "id": "857de892",
   "metadata": {},
   "outputs": [],
   "source": [
    "#pulling out relevant columns\n",
    "race_austin_inc_2018 = race_austin_inc_2018.loc[:,['city','PER CAPITA INCOME BY RACE AND HISPANIC OR LATINO ORIGIN','Unnamed: 1','Unnamed: 5']]\n",
    "\n",
    "#renaming column\n",
    "race_austin_inc_2018 = race_austin_inc_2018.rename(columns = {'PER CAPITA INCOME BY RACE AND HISPANIC OR LATINO ORIGIN':'race',\n",
    "                                                          'Unnamed: 1': 'household_count',\n",
    "                                                          'Unnamed: 5':'avg_income'})\n",
    "\n",
    "#stripping extra space in column\n",
    "race_austin_inc_2018['race'] = race_austin_inc_2018['race'].str.strip()\n",
    "\n",
    "#consolidating table\n",
    "race_austin_inc_2018 = race_austin_inc_2018.loc[(race_austin_inc_2018['race']=='White')|\n",
    "                                            (race_austin_inc_2018['race']=='Black or African American')|\n",
    "                                            (race_austin_inc_2018['race']=='American Indian and Alaska Native')|\n",
    "                                            (race_austin_inc_2018['race']=='Asian')|\n",
    "                                            (race_austin_inc_2018['race']=='Native Hawaiian and Other Pacific Islander')|\n",
    "                                            (race_austin_inc_2018['race']=='Some other race')|\n",
    "                                            (race_austin_inc_2018['race']=='Two or more races')|\n",
    "                                            (race_austin_inc_2018['race']=='Hispanic or Latino origin (of any race)')].reset_index(drop=True)\n",
    "\n",
    "#add year column\n",
    "race_austin_inc_2018['year'] = 2018\n",
    "\n",
    "#reorder columns \n",
    "race_austin_inc_2018 = race_austin_inc_2018.loc[:,['city','race', 'year','household_count','avg_income']]\n",
    "\n",
    "race_austin_inc_2018.head()"
   ]
  },
  {
   "cell_type": "code",
   "execution_count": null,
   "id": "21388ebe",
   "metadata": {},
   "outputs": [],
   "source": [
    "#pulling out relevant columns\n",
    "race_nash_inc_2019 = race_nash_inc_2019.loc[:,['city','PER CAPITA INCOME BY RACE AND HISPANIC OR LATINO ORIGIN','Unnamed: 1','Unnamed: 5']]\n",
    "\n",
    "#renaming column\n",
    "race_nash_inc_2019 = race_nash_inc_2019.rename(columns = {'PER CAPITA INCOME BY RACE AND HISPANIC OR LATINO ORIGIN':'race',\n",
    "                                                          'Unnamed: 1': 'household_count',\n",
    "                                                          'Unnamed: 5':'avg_income'})\n",
    "\n",
    "#stripping extra space in column\n",
    "race_nash_inc_2019['race'] = race_nash_inc_2019['race'].str.strip()\n",
    "\n",
    "#consolidating table\n",
    "race_nash_inc_2019 = race_nash_inc_2019.loc[(race_nash_inc_2019['race']=='White')|\n",
    "                                            (race_nash_inc_2019['race']=='Black or African American')|\n",
    "                                            (race_nash_inc_2019['race']=='American Indian and Alaska Native')|\n",
    "                                            (race_nash_inc_2019['race']=='Asian')|\n",
    "                                            (race_nash_inc_2019['race']=='Native Hawaiian and Other Pacific Islander')|\n",
    "                                            (race_nash_inc_2019['race']=='Some other race')|\n",
    "                                            (race_nash_inc_2019['race']=='Two or more races')|\n",
    "                                            (race_nash_inc_2019['race']=='Hispanic or Latino origin (of any race)')].reset_index(drop=True)\n",
    "\n",
    "#add year column\n",
    "race_nash_inc_2019['year'] = 2019\n",
    "\n",
    "#reorder columns \n",
    "race_nash_inc_2019 = race_nash_inc_2019.loc[:,['city','race', 'year','household_count','avg_income']]\n",
    "\n",
    "race_nash_inc_2019.head()"
   ]
  },
  {
   "cell_type": "code",
   "execution_count": null,
   "id": "7107abe3",
   "metadata": {},
   "outputs": [],
   "source": [
    "#pulling out relevant columns\n",
    "race_atl_inc_2019 = race_atl_inc_2019.loc[:,['city','PER CAPITA INCOME BY RACE AND HISPANIC OR LATINO ORIGIN','Unnamed: 1','Unnamed: 5']]\n",
    "\n",
    "#renaming column\n",
    "race_atl_inc_2019 = race_atl_inc_2019.rename(columns = {'PER CAPITA INCOME BY RACE AND HISPANIC OR LATINO ORIGIN':'race',\n",
    "                                                          'Unnamed: 1': 'household_count',\n",
    "                                                          'Unnamed: 5':'avg_income'})\n",
    "\n",
    "#stripping extra space in column\n",
    "race_atl_inc_2019['race'] = race_atl_inc_2019['race'].str.strip()\n",
    "\n",
    "#consolidating table\n",
    "race_atl_inc_2019 = race_atl_inc_2019.loc[(race_atl_inc_2019['race']=='White')|\n",
    "                                            (race_atl_inc_2019['race']=='Black or African American')|\n",
    "                                            (race_atl_inc_2019['race']=='American Indian and Alaska Native')|\n",
    "                                            (race_atl_inc_2019['race']=='Asian')|\n",
    "                                            (race_atl_inc_2019['race']=='Native Hawaiian and Other Pacific Islander')|\n",
    "                                            (race_atl_inc_2019['race']=='Some other race')|\n",
    "                                            (race_atl_inc_2019['race']=='Two or more races')|\n",
    "                                            (race_atl_inc_2019['race']=='Hispanic or Latino origin (of any race)')].reset_index(drop=True)\n",
    "\n",
    "#add year column\n",
    "race_atl_inc_2019['year'] = 2019\n",
    "\n",
    "#reorder columns \n",
    "race_atl_inc_2019 = race_atl_inc_2019.loc[:,['city','race', 'year','household_count','avg_income']]\n",
    "\n",
    "race_atl_inc_2019.head()"
   ]
  },
  {
   "cell_type": "code",
   "execution_count": null,
   "id": "b3504145",
   "metadata": {},
   "outputs": [],
   "source": [
    "#pulling out relevant columns\n",
    "race_austin_inc_2019 = race_austin_inc_2019.loc[:,['city','PER CAPITA INCOME BY RACE AND HISPANIC OR LATINO ORIGIN','Unnamed: 1','Unnamed: 5']]\n",
    "\n",
    "#renaming column\n",
    "race_austin_inc_2019 = race_austin_inc_2019.rename(columns = {'PER CAPITA INCOME BY RACE AND HISPANIC OR LATINO ORIGIN':'race',\n",
    "                                                          'Unnamed: 1': 'household_count',\n",
    "                                                          'Unnamed: 5':'avg_income'})\n",
    "\n",
    "#stripping extra space in column\n",
    "race_austin_inc_2019['race'] = race_austin_inc_2019['race'].str.strip()\n",
    "\n",
    "#consolidating table\n",
    "race_austin_inc_2019 = race_austin_inc_2019.loc[(race_austin_inc_2019['race']=='White')|\n",
    "                                            (race_austin_inc_2019['race']=='Black or African American')|\n",
    "                                            (race_austin_inc_2019['race']=='American Indian and Alaska Native')|\n",
    "                                            (race_austin_inc_2019['race']=='Asian')|\n",
    "                                            (race_austin_inc_2019['race']=='Native Hawaiian and Other Pacific Islander')|\n",
    "                                            (race_austin_inc_2019['race']=='Some other race')|\n",
    "                                            (race_austin_inc_2019['race']=='Two or more races')|\n",
    "                                            (race_austin_inc_2019['race']=='Hispanic or Latino origin (of any race)')].reset_index(drop=True)\n",
    "\n",
    "#add year column\n",
    "race_austin_inc_2019['year'] = 2019\n",
    "\n",
    "#reorder columns \n",
    "race_austin_inc_2019 = race_austin_inc_2019.loc[:,['city','race', 'year','household_count','avg_income']]\n",
    "\n",
    "race_austin_inc_2019.head()"
   ]
  },
  {
   "cell_type": "code",
   "execution_count": null,
   "id": "d37fe879",
   "metadata": {},
   "outputs": [],
   "source": [
    "#pulling out relevant columns\n",
    "race_nash_inc_2020 = race_nash_inc_2020.loc[:,['city','PER CAPITA INCOME BY RACE AND HISPANIC OR LATINO ORIGIN','Unnamed: 1','Unnamed: 5']]\n",
    "\n",
    "#renaming column\n",
    "race_nash_inc_2020 = race_nash_inc_2020.rename(columns = {'PER CAPITA INCOME BY RACE AND HISPANIC OR LATINO ORIGIN':'race',\n",
    "                                                          'Unnamed: 1': 'household_count',\n",
    "                                                          'Unnamed: 5':'avg_income'})\n",
    "\n",
    "#stripping extra space in column\n",
    "race_nash_inc_2020['race'] = race_nash_inc_2020['race'].str.strip()\n",
    "\n",
    "#consolidating table\n",
    "race_nash_inc_2020 = race_nash_inc_2020.loc[(race_nash_inc_2020['race']=='White')|\n",
    "                                            (race_nash_inc_2020['race']=='Black or African American')|\n",
    "                                            (race_nash_inc_2020['race']=='American Indian and Alaska Native')|\n",
    "                                            (race_nash_inc_2020['race']=='Asian')|\n",
    "                                            (race_nash_inc_2020['race']=='Native Hawaiian and Other Pacific Islander')|\n",
    "                                            (race_nash_inc_2020['race']=='Some other race')|\n",
    "                                            (race_nash_inc_2020['race']=='Two or more races')|\n",
    "                                            (race_nash_inc_2020['race']=='Hispanic or Latino origin (of any race)')].reset_index(drop=True)\n",
    "\n",
    "#add year column\n",
    "race_nash_inc_2020['year'] = 2020\n",
    "\n",
    "#reorder columns \n",
    "race_nash_inc_2020 = race_nash_inc_2020.loc[:,['city','race', 'year','household_count','avg_income']]\n",
    "\n",
    "race_nash_inc_2020.head()"
   ]
  },
  {
   "cell_type": "code",
   "execution_count": null,
   "id": "e88be273",
   "metadata": {},
   "outputs": [],
   "source": [
    "#pulling out relevant columns\n",
    "race_atl_inc_2020 = race_atl_inc_2020.loc[:,['city','PER CAPITA INCOME BY RACE AND HISPANIC OR LATINO ORIGIN','Unnamed: 1','Unnamed: 5']]\n",
    "\n",
    "#renaming column\n",
    "race_atl_inc_2020 = race_atl_inc_2020.rename(columns = {'PER CAPITA INCOME BY RACE AND HISPANIC OR LATINO ORIGIN':'race',\n",
    "                                                          'Unnamed: 1': 'household_count',\n",
    "                                                          'Unnamed: 5':'avg_income'})\n",
    "\n",
    "#stripping extra space in column\n",
    "race_atl_inc_2020['race'] = race_atl_inc_2020['race'].str.strip()\n",
    "\n",
    "#consolidating table\n",
    "race_atl_inc_2020 = race_atl_inc_2020.loc[(race_atl_inc_2020['race']=='White')|\n",
    "                                            (race_atl_inc_2020['race']=='Black or African American')|\n",
    "                                            (race_atl_inc_2020['race']=='American Indian and Alaska Native')|\n",
    "                                            (race_atl_inc_2020['race']=='Asian')|\n",
    "                                            (race_atl_inc_2020['race']=='Native Hawaiian and Other Pacific Islander')|\n",
    "                                            (race_atl_inc_2020['race']=='Some other race')|\n",
    "                                            (race_atl_inc_2020['race']=='Two or more races')|\n",
    "                                            (race_atl_inc_2020['race']=='Hispanic or Latino origin (of any race)')].reset_index(drop=True)\n",
    "\n",
    "#add year column\n",
    "race_atl_inc_2020['year'] = 2020\n",
    "\n",
    "#reorder columns \n",
    "race_atl_inc_2020 = race_atl_inc_2020.loc[:,['city','race', 'year','household_count','avg_income']]\n",
    "\n",
    "race_atl_inc_2020.head()"
   ]
  },
  {
   "cell_type": "code",
   "execution_count": null,
   "id": "6702326e",
   "metadata": {},
   "outputs": [],
   "source": [
    "#pulling out relevant columns\n",
    "race_austin_inc_2020 = race_austin_inc_2020.loc[:,['city','PER CAPITA INCOME BY RACE AND HISPANIC OR LATINO ORIGIN','Unnamed: 1','Unnamed: 5']]\n",
    "\n",
    "#renaming column\n",
    "race_austin_inc_2020 = race_austin_inc_2020.rename(columns = {'PER CAPITA INCOME BY RACE AND HISPANIC OR LATINO ORIGIN':'race',\n",
    "                                                          'Unnamed: 1': 'household_count',\n",
    "                                                          'Unnamed: 5':'avg_income'})\n",
    "\n",
    "#stripping extra space in column\n",
    "race_austin_inc_2020['race'] = race_austin_inc_2020['race'].str.strip()\n",
    "\n",
    "#consolidating table\n",
    "race_austin_inc_2020 = race_austin_inc_2020.loc[(race_austin_inc_2020['race']=='White')|\n",
    "                                            (race_austin_inc_2020['race']=='Black or African American')|\n",
    "                                            (race_austin_inc_2020['race']=='American Indian and Alaska Native')|\n",
    "                                            (race_austin_inc_2020['race']=='Asian')|\n",
    "                                            (race_austin_inc_2020['race']=='Native Hawaiian and Other Pacific Islander')|\n",
    "                                            (race_austin_inc_2020['race']=='Some other race')|\n",
    "                                            (race_austin_inc_2020['race']=='Two or more races')|\n",
    "                                            (race_austin_inc_2020['race']=='Hispanic or Latino origin (of any race)')].reset_index(drop=True)\n",
    "\n",
    "#add year column\n",
    "race_austin_inc_2020['year'] = 2020\n",
    "\n",
    "#reorder columns \n",
    "race_austin_inc_2020 = race_austin_inc_2020.loc[:,['city','race', 'year','household_count','avg_income']]\n",
    "\n",
    "race_austin_inc_2020.head()"
   ]
  },
  {
   "cell_type": "code",
   "execution_count": null,
   "id": "3c4b3990",
   "metadata": {},
   "outputs": [],
   "source": [
    "#pulling out relevant columns\n",
    "race_nash_inc_2021 = race_nash_inc_2021.loc[:,['city','PER CAPITA INCOME BY RACE AND HISPANIC OR LATINO ORIGIN','Unnamed: 1','Unnamed: 5']]\n",
    "\n",
    "#renaming column\n",
    "race_nash_inc_2021 = race_nash_inc_2021.rename(columns = {'PER CAPITA INCOME BY RACE AND HISPANIC OR LATINO ORIGIN':'race',\n",
    "                                                          'Unnamed: 1': 'household_count',\n",
    "                                                          'Unnamed: 5':'avg_income'})\n",
    "\n",
    "#stripping extra space in column\n",
    "race_nash_inc_2021['race'] = race_nash_inc_2021['race'].str.strip()\n",
    "\n",
    "#consolidating table\n",
    "race_nash_inc_2021 = race_nash_inc_2021.loc[(race_nash_inc_2021['race']=='White')|\n",
    "                                            (race_nash_inc_2021['race']=='Black or African American')|\n",
    "                                            (race_nash_inc_2021['race']=='American Indian and Alaska Native')|\n",
    "                                            (race_nash_inc_2021['race']=='Asian')|\n",
    "                                            (race_nash_inc_2021['race']=='Native Hawaiian and Other Pacific Islander')|\n",
    "                                            (race_nash_inc_2021['race']=='Some other race')|\n",
    "                                            (race_nash_inc_2021['race']=='Two or more races')|\n",
    "                                            (race_nash_inc_2021['race']=='Hispanic or Latino origin (of any race)')].reset_index(drop=True)\n",
    "\n",
    "#add year column\n",
    "race_nash_inc_2021['year'] = 2021\n",
    "\n",
    "#reorder columns \n",
    "race_nash_inc_2021 = race_nash_inc_2021.loc[:,['city','race', 'year','household_count','avg_income']]\n",
    "\n",
    "race_nash_inc_2021.head()"
   ]
  },
  {
   "cell_type": "code",
   "execution_count": null,
   "id": "ff66714f",
   "metadata": {},
   "outputs": [],
   "source": [
    "#pulling out relevant columns\n",
    "race_atl_inc_2021 = race_atl_inc_2021.loc[:,['city','PER CAPITA INCOME BY RACE AND HISPANIC OR LATINO ORIGIN','Unnamed: 1','Unnamed: 5']]\n",
    "\n",
    "#renaming column\n",
    "race_atl_inc_2021 = race_atl_inc_2021.rename(columns = {'PER CAPITA INCOME BY RACE AND HISPANIC OR LATINO ORIGIN':'race',\n",
    "                                                          'Unnamed: 1': 'household_count',\n",
    "                                                          'Unnamed: 5':'avg_income'})\n",
    "\n",
    "#stripping extra space in column\n",
    "race_atl_inc_2021['race'] = race_atl_inc_2021['race'].str.strip()\n",
    "\n",
    "#consolidating table\n",
    "race_atl_inc_2021 = race_atl_inc_2021.loc[(race_atl_inc_2021['race']=='White')|\n",
    "                                            (race_atl_inc_2021['race']=='Black or African American')|\n",
    "                                            (race_atl_inc_2021['race']=='American Indian and Alaska Native')|\n",
    "                                            (race_atl_inc_2021['race']=='Asian')|\n",
    "                                            (race_atl_inc_2021['race']=='Native Hawaiian and Other Pacific Islander')|\n",
    "                                            (race_atl_inc_2021['race']=='Some other race')|\n",
    "                                            (race_atl_inc_2021['race']=='Two or more races')|\n",
    "                                            (race_atl_inc_2021['race']=='Hispanic or Latino origin (of any race)')].reset_index(drop=True)\n",
    "\n",
    "#add year column\n",
    "race_atl_inc_2021['year'] = 2021\n",
    "\n",
    "#reorder columns \n",
    "race_atl_inc_2021 = race_atl_inc_2021.loc[:,['city','race', 'year','household_count','avg_income']]\n",
    "\n",
    "race_atl_inc_2021.head()"
   ]
  },
  {
   "cell_type": "code",
   "execution_count": null,
   "id": "73b06d2a",
   "metadata": {},
   "outputs": [],
   "source": [
    "#pulling out relevant columns\n",
    "race_austin_inc_2021 = race_austin_inc_2021.loc[:,['city','PER CAPITA INCOME BY RACE AND HISPANIC OR LATINO ORIGIN','Unnamed: 1','Unnamed: 5']]\n",
    "\n",
    "#renaming column\n",
    "race_austin_inc_2021 = race_austin_inc_2021.rename(columns = {'PER CAPITA INCOME BY RACE AND HISPANIC OR LATINO ORIGIN':'race',\n",
    "                                                          'Unnamed: 1': 'household_count',\n",
    "                                                          'Unnamed: 5':'avg_income'})\n",
    "\n",
    "#stripping extra space in column\n",
    "race_austin_inc_2021['race'] = race_austin_inc_2021['race'].str.strip()\n",
    "\n",
    "#consolidating table\n",
    "race_austin_inc_2021 = race_austin_inc_2021.loc[(race_austin_inc_2021['race']=='White')|\n",
    "                                            (race_austin_inc_2021['race']=='Black or African American')|\n",
    "                                            (race_austin_inc_2021['race']=='American Indian and Alaska Native')|\n",
    "                                            (race_austin_inc_2021['race']=='Asian')|\n",
    "                                            (race_austin_inc_2021['race']=='Native Hawaiian and Other Pacific Islander')|\n",
    "                                            (race_austin_inc_2021['race']=='Some other race')|\n",
    "                                            (race_austin_inc_2021['race']=='Two or more races')|\n",
    "                                            (race_austin_inc_2021['race']=='Hispanic or Latino origin (of any race)')].reset_index(drop=True)\n",
    "\n",
    "#add year column\n",
    "race_austin_inc_2021['year'] = 2021\n",
    "\n",
    "#reorder columns \n",
    "race_austin_inc_2021 = race_austin_inc_2021.loc[:,['city','race', 'year','household_count','avg_income']]\n",
    "\n",
    "race_austin_inc_2021.head()"
   ]
  },
  {
   "cell_type": "code",
   "execution_count": null,
   "id": "ee770fcd",
   "metadata": {},
   "outputs": [],
   "source": []
  },
  {
   "cell_type": "code",
   "execution_count": null,
   "id": "7f633c3e",
   "metadata": {},
   "outputs": [],
   "source": []
  },
  {
   "cell_type": "code",
   "execution_count": null,
   "id": "60843908",
   "metadata": {},
   "outputs": [],
   "source": []
  },
  {
   "cell_type": "code",
   "execution_count": null,
   "id": "dcd7eed0",
   "metadata": {},
   "outputs": [],
   "source": []
  },
  {
   "cell_type": "code",
   "execution_count": null,
   "id": "976b421c",
   "metadata": {},
   "outputs": [],
   "source": []
  },
  {
   "cell_type": "code",
   "execution_count": null,
   "id": "bbdef9b2",
   "metadata": {},
   "outputs": [],
   "source": []
  },
  {
   "cell_type": "code",
   "execution_count": null,
   "id": "e3db6fcd",
   "metadata": {},
   "outputs": [],
   "source": []
  },
  {
   "cell_type": "code",
   "execution_count": null,
   "id": "b190b286",
   "metadata": {},
   "outputs": [],
   "source": []
  },
  {
   "cell_type": "code",
   "execution_count": null,
   "id": "753d2ca7",
   "metadata": {},
   "outputs": [],
   "source": []
  },
  {
   "cell_type": "code",
   "execution_count": null,
   "id": "d1da72e8",
   "metadata": {},
   "outputs": [],
   "source": []
  },
  {
   "cell_type": "code",
   "execution_count": null,
   "id": "95704afa",
   "metadata": {},
   "outputs": [],
   "source": []
  },
  {
   "cell_type": "code",
   "execution_count": null,
   "id": "d1971eb8",
   "metadata": {},
   "outputs": [],
   "source": []
  },
  {
   "cell_type": "code",
   "execution_count": null,
   "id": "946751b4",
   "metadata": {},
   "outputs": [],
   "source": []
  },
  {
   "cell_type": "code",
   "execution_count": null,
   "id": "f47f1d26",
   "metadata": {},
   "outputs": [],
   "source": []
  },
  {
   "cell_type": "code",
   "execution_count": null,
   "id": "22c0d753",
   "metadata": {},
   "outputs": [],
   "source": []
  },
  {
   "cell_type": "code",
   "execution_count": null,
   "id": "59d08995",
   "metadata": {},
   "outputs": [],
   "source": []
  },
  {
   "cell_type": "code",
   "execution_count": null,
   "id": "645ffe6d",
   "metadata": {},
   "outputs": [],
   "source": []
  },
  {
   "cell_type": "code",
   "execution_count": null,
   "id": "ea43969f",
   "metadata": {},
   "outputs": [],
   "source": []
  },
  {
   "cell_type": "code",
   "execution_count": null,
   "id": "71ca39b7",
   "metadata": {},
   "outputs": [],
   "source": [
    "#Rename columns\n",
    "one_bed_value = one_bed_value.rename(columns = {'RegionName':'City','StateName':'State', 'home_value': '1br_value'})\n",
    "\n",
    "#convert date columns to datetime\n",
    "one_bed_value['date']= pd.to_datetime(one_bed_value['date'])\n",
    "\n",
    "#pick out specific time period\n",
    "one_bed_value = one_bed_value.loc[one_bed_value['date']>='2018-03-31']\n",
    "\n",
    "one_bed_value.head()"
   ]
  },
  {
   "cell_type": "code",
   "execution_count": null,
   "id": "402d7cdd",
   "metadata": {},
   "outputs": [],
   "source": [
    "#Rename columns\n",
    "two_bed_value = two_bed_value.rename(columns = {'RegionName':'City','StateName':'State'})\n",
    "\n",
    "#convert date columns to datetime\n",
    "two_bed_value['date']= pd.to_datetime(two_bed_value['date'])\n",
    "\n",
    "#pick out specific time period\n",
    "two_bed_value = two_bed_value.loc[two_bed_value['date']>='2018-03-31']\n",
    "\n",
    "two_bed_value.head()"
   ]
  },
  {
   "cell_type": "code",
   "execution_count": null,
   "id": "e90b3ca1",
   "metadata": {},
   "outputs": [],
   "source": [
    "#Rename columns\n",
    "three_bed_value = three_bed_value.rename(columns = {'RegionName':'City','StateName':'State'})\n",
    "\n",
    "#convert date columns to datetime\n",
    "three_bed_value['date']= pd.to_datetime(three_bed_value['date'])\n",
    "\n",
    "#pick out specific time period\n",
    "three_bed_value = three_bed_value.loc[three_bed_value['date']>='2018-03-31']\n",
    "\n",
    "three_bed_value.head()"
   ]
  },
  {
   "cell_type": "code",
   "execution_count": null,
   "id": "cede48d7",
   "metadata": {},
   "outputs": [],
   "source": [
    "#Rename columns\n",
    "four_bed_value = four_bed_value.rename(columns = {'RegionName':'City','StateName':'State'})\n",
    "\n",
    "#convert date columns to datetime\n",
    "four_bed_value['date']= pd.to_datetime(four_bed_value['date'])\n",
    "\n",
    "#pick out specific time period\n",
    "four_bed_value = four_bed_value.loc[four_bed_value['date']>='2018-03-31']\n",
    "\n",
    "four_bed_value.head()"
   ]
  },
  {
   "cell_type": "code",
   "execution_count": null,
   "id": "c21d721d",
   "metadata": {},
   "outputs": [],
   "source": [
    "#Rename columns\n",
    "five_bed_value = five_bed_value.rename(columns = {'RegionName':'City','StateName':'State'})\n",
    "\n",
    "#convert date columns to datetime\n",
    "five_bed_value['date']= pd.to_datetime(five_bed_value['date'])\n",
    "\n",
    "#pick out specific time period\n",
    "five_bed_value = five_bed_value.loc[five_bed_value['date']>='2018-03-31']\n",
    "\n",
    "five_bed_value.head()"
   ]
  },
  {
   "cell_type": "code",
   "execution_count": null,
   "id": "d4a4eaf8",
   "metadata": {},
   "outputs": [],
   "source": [
    "#Atlanta one bed value\n",
    "atl_one_bed = one_bed_value.loc[one_bed_value['City']=='Atlanta, GA']\n",
    "atl_one_bed = atl_one_bed.reset_index(drop=True)\n",
    "atl_one_bed.head()"
   ]
  },
  {
   "cell_type": "code",
   "execution_count": null,
   "id": "d37bc994",
   "metadata": {},
   "outputs": [],
   "source": [
    "#Atlanta two bed value\n",
    "atl_two_bed = two_bed_value.loc[two_bed_value['City']=='Atlanta, GA']\n",
    "atl_two_bed = atl_two_bed.reset_index(drop=True)\n",
    "atl_two_bed.head()"
   ]
  },
  {
   "cell_type": "code",
   "execution_count": null,
   "id": "ebaeb971",
   "metadata": {},
   "outputs": [],
   "source": [
    "#Atlanta three bed value\n",
    "atl_three_bed = three_bed_value.loc[three_bed_value['City']=='Atlanta, GA']\n",
    "atl_three_bed = atl_three_bed.reset_index(drop=True)\n",
    "atl_three_bed.head()"
   ]
  },
  {
   "cell_type": "code",
   "execution_count": null,
   "id": "71a20ccc",
   "metadata": {},
   "outputs": [],
   "source": [
    "#Atlanta four bed value\n",
    "atl_four_bed = four_bed_value.loc[four_bed_value['City']=='Atlanta, GA']\n",
    "atl_four_bed = atl_four_bed.reset_index(drop=True)\n",
    "atl_four_bed.head()"
   ]
  },
  {
   "cell_type": "code",
   "execution_count": null,
   "id": "d60758a4",
   "metadata": {},
   "outputs": [],
   "source": [
    "#Atlanta five bed value\n",
    "atl_five_bed = five_bed_value.loc[five_bed_value['City']=='Atlanta, GA']\n",
    "atl_five_bed = atl_five_bed.reset_index(drop=True)\n",
    "atl_five_bed.head()"
   ]
  },
  {
   "cell_type": "code",
   "execution_count": null,
   "id": "a973fa7c",
   "metadata": {},
   "outputs": [],
   "source": [
    "#Nashville one bed value\n",
    "nash_one_bed = one_bed_value.loc[one_bed_value['City']=='Nashville, TN']\n",
    "nash_one_bed = nash_one_bed.reset_index(drop=True)\n",
    "nash_one_bed.head()"
   ]
  },
  {
   "cell_type": "code",
   "execution_count": null,
   "id": "bb5f39d6",
   "metadata": {},
   "outputs": [],
   "source": [
    "#Nashville two bed value\n",
    "nash_two_bed = two_bed_value.loc[two_bed_value['City']=='Nashville, TN']\n",
    "nash_two_bed = nash_two_bed.reset_index(drop=True)\n",
    "nash_two_bed.head()"
   ]
  },
  {
   "cell_type": "code",
   "execution_count": null,
   "id": "5fa245e6",
   "metadata": {},
   "outputs": [],
   "source": [
    "#Nashville three bed value\n",
    "nash_three_bed = three_bed_value.loc[three_bed_value['City']=='Nashville, TN']\n",
    "nash_three_bed = nash_three_bed.reset_index(drop=True)\n",
    "nash_three_bed.head()"
   ]
  },
  {
   "cell_type": "code",
   "execution_count": null,
   "id": "e277b8fa",
   "metadata": {},
   "outputs": [],
   "source": [
    "#Nashville four bed value\n",
    "nash_four_bed = four_bed_value.loc[four_bed_value['City']=='Nashville, TN']\n",
    "nash_four_bed = nash_four_bed.reset_index(drop=True)\n",
    "nash_four_bed.head()"
   ]
  },
  {
   "cell_type": "code",
   "execution_count": null,
   "id": "c328f3b2",
   "metadata": {},
   "outputs": [],
   "source": [
    "#Nashville five bed value\n",
    "nash_five_bed = five_bed_value.loc[five_bed_value['City']=='Nashville, TN']\n",
    "nash_five_bed = nash_five_bed.reset_index(drop=True)\n",
    "nash_five_bed.head()"
   ]
  },
  {
   "cell_type": "code",
   "execution_count": null,
   "id": "46477be8",
   "metadata": {},
   "outputs": [],
   "source": [
    "#Austin one bed value\n",
    "austin_one_bed = one_bed_value.loc[one_bed_value['City']=='Austin, TX']\n",
    "austin_one_bed = austin_one_bed.reset_index(drop=True)\n",
    "austin_one_bed.head()"
   ]
  },
  {
   "cell_type": "code",
   "execution_count": null,
   "id": "114f4aa2",
   "metadata": {},
   "outputs": [],
   "source": [
    "#Austin two bed value\n",
    "austin_two_bed = two_bed_value.loc[two_bed_value['City']=='Austin, TX']\n",
    "austin_two_bed = austin_two_bed.reset_index(drop=True)\n",
    "austin_two_bed.head()"
   ]
  },
  {
   "cell_type": "code",
   "execution_count": null,
   "id": "80c07cc1",
   "metadata": {},
   "outputs": [],
   "source": [
    "#Austin three bed value\n",
    "austin_three_bed = three_bed_value.loc[three_bed_value['City']=='Austin, TX']\n",
    "austin_three_bed = austin_three_bed.reset_index(drop=True)\n",
    "austin_three_bed.head()"
   ]
  },
  {
   "cell_type": "code",
   "execution_count": null,
   "id": "79d1ea1a",
   "metadata": {},
   "outputs": [],
   "source": [
    "#Austin four bed value\n",
    "austin_four_bed = four_bed_value.loc[four_bed_value['City']=='Austin, TX']\n",
    "austin_four_bed = austin_four_bed.reset_index(drop=True)\n",
    "austin_four_bed.head()"
   ]
  },
  {
   "cell_type": "code",
   "execution_count": null,
   "id": "61bca92c",
   "metadata": {},
   "outputs": [],
   "source": [
    "#Austin five bed value\n",
    "austin_five_bed = five_bed_value.loc[five_bed_value['City']=='Austin, TX']\n",
    "austin_five_bed = austin_five_bed.reset_index(drop=True)\n",
    "austin_five_bed.head()"
   ]
  },
  {
   "cell_type": "code",
   "execution_count": null,
   "id": "1995e456",
   "metadata": {},
   "outputs": [],
   "source": [
    "intentional error"
   ]
  },
  {
   "cell_type": "code",
   "execution_count": null,
   "id": "b0f53583",
   "metadata": {},
   "outputs": [],
   "source": [
    "atl_sales_count.to_csv('../data/cleaned/housing/atl_sales_count.csv', index = False)"
   ]
  },
  {
   "cell_type": "code",
   "execution_count": null,
   "id": "9253b1f6",
   "metadata": {},
   "outputs": [],
   "source": [
    "atl_inventory.to_csv('../data/cleaned/housing/atl_inventory.csv', index = False)"
   ]
  },
  {
   "cell_type": "code",
   "execution_count": null,
   "id": "91e5e42f",
   "metadata": {},
   "outputs": [],
   "source": [
    "atl_list_price.to_csv('../data/cleaned/housing/atl_list_price.csv', index = False)"
   ]
  },
  {
   "cell_type": "code",
   "execution_count": null,
   "id": "4d5b1b93",
   "metadata": {},
   "outputs": [],
   "source": [
    "atl_forecast.to_csv('../data/cleaned/housing/atl_forecast.csv', index = False)"
   ]
  },
  {
   "cell_type": "code",
   "execution_count": null,
   "id": "087a466e",
   "metadata": {},
   "outputs": [],
   "source": [
    "atl_one_bed.to_csv('../data/cleaned/housing/atl_one_bed.csv', index = False)"
   ]
  },
  {
   "cell_type": "code",
   "execution_count": null,
   "id": "d6c26745",
   "metadata": {},
   "outputs": [],
   "source": [
    "atl_two_bed.to_csv('../data/cleaned/housing/atl_two_bed.csv', index = False)"
   ]
  },
  {
   "cell_type": "code",
   "execution_count": null,
   "id": "265bc369",
   "metadata": {},
   "outputs": [],
   "source": [
    "atl_three_bed.to_csv('../data/cleaned/housing/atl_three_bed.csv', index = False)"
   ]
  },
  {
   "cell_type": "code",
   "execution_count": null,
   "id": "31261d68",
   "metadata": {},
   "outputs": [],
   "source": [
    "atl_four_bed.to_csv('../data/cleaned/housing/atl_four_bed.csv', index = False)"
   ]
  },
  {
   "cell_type": "code",
   "execution_count": null,
   "id": "58d18cc0",
   "metadata": {},
   "outputs": [],
   "source": [
    "atl_five_bed.to_csv('../data/cleaned/housing/atl_five_bed.csv', index = False)"
   ]
  },
  {
   "cell_type": "code",
   "execution_count": null,
   "id": "8ae8b273",
   "metadata": {},
   "outputs": [],
   "source": [
    "nash_sales_count.to_csv('../data/cleaned/housing/nash_sales_count.csv', index = False)"
   ]
  },
  {
   "cell_type": "code",
   "execution_count": null,
   "id": "8b063eba",
   "metadata": {},
   "outputs": [],
   "source": [
    "nash_inventory.to_csv('../data/cleaned/housing/nash_inventory.csv', index = False)"
   ]
  },
  {
   "cell_type": "code",
   "execution_count": null,
   "id": "74bd2dfc",
   "metadata": {},
   "outputs": [],
   "source": [
    "nash_list_price.to_csv('../data/cleaned/housing/nash_list_price.csv', index = False)"
   ]
  },
  {
   "cell_type": "code",
   "execution_count": null,
   "id": "5066daff",
   "metadata": {},
   "outputs": [],
   "source": [
    "nash_forecast.to_csv('../data/cleaned/housing/nash_forecast.csv', index = False)"
   ]
  },
  {
   "cell_type": "code",
   "execution_count": null,
   "id": "c97423fe",
   "metadata": {},
   "outputs": [],
   "source": [
    "nash_one_bed.to_csv('../data/cleaned/housing/nash_one_bed.csv', index = False)"
   ]
  },
  {
   "cell_type": "code",
   "execution_count": null,
   "id": "499a6d34",
   "metadata": {},
   "outputs": [],
   "source": [
    "nash_two_bed.to_csv('../data/cleaned/housing/nash_two_bed.csv', index = False)"
   ]
  },
  {
   "cell_type": "code",
   "execution_count": null,
   "id": "11f567a8",
   "metadata": {},
   "outputs": [],
   "source": [
    "nash_three_bed.to_csv('../data/cleaned/housing/nash_three_bed.csv', index = False)"
   ]
  },
  {
   "cell_type": "code",
   "execution_count": null,
   "id": "a24ca676",
   "metadata": {},
   "outputs": [],
   "source": [
    "nash_four_bed.to_csv('../data/cleaned/housing/nash_four_bed.csv', index = False)"
   ]
  },
  {
   "cell_type": "code",
   "execution_count": null,
   "id": "8732e89a",
   "metadata": {},
   "outputs": [],
   "source": [
    "nash_five_bed.to_csv('../data/cleaned/housing/nash_five_bed.csv', index = False)"
   ]
  },
  {
   "cell_type": "code",
   "execution_count": null,
   "id": "127f1171",
   "metadata": {},
   "outputs": [],
   "source": [
    "austin_sales_count.to_csv('../data/cleaned/housing/austin_sales_count.csv', index = False)"
   ]
  },
  {
   "cell_type": "code",
   "execution_count": null,
   "id": "f013882b",
   "metadata": {},
   "outputs": [],
   "source": [
    "austin_inventory.to_csv('../data/cleaned/housing/austin_inventory.csv', index = False)"
   ]
  },
  {
   "cell_type": "code",
   "execution_count": null,
   "id": "c3f48e16",
   "metadata": {},
   "outputs": [],
   "source": [
    "austin_list_price.to_csv('../data/cleaned/housing/austin_list_price.csv', index = False)"
   ]
  },
  {
   "cell_type": "code",
   "execution_count": null,
   "id": "db8e4be8",
   "metadata": {},
   "outputs": [],
   "source": [
    "austin_forecast.to_csv('../data/cleaned/housing/austin_forecast.csv', index = False)"
   ]
  },
  {
   "cell_type": "code",
   "execution_count": null,
   "id": "6b2484b6",
   "metadata": {},
   "outputs": [],
   "source": [
    "austin_one_bed.to_csv('../data/cleaned/housing/austin_one_bed.csv', index = False)"
   ]
  },
  {
   "cell_type": "code",
   "execution_count": null,
   "id": "f40c9be9",
   "metadata": {},
   "outputs": [],
   "source": [
    "austin_two_bed.to_csv('../data/cleaned/housing/austin_two_bed.csv', index = False)"
   ]
  },
  {
   "cell_type": "code",
   "execution_count": null,
   "id": "062ff853",
   "metadata": {},
   "outputs": [],
   "source": [
    "austin_three_bed.to_csv('../data/cleaned/housing/austin_three_bed.csv', index = False)"
   ]
  },
  {
   "cell_type": "code",
   "execution_count": null,
   "id": "241f1c6b",
   "metadata": {},
   "outputs": [],
   "source": [
    "austin_four_bed.to_csv('../data/cleaned/housing/austin_four_bed.csv', index = False)"
   ]
  },
  {
   "cell_type": "code",
   "execution_count": null,
   "id": "56a9faa2",
   "metadata": {},
   "outputs": [],
   "source": [
    "austin_five_bed.to_csv('../data/cleaned/housing/austin_five_bed.csv', index = False)"
   ]
  },
  {
   "cell_type": "code",
   "execution_count": null,
   "id": "d7765043",
   "metadata": {},
   "outputs": [],
   "source": []
  }
 ],
 "metadata": {
  "kernelspec": {
   "display_name": "Python 3 (ipykernel)",
   "language": "python",
   "name": "python3"
  },
  "language_info": {
   "codemirror_mode": {
    "name": "ipython",
    "version": 3
   },
   "file_extension": ".py",
   "mimetype": "text/x-python",
   "name": "python",
   "nbconvert_exporter": "python",
   "pygments_lexer": "ipython3",
   "version": "3.9.13"
  }
 },
 "nbformat": 4,
 "nbformat_minor": 5
}
