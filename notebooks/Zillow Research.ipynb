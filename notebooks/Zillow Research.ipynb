{
 "cells": [
  {
   "cell_type": "code",
   "execution_count": null,
   "id": "fd1542b8",
   "metadata": {},
   "outputs": [],
   "source": [
    "import pandas as pd\n",
    "import matplotlib.pyplot as plt\n",
    "import numpy as np\n",
    "import seaborn as sns\n",
    "from datetime import datetime as dt\n",
    "import plotly.express as px\n",
    "\n",
    "\n",
    "%matplotlib inline"
   ]
  },
  {
   "cell_type": "code",
   "execution_count": null,
   "id": "262fae3c",
   "metadata": {},
   "outputs": [],
   "source": [
    "#Pulling in zillow inventory csv\n",
    "inventory = pd.read_csv('../data/zillow_inventory.csv')"
   ]
  },
  {
   "cell_type": "code",
   "execution_count": null,
   "id": "d81b2fad",
   "metadata": {},
   "outputs": [],
   "source": [
    "inventory.head()"
   ]
  },
  {
   "cell_type": "code",
   "execution_count": null,
   "id": "b6d00b4c",
   "metadata": {},
   "outputs": [],
   "source": [
    "#pulling in average list price csv\n",
    "list_price = pd.read_csv('../data/zillow_list_and_sales_price.csv')"
   ]
  },
  {
   "cell_type": "code",
   "execution_count": null,
   "id": "b815852e",
   "metadata": {},
   "outputs": [],
   "source": [
    "list_price.head()"
   ]
  },
  {
   "cell_type": "code",
   "execution_count": null,
   "id": "93a67eca",
   "metadata": {},
   "outputs": [],
   "source": [
    "#pulling in sales count csv\n",
    "sales_count = pd.read_csv('../data/zillow_sales_count.csv')"
   ]
  },
  {
   "cell_type": "code",
   "execution_count": null,
   "id": "de6150e7",
   "metadata": {},
   "outputs": [],
   "source": [
    "sales_count.head()"
   ]
  },
  {
   "cell_type": "code",
   "execution_count": null,
   "id": "f161bae1",
   "metadata": {},
   "outputs": [],
   "source": [
    "#pulling sales counts for Atlanta\n",
    "atl_sales_count = sales_count.loc[sales_count['RegionName']=='Atlanta, GA']\n",
    "atl_sales_count"
   ]
  },
  {
   "cell_type": "code",
   "execution_count": null,
   "id": "592d260e",
   "metadata": {},
   "outputs": [],
   "source": [
    "#pulling out list price for Atlanta\n",
    "atl_list_price = list_price.loc[list_price['RegionName']=='Atlanta, GA']\n",
    "atl_list_price"
   ]
  },
  {
   "cell_type": "code",
   "execution_count": null,
   "id": "37c5c876",
   "metadata": {},
   "outputs": [],
   "source": [
    "#inventory for Atlanta\n",
    "atl_inventory = inventory.loc[inventory['RegionName']=='Atlanta, GA']\n",
    "atl_inventory"
   ]
  },
  {
   "cell_type": "code",
   "execution_count": null,
   "id": "8a5dce65",
   "metadata": {},
   "outputs": [],
   "source": [
    "#Atlanta sales count melt\n",
    "atl_sales_count = pd.melt(atl_sales_count, id_vars=['RegionID','SizeRank','RegionName','RegionType','StateName'], var_name = 'date', value_name = 'sales_count' )\n",
    "atl_sales_count.head()"
   ]
  },
  {
   "cell_type": "code",
   "execution_count": null,
   "id": "b45c4a94",
   "metadata": {},
   "outputs": [],
   "source": [
    "#converting sales count date to datetime\n",
    "atl_sales_count['date']= pd.to_datetime(atl_sales_count['date'])\n",
    "atl_sales_count.info()"
   ]
  },
  {
   "cell_type": "code",
   "execution_count": null,
   "id": "5836d032",
   "metadata": {},
   "outputs": [],
   "source": [
    "#adjusting time to match other dateframes starting at 2018-03-31\n",
    "atl_sales_count = atl_sales_count.loc[atl_sales_count['date']>='2018-03-31']\n",
    "atl_sales_count = atl_sales_count.reset_index(drop=True)\n",
    "atl_sales_count = atl_sales_count.rename(columns = {'RegionName':'City','StateName':'State'})\n",
    "atl_sales_count.head()"
   ]
  },
  {
   "cell_type": "code",
   "execution_count": null,
   "id": "a8043135",
   "metadata": {},
   "outputs": [],
   "source": [
    "#Atlanta list price melt\n",
    "atl_list_price = pd.melt(atl_list_price, id_vars=['RegionID','SizeRank','RegionName','RegionType','StateName'], var_name = 'date', value_name = 'avg_list_price' )\n",
    "atl_list_price.head()"
   ]
  },
  {
   "cell_type": "code",
   "execution_count": null,
   "id": "2bfdd1f1",
   "metadata": {},
   "outputs": [],
   "source": [
    "atl_list_price = atl_list_price.rename(columns = {'RegionName':'City','StateName':'State'})\n",
    "atl_list_price.head()"
   ]
  },
  {
   "cell_type": "code",
   "execution_count": null,
   "id": "ddbaae1b",
   "metadata": {},
   "outputs": [],
   "source": [
    "#Atlanta inventory melt\n",
    "atl_inventory = pd.melt(atl_inventory, id_vars=['RegionID','SizeRank','RegionName','RegionType','StateName'], var_name = 'date', value_name = 'inventory_count' )"
   ]
  },
  {
   "cell_type": "code",
   "execution_count": null,
   "id": "9fe08383",
   "metadata": {},
   "outputs": [],
   "source": [
    "atl_inventory = atl_inventory.rename(columns = {'RegionName':'City','StateName':'State'})\n",
    "atl_inventory.head()"
   ]
  },
  {
   "cell_type": "code",
   "execution_count": null,
   "id": "b2e7c774",
   "metadata": {},
   "outputs": [],
   "source": [
    "#All sales count melt\n",
    "sales_count = pd.melt(sales_count, id_vars=['RegionID','SizeRank','RegionName','RegionType','StateName'], var_name = 'date', value_name = 'sales_count' )"
   ]
  },
  {
   "cell_type": "code",
   "execution_count": null,
   "id": "24c89897",
   "metadata": {},
   "outputs": [],
   "source": [
    "sales_count = sales_count.rename(columns = {'RegionName':'City','StateName':'State'})\n",
    "sales_count.head()"
   ]
  },
  {
   "cell_type": "code",
   "execution_count": null,
   "id": "96a2777e",
   "metadata": {},
   "outputs": [],
   "source": [
    "sales_count.info()"
   ]
  },
  {
   "cell_type": "code",
   "execution_count": null,
   "id": "5f7b3a16",
   "metadata": {},
   "outputs": [],
   "source": [
    "#all sales count convert date column to datetime\n",
    "sales_count['date'] = pd.to_datetime(sales_count['date'])"
   ]
  },
  {
   "cell_type": "code",
   "execution_count": null,
   "id": "eec0f318",
   "metadata": {},
   "outputs": [],
   "source": [
    "sales_count.info()"
   ]
  },
  {
   "cell_type": "code",
   "execution_count": null,
   "id": "21fac43a",
   "metadata": {},
   "outputs": [],
   "source": [
    "#Start date to match the other dataframes at 2018-03-31\n",
    "sales_count = sales_count.loc[sales_count['date'] >= '2018-03-31']\n",
    "sales_count = sales_count.reset_index(drop=True)\n",
    "sales_count.head()"
   ]
  },
  {
   "cell_type": "code",
   "execution_count": null,
   "id": "8d285eec",
   "metadata": {},
   "outputs": [],
   "source": [
    "#all list price melt\n",
    "list_price = pd.melt(list_price, id_vars=['RegionID','SizeRank','RegionName','RegionType','StateName'], var_name = 'date', value_name = 'avg_list_price' )"
   ]
  },
  {
   "cell_type": "code",
   "execution_count": null,
   "id": "a929d06d",
   "metadata": {},
   "outputs": [],
   "source": [
    "list_price = list_price.rename(columns = {'RegionName':'City','StateName':'State'})\n",
    "list_price.head()"
   ]
  },
  {
   "cell_type": "code",
   "execution_count": null,
   "id": "7136816f",
   "metadata": {},
   "outputs": [],
   "source": [
    "#all inventory melt\n",
    "inventory = pd.melt(inventory, id_vars=['RegionID','SizeRank','RegionName','RegionType','StateName'], var_name = 'date', value_name = 'inventory_count' )"
   ]
  },
  {
   "cell_type": "code",
   "execution_count": null,
   "id": "d66967bf",
   "metadata": {},
   "outputs": [],
   "source": [
    "inventory= inventory.rename(columns = {'RegionName':'City','StateName':'State'})\n",
    "inventory.head()"
   ]
  },
  {
   "cell_type": "code",
   "execution_count": null,
   "id": "cb57607d",
   "metadata": {},
   "outputs": [],
   "source": [
    "#Nashville sales count table DF\n",
    "nash_sales_count = sales_count.loc[sales_count['City']== 'Nashville, TN']\n",
    "nash_sales_count = nash_sales_count.reset_index(drop = True)\n",
    "nash_sales_count.head()"
   ]
  },
  {
   "cell_type": "code",
   "execution_count": null,
   "id": "5f77e379",
   "metadata": {},
   "outputs": [],
   "source": [
    "#Nashville list price DF\n",
    "nash_list_price = list_price.loc[list_price['City']== 'Nashville, TN']\n",
    "nash_list_price = nash_list_price.reset_index(drop=True)\n",
    "nash_list_price.head()"
   ]
  },
  {
   "cell_type": "code",
   "execution_count": null,
   "id": "dbff706a",
   "metadata": {},
   "outputs": [],
   "source": [
    "#Nashville inventory DF\n",
    "nash_inventory = inventory.loc[inventory['City']=='Nashville, TN']\n",
    "nash_inventory = nash_inventory.reset_index(drop=True)\n",
    "nash_inventory.head()"
   ]
  },
  {
   "cell_type": "code",
   "execution_count": null,
   "id": "9cd1c6f1",
   "metadata": {},
   "outputs": [],
   "source": [
    "austin_sales_count = sales_count.loc[sales_count['City']=='Austin, TX']\n",
    "austin_sales_count = austin_sales_count.reset_index(drop=True)\n",
    "austin_sales_count.head()"
   ]
  },
  {
   "cell_type": "code",
   "execution_count": null,
   "id": "518c594d",
   "metadata": {},
   "outputs": [],
   "source": [
    "austin_list_price = list_price.loc[list_price['City']=='Austin, TX']\n",
    "austin_list_price = austin_list_price.reset_index(drop=True)\n",
    "austin_list_price.head()"
   ]
  },
  {
   "cell_type": "code",
   "execution_count": null,
   "id": "fd10b47d",
   "metadata": {},
   "outputs": [],
   "source": [
    "austin_inventory = inventory.loc[inventory['City']=='Austin, TX']\n",
    "austin_inventory = austin_inventory.reset_index(drop=True)\n",
    "austin_inventory.head()"
   ]
  },
  {
   "cell_type": "code",
   "execution_count": null,
   "id": "bbb157d3",
   "metadata": {},
   "outputs": [],
   "source": [
    "#forecasting csv\n",
    "forecast = pd.read_csv('../data/zillow_forecasts.csv')"
   ]
  },
  {
   "cell_type": "code",
   "execution_count": null,
   "id": "d752431e",
   "metadata": {},
   "outputs": [],
   "source": [
    "forecast.head()"
   ]
  },
  {
   "cell_type": "code",
   "execution_count": null,
   "id": "4389f502",
   "metadata": {},
   "outputs": [],
   "source": [
    "#dropping irrelevant date\n",
    "forecast = forecast.drop('2022-11-30', axis=1)\n",
    "forecast.head()"
   ]
  },
  {
   "cell_type": "code",
   "execution_count": null,
   "id": "ef3c34e7",
   "metadata": {},
   "outputs": [],
   "source": [
    "#forecast melt\n",
    "forecast = pd.melt(forecast, id_vars = ['RegionID','SizeRank','RegionName','RegionType','StateName', 'BaseDate'], var_name = 'proj_date', value_name = 'proj_value')"
   ]
  },
  {
   "cell_type": "code",
   "execution_count": null,
   "id": "9c3367b5",
   "metadata": {},
   "outputs": [],
   "source": [
    "forecast = forecast.rename(columns = {'RegionName':'City','StateName':'State'})\n",
    "forecast.head()"
   ]
  },
  {
   "cell_type": "code",
   "execution_count": null,
   "id": "a292368b",
   "metadata": {},
   "outputs": [],
   "source": [
    "#Atlanta forecast\n",
    "atl_forecast = forecast.loc[forecast['City']=='Atlanta, GA']\n",
    "atl_forecast = atl_forecast.reset_index(drop=True)\n",
    "atl_forecast"
   ]
  },
  {
   "cell_type": "code",
   "execution_count": null,
   "id": "0793c2dd",
   "metadata": {},
   "outputs": [],
   "source": [
    "#Nashville forecast\n",
    "nash_forecast = forecast.loc[forecast['City']=='Nashville, TN']\n",
    "nash_forecast = nash_forecast.reset_index(drop=True)\n",
    "nash_forecast"
   ]
  },
  {
   "cell_type": "code",
   "execution_count": null,
   "id": "81888d37",
   "metadata": {},
   "outputs": [],
   "source": [
    "#Austin forecast\n",
    "austin_forecast = forecast.loc[forecast['City']=='Austin, TX']\n",
    "austin_forecast = austin_forecast.reset_index(drop=True)\n",
    "austin_forecast"
   ]
  },
  {
   "cell_type": "code",
   "execution_count": null,
   "id": "b86a4c76",
   "metadata": {},
   "outputs": [],
   "source": [
    "#one bedroom value DF\n",
    "one_bed_value = pd.read_csv('../data/one_bedroom_value.csv')\n",
    "one_bed_value.head()"
   ]
  },
  {
   "cell_type": "code",
   "execution_count": null,
   "id": "b1a56d21",
   "metadata": {},
   "outputs": [],
   "source": [
    "#one bed melt\n",
    "one_bed_value = pd.melt(one_bed_value, id_vars = ['RegionID','SizeRank','RegionName','RegionType','StateName'], var_name = 'date', value_name = 'home_value')"
   ]
  },
  {
   "cell_type": "code",
   "execution_count": null,
   "id": "71ca39b7",
   "metadata": {},
   "outputs": [],
   "source": [
    "one_bed_value = one_bed_value.rename(columns = {'RegionName':'City','StateName':'State', 'home_value': '1br_value'})\n",
    "one_bed_value.head()"
   ]
  },
  {
   "cell_type": "code",
   "execution_count": null,
   "id": "a1073671",
   "metadata": {},
   "outputs": [],
   "source": [
    "one_bed_value['date']= pd.to_datetime(one_bed_value['date'])\n",
    "one_bed_value = one_bed_value.loc[one_bed_value['date']>='2018-03-31']"
   ]
  },
  {
   "cell_type": "code",
   "execution_count": null,
   "id": "d4a4eaf8",
   "metadata": {},
   "outputs": [],
   "source": [
    "#Atlanta one bed value\n",
    "atl_one_bed = one_bed_value.loc[one_bed_value['City']=='Atlanta, GA']\n",
    "atl_one_bed = atl_one_bed.reset_index(drop=True)\n",
    "atl_one_bed.head()"
   ]
  },
  {
   "cell_type": "code",
   "execution_count": null,
   "id": "a973fa7c",
   "metadata": {},
   "outputs": [],
   "source": [
    "#Nashville one bed value\n",
    "nash_one_bed = one_bed_value.loc[one_bed_value['City']=='Nashville, TN']\n",
    "nash_one_bed = nash_one_bed.reset_index(drop=True)\n",
    "nash_one_bed.head()"
   ]
  },
  {
   "cell_type": "code",
   "execution_count": null,
   "id": "46477be8",
   "metadata": {},
   "outputs": [],
   "source": [
    "#Austin one bed value\n",
    "austin_one_bed = one_bed_value.loc[one_bed_value['City']=='Austin, TX']\n",
    "austin_one_bed = austin_one_bed.reset_index(drop=True)\n",
    "austin_one_bed.head()"
   ]
  },
  {
   "cell_type": "code",
   "execution_count": null,
   "id": "ca7e5e5a",
   "metadata": {},
   "outputs": [],
   "source": [
    "#two bedroom value DF\n",
    "two_bed_value = pd.read_csv('../data/two_bedroom_value.csv')\n",
    "two_bed_value.head()"
   ]
  },
  {
   "cell_type": "code",
   "execution_count": null,
   "id": "87c3dc94",
   "metadata": {},
   "outputs": [],
   "source": [
    "#three bedroom value DF\n",
    "three_bed_value = pd.read_csv('../data/three_bedroom_value.csv')\n",
    "three_bed_value.head()"
   ]
  },
  {
   "cell_type": "code",
   "execution_count": null,
   "id": "6e17dc9b",
   "metadata": {},
   "outputs": [],
   "source": [
    "#four bedroom value DF\n",
    "four_bed_value = pd.read_csv('../data/four_bedroom_value.csv')\n",
    "four_bed_value.head()"
   ]
  },
  {
   "cell_type": "code",
   "execution_count": null,
   "id": "dda2b090",
   "metadata": {},
   "outputs": [],
   "source": [
    "#five bedroom value DF\n",
    "five_bed_value = pd.read_csv('../data/five_bedroom_value.csv')\n",
    "five_bed_value.head()"
   ]
  },
  {
   "cell_type": "code",
   "execution_count": null,
   "id": "64deca98",
   "metadata": {},
   "outputs": [],
   "source": [
    "#two bed melt\n",
    "two_bed_value = pd.melt(two_bed_value, id_vars = ['RegionID','SizeRank','RegionName','RegionType','StateName'], var_name = 'date', value_name = '2br_value')"
   ]
  },
  {
   "cell_type": "code",
   "execution_count": null,
   "id": "b2eb4f38",
   "metadata": {},
   "outputs": [],
   "source": [
    "#three bed melt\n",
    "three_bed_value = pd.melt(three_bed_value, id_vars = ['RegionID','SizeRank','RegionName','RegionType','StateName'], var_name = 'date', value_name = '3br_value')"
   ]
  },
  {
   "cell_type": "code",
   "execution_count": null,
   "id": "0a03809e",
   "metadata": {},
   "outputs": [],
   "source": [
    "#four bed melt\n",
    "four_bed_value = pd.melt(four_bed_value, id_vars = ['RegionID','SizeRank','RegionName','RegionType','StateName'], var_name = 'date', value_name = '4br_value')"
   ]
  },
  {
   "cell_type": "code",
   "execution_count": null,
   "id": "9924c323",
   "metadata": {},
   "outputs": [],
   "source": [
    "#five bed melt\n",
    "five_bed_value = pd.melt(five_bed_value, id_vars = ['RegionID','SizeRank','RegionName','RegionType','StateName'], var_name = 'date', value_name = '5br_value')"
   ]
  },
  {
   "cell_type": "code",
   "execution_count": null,
   "id": "402d7cdd",
   "metadata": {},
   "outputs": [],
   "source": [
    "two_bed_value = two_bed_value.rename(columns = {'RegionName':'City','StateName':'State'})\n",
    "two_bed_value['date']= pd.to_datetime(two_bed_value['date'])\n",
    "two_bed_value = two_bed_value.loc[two_bed_value['date']>='2018-03-31']\n",
    "two_bed_value.head()"
   ]
  },
  {
   "cell_type": "code",
   "execution_count": null,
   "id": "e90b3ca1",
   "metadata": {},
   "outputs": [],
   "source": [
    "three_bed_value = three_bed_value.rename(columns = {'RegionName':'City','StateName':'State'})\n",
    "three_bed_value['date']= pd.to_datetime(three_bed_value['date'])\n",
    "three_bed_value = three_bed_value.loc[three_bed_value['date']>='2018-03-31']\n",
    "three_bed_value.head()"
   ]
  },
  {
   "cell_type": "code",
   "execution_count": null,
   "id": "cede48d7",
   "metadata": {},
   "outputs": [],
   "source": [
    "four_bed_value = four_bed_value.rename(columns = {'RegionName':'City','StateName':'State'})\n",
    "four_bed_value['date']= pd.to_datetime(four_bed_value['date'])\n",
    "four_bed_value = four_bed_value.loc[four_bed_value['date']>='2018-03-31']\n",
    "four_bed_value.head()"
   ]
  },
  {
   "cell_type": "code",
   "execution_count": null,
   "id": "c21d721d",
   "metadata": {},
   "outputs": [],
   "source": [
    "five_bed_value = five_bed_value.rename(columns = {'RegionName':'City','StateName':'State'})\n",
    "five_bed_value['date']= pd.to_datetime(five_bed_value['date'])\n",
    "five_bed_value = five_bed_value.loc[five_bed_value['date']>='2018-03-31']\n",
    "five_bed_value.head()"
   ]
  },
  {
   "cell_type": "code",
   "execution_count": null,
   "id": "d37bc994",
   "metadata": {},
   "outputs": [],
   "source": [
    "#Atlanta two bed value\n",
    "atl_two_bed = two_bed_value.loc[two_bed_value['City']=='Atlanta, GA']\n",
    "atl_two_bed = atl_two_bed.reset_index(drop=True)\n",
    "atl_two_bed.head()"
   ]
  },
  {
   "cell_type": "code",
   "execution_count": null,
   "id": "ebaeb971",
   "metadata": {},
   "outputs": [],
   "source": [
    "#Atlanta three bed value\n",
    "atl_three_bed = three_bed_value.loc[three_bed_value['City']=='Atlanta, GA']\n",
    "atl_three_bed = atl_three_bed.reset_index(drop=True)\n",
    "atl_three_bed.head()"
   ]
  },
  {
   "cell_type": "code",
   "execution_count": null,
   "id": "71a20ccc",
   "metadata": {},
   "outputs": [],
   "source": [
    "#Atlanta four bed value\n",
    "atl_four_bed = four_bed_value.loc[four_bed_value['City']=='Atlanta, GA']\n",
    "atl_four_bed = atl_four_bed.reset_index(drop=True)\n",
    "atl_four_bed.head()"
   ]
  },
  {
   "cell_type": "code",
   "execution_count": null,
   "id": "d60758a4",
   "metadata": {},
   "outputs": [],
   "source": [
    "#Atlanta five bed value\n",
    "atl_five_bed = five_bed_value.loc[five_bed_value['City']=='Atlanta, GA']\n",
    "atl_five_bed = atl_five_bed.reset_index(drop=True)\n",
    "atl_five_bed.head()"
   ]
  },
  {
   "cell_type": "code",
   "execution_count": null,
   "id": "bb5f39d6",
   "metadata": {},
   "outputs": [],
   "source": [
    "#Nashville two bed value\n",
    "nash_two_bed = two_bed_value.loc[two_bed_value['City']=='Nashville, TN']\n",
    "nash_two_bed = nash_two_bed.reset_index(drop=True)\n",
    "nash_two_bed.head()"
   ]
  },
  {
   "cell_type": "code",
   "execution_count": null,
   "id": "5fa245e6",
   "metadata": {},
   "outputs": [],
   "source": [
    "#Nashville three bed value\n",
    "nash_three_bed = three_bed_value.loc[three_bed_value['City']=='Nashville, TN']\n",
    "nash_three_bed = nash_three_bed.reset_index(drop=True)\n",
    "nash_three_bed.head()"
   ]
  },
  {
   "cell_type": "code",
   "execution_count": null,
   "id": "e277b8fa",
   "metadata": {},
   "outputs": [],
   "source": [
    "#Nashville four bed value\n",
    "nash_four_bed = four_bed_value.loc[four_bed_value['City']=='Nashville, TN']\n",
    "nash_four_bed = nash_four_bed.reset_index(drop=True)\n",
    "nash_four_bed.head()"
   ]
  },
  {
   "cell_type": "code",
   "execution_count": null,
   "id": "c328f3b2",
   "metadata": {},
   "outputs": [],
   "source": [
    "#Nashville five bed value\n",
    "nash_five_bed = five_bed_value.loc[five_bed_value['City']=='Nashville, TN']\n",
    "nash_five_bed = nash_five_bed.reset_index(drop=True)\n",
    "nash_five_bed.head()"
   ]
  },
  {
   "cell_type": "code",
   "execution_count": null,
   "id": "114f4aa2",
   "metadata": {},
   "outputs": [],
   "source": [
    "#Austin two bed value\n",
    "austin_two_bed = two_bed_value.loc[two_bed_value['City']=='Austin, TX']\n",
    "austin_two_bed = austin_two_bed.reset_index(drop=True)\n",
    "austin_two_bed.head()"
   ]
  },
  {
   "cell_type": "code",
   "execution_count": null,
   "id": "80c07cc1",
   "metadata": {},
   "outputs": [],
   "source": [
    "#Austin three bed value\n",
    "austin_three_bed = three_bed_value.loc[three_bed_value['City']=='Austin, TX']\n",
    "austin_three_bed = austin_three_bed.reset_index(drop=True)\n",
    "austin_three_bed.head()"
   ]
  },
  {
   "cell_type": "code",
   "execution_count": null,
   "id": "79d1ea1a",
   "metadata": {},
   "outputs": [],
   "source": [
    "#Austin four bed value\n",
    "austin_four_bed = four_bed_value.loc[four_bed_value['City']=='Austin, TX']\n",
    "austin_four_bed = austin_four_bed.reset_index(drop=True)\n",
    "austin_four_bed.head()"
   ]
  },
  {
   "cell_type": "code",
   "execution_count": null,
   "id": "61bca92c",
   "metadata": {},
   "outputs": [],
   "source": [
    "#Austin five bed value\n",
    "austin_five_bed = five_bed_value.loc[five_bed_value['City']=='Austin, TX']\n",
    "austin_five_bed = austin_five_bed.reset_index(drop=True)\n",
    "austin_five_bed.head()"
   ]
  },
  {
   "cell_type": "code",
   "execution_count": null,
   "id": "b0f53583",
   "metadata": {},
   "outputs": [],
   "source": [
    "atl_sales_count.to_csv('../data/cleaned/housing/atl_sales_count.csv', index = False)"
   ]
  },
  {
   "cell_type": "code",
   "execution_count": null,
   "id": "9253b1f6",
   "metadata": {},
   "outputs": [],
   "source": [
    "atl_inventory.to_csv('../data/cleaned/housing/atl_inventory.csv', index = False)"
   ]
  },
  {
   "cell_type": "code",
   "execution_count": null,
   "id": "91e5e42f",
   "metadata": {},
   "outputs": [],
   "source": [
    "atl_list_price.to_csv('../data/cleaned/housing/atl_list_price.csv', index = False)"
   ]
  },
  {
   "cell_type": "code",
   "execution_count": null,
   "id": "4d5b1b93",
   "metadata": {},
   "outputs": [],
   "source": [
    "atl_forecast.to_csv('../data/cleaned/housing/atl_forecast.csv', index = False)"
   ]
  },
  {
   "cell_type": "code",
   "execution_count": null,
   "id": "087a466e",
   "metadata": {},
   "outputs": [],
   "source": [
    "atl_one_bed.to_csv('../data/cleaned/housing/atl_one_bed.csv', index = False)"
   ]
  },
  {
   "cell_type": "code",
   "execution_count": null,
   "id": "d6c26745",
   "metadata": {},
   "outputs": [],
   "source": [
    "atl_two_bed.to_csv('../data/cleaned/housing/atl_two_bed.csv', index = False)"
   ]
  },
  {
   "cell_type": "code",
   "execution_count": null,
   "id": "265bc369",
   "metadata": {},
   "outputs": [],
   "source": [
    "atl_three_bed.to_csv('../data/cleaned/housing/atl_three_bed.csv', index = False)"
   ]
  },
  {
   "cell_type": "code",
   "execution_count": null,
   "id": "31261d68",
   "metadata": {},
   "outputs": [],
   "source": [
    "atl_four_bed.to_csv('../data/cleaned/housing/atl_four_bed.csv', index = False)"
   ]
  },
  {
   "cell_type": "code",
   "execution_count": null,
   "id": "58d18cc0",
   "metadata": {},
   "outputs": [],
   "source": [
    "atl_five_bed.to_csv('../data/cleaned/housing/atl_five_bed.csv', index = False)"
   ]
  },
  {
   "cell_type": "code",
   "execution_count": null,
   "id": "8ae8b273",
   "metadata": {},
   "outputs": [],
   "source": [
    "nash_sales_count.to_csv('../data/cleaned/housing/nash_sales_count.csv', index = False)"
   ]
  },
  {
   "cell_type": "code",
   "execution_count": null,
   "id": "8b063eba",
   "metadata": {},
   "outputs": [],
   "source": [
    "nash_inventory.to_csv('../data/cleaned/housing/nash_inventory.csv', index = False)"
   ]
  },
  {
   "cell_type": "code",
   "execution_count": null,
   "id": "74bd2dfc",
   "metadata": {},
   "outputs": [],
   "source": [
    "nash_list_price.to_csv('../data/cleaned/housing/nash_list_price.csv', index = False)"
   ]
  },
  {
   "cell_type": "code",
   "execution_count": null,
   "id": "5066daff",
   "metadata": {},
   "outputs": [],
   "source": [
    "nash_forecast.to_csv('../data/cleaned/housing/nash_forecast.csv', index = False)"
   ]
  },
  {
   "cell_type": "code",
   "execution_count": null,
   "id": "c97423fe",
   "metadata": {},
   "outputs": [],
   "source": [
    "nash_one_bed.to_csv('../data/cleaned/housing/nash_one_bed.csv', index = False)"
   ]
  },
  {
   "cell_type": "code",
   "execution_count": null,
   "id": "499a6d34",
   "metadata": {},
   "outputs": [],
   "source": [
    "nash_two_bed.to_csv('../data/cleaned/housing/nash_two_bed.csv', index = False)"
   ]
  },
  {
   "cell_type": "code",
   "execution_count": null,
   "id": "11f567a8",
   "metadata": {},
   "outputs": [],
   "source": [
    "nash_three_bed.to_csv('../data/cleaned/housing/nash_three_bed.csv', index = False)"
   ]
  },
  {
   "cell_type": "code",
   "execution_count": null,
   "id": "a24ca676",
   "metadata": {},
   "outputs": [],
   "source": [
    "nash_four_bed.to_csv('../data/cleaned/housing/nash_four_bed.csv', index = False)"
   ]
  },
  {
   "cell_type": "code",
   "execution_count": null,
   "id": "8732e89a",
   "metadata": {},
   "outputs": [],
   "source": [
    "nash_five_bed.to_csv('../data/cleaned/housing/nash_five_bed.csv', index = False)"
   ]
  },
  {
   "cell_type": "code",
   "execution_count": null,
   "id": "127f1171",
   "metadata": {},
   "outputs": [],
   "source": [
    "austin_sales_count.to_csv('../data/cleaned/housing/austin_sales_count.csv', index = False)"
   ]
  },
  {
   "cell_type": "code",
   "execution_count": null,
   "id": "f013882b",
   "metadata": {},
   "outputs": [],
   "source": [
    "austin_inventory.to_csv('../data/cleaned/housing/austin_inventory.csv', index = False)"
   ]
  },
  {
   "cell_type": "code",
   "execution_count": null,
   "id": "c3f48e16",
   "metadata": {},
   "outputs": [],
   "source": [
    "austin_list_price.to_csv('../data/cleaned/housing/austin_list_price.csv', index = False)"
   ]
  },
  {
   "cell_type": "code",
   "execution_count": null,
   "id": "db8e4be8",
   "metadata": {},
   "outputs": [],
   "source": [
    "austin_forecast.to_csv('../data/cleaned/housing/austin_forecast.csv', index = False)"
   ]
  },
  {
   "cell_type": "code",
   "execution_count": null,
   "id": "6b2484b6",
   "metadata": {},
   "outputs": [],
   "source": [
    "austin_one_bed.to_csv('../data/cleaned/housing/austin_one_bed.csv', index = False)"
   ]
  },
  {
   "cell_type": "code",
   "execution_count": null,
   "id": "f40c9be9",
   "metadata": {},
   "outputs": [],
   "source": [
    "austin_two_bed.to_csv('../data/cleaned/housing/austin_two_bed.csv', index = False)"
   ]
  },
  {
   "cell_type": "code",
   "execution_count": null,
   "id": "062ff853",
   "metadata": {},
   "outputs": [],
   "source": [
    "austin_three_bed.to_csv('../data/cleaned/housing/austin_three_bed.csv', index = False)"
   ]
  },
  {
   "cell_type": "code",
   "execution_count": null,
   "id": "241f1c6b",
   "metadata": {},
   "outputs": [],
   "source": [
    "austin_four_bed.to_csv('../data/cleaned/housing/austin_four_bed.csv', index = False)"
   ]
  },
  {
   "cell_type": "code",
   "execution_count": null,
   "id": "56a9faa2",
   "metadata": {},
   "outputs": [],
   "source": [
    "austin_five_bed.to_csv('../data/cleaned/housing/austin_five_bed.csv', index = False)"
   ]
  },
  {
   "cell_type": "code",
   "execution_count": null,
   "id": "d7765043",
   "metadata": {},
   "outputs": [],
   "source": []
  }
 ],
 "metadata": {
  "kernelspec": {
   "display_name": "Python 3 (ipykernel)",
   "language": "python",
   "name": "python3"
  },
  "language_info": {
   "codemirror_mode": {
    "name": "ipython",
    "version": 3
   },
   "file_extension": ".py",
   "mimetype": "text/x-python",
   "name": "python",
   "nbconvert_exporter": "python",
   "pygments_lexer": "ipython3",
   "version": "3.9.13"
  }
 },
 "nbformat": 4,
 "nbformat_minor": 5
}
