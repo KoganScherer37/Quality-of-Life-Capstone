{
 "cells": [
  {
   "cell_type": "code",
   "execution_count": null,
   "id": "a2244243",
   "metadata": {},
   "outputs": [],
   "source": [
    "import pandas as pd\n",
    "import requests\n",
    "import numpy as np\n",
    "from datetime import datetime as dt\n",
    "from bs4 import BeautifulSoup as BS\n",
    "from time import sleep\n",
    "from random import randint\n",
    "import regex as re\n",
    "from IPython.core.display import HTML"
   ]
  },
  {
   "cell_type": "code",
   "execution_count": null,
   "id": "3503f67a",
   "metadata": {},
   "outputs": [],
   "source": [
    "#url for 2018 cost of living index\n",
    "URL_2018 = 'https://www.numbeo.com/cost-of-living/region_rankings.jsp?title=2018&region=021'\n",
    "\n",
    "#response\n",
    "resp_18 = requests.get(URL_2018)"
   ]
  },
  {
   "cell_type": "code",
   "execution_count": null,
   "id": "f9e3a17f",
   "metadata": {},
   "outputs": [],
   "source": [
    "#checking response status code\n",
    "resp_18.status_code"
   ]
  },
  {
   "cell_type": "code",
   "execution_count": null,
   "id": "b98d6b17",
   "metadata": {},
   "outputs": [],
   "source": [
    "#making soup of resp_18\n",
    "soup_18 = BS(resp_18.text)"
   ]
  },
  {
   "cell_type": "code",
   "execution_count": null,
   "id": "c7db1602",
   "metadata": {},
   "outputs": [],
   "source": [
    "#looking at soup\n",
    "soup_18"
   ]
  },
  {
   "cell_type": "code",
   "execution_count": null,
   "id": "a8cf608c",
   "metadata": {},
   "outputs": [],
   "source": [
    "#looking at prettified soup\n",
    "print(soup_18.prettify())"
   ]
  },
  {
   "cell_type": "code",
   "execution_count": null,
   "id": "9ca74b2f",
   "metadata": {},
   "outputs": [],
   "source": [
    "#finding all tables\n",
    "soup_18.find_all('table')"
   ]
  },
  {
   "cell_type": "code",
   "execution_count": null,
   "id": "a2d67f4c",
   "metadata": {},
   "outputs": [],
   "source": [
    "#looking at how many tables\n",
    "len(soup_18.find_all('table'))"
   ]
  },
  {
   "cell_type": "code",
   "execution_count": null,
   "id": "1baaaeba",
   "metadata": {},
   "outputs": [],
   "source": [
    "#looking at table\n",
    "tab_18_html = str(soup_18.find('table', attrs = {'id':'t2'}))\n",
    "\n",
    "HTML(tab_18_html)"
   ]
  },
  {
   "cell_type": "code",
   "execution_count": null,
   "id": "9c6c7880",
   "metadata": {},
   "outputs": [],
   "source": [
    "#reading table is as html and converting to a dataframe\n",
    "coli_2018 = pd.read_html(str(soup_18.find('table', attrs = {'id':'t2'})))[0]\n",
    "coli_2018.head()"
   ]
  },
  {
   "cell_type": "code",
   "execution_count": null,
   "id": "d6992791",
   "metadata": {},
   "outputs": [],
   "source": [
    "#adding year column\n",
    "coli_2018['year'] = 2018\n",
    "coli_2018.head()"
   ]
  },
  {
   "cell_type": "code",
   "execution_count": null,
   "id": "071d8db8",
   "metadata": {},
   "outputs": [],
   "source": [
    "#url for 2019 coli\n",
    "url_2019 = 'https://www.numbeo.com/cost-of-living/region_rankings.jsp?title=2019&region=021'\n",
    "\n",
    "#2019 response\n",
    "\n",
    "resp_19 = requests.get(url_2019)"
   ]
  },
  {
   "cell_type": "code",
   "execution_count": null,
   "id": "15138cff",
   "metadata": {},
   "outputs": [],
   "source": [
    "#status code check\n",
    "resp_19.status_code"
   ]
  },
  {
   "cell_type": "code",
   "execution_count": null,
   "id": "3b25da33",
   "metadata": {},
   "outputs": [],
   "source": [
    "#2019 soup\n",
    "soup_19 = BS(resp_19.text)"
   ]
  },
  {
   "cell_type": "code",
   "execution_count": null,
   "id": "9826515a",
   "metadata": {},
   "outputs": [],
   "source": [
    "#soup check\n",
    "soup_19"
   ]
  },
  {
   "cell_type": "code",
   "execution_count": null,
   "id": "5562e646",
   "metadata": {},
   "outputs": [],
   "source": [
    "#reading table is as html and converting to a dataframe\n",
    "coli_2019 = pd.read_html(str(soup_19.find('table', attrs = {'id':'t2'})))[0]\n",
    "coli_2019.head()"
   ]
  },
  {
   "cell_type": "code",
   "execution_count": null,
   "id": "d47c70e1",
   "metadata": {},
   "outputs": [],
   "source": [
    "#adding year column\n",
    "coli_2019['year'] = 2019\n",
    "coli_2019.head()"
   ]
  },
  {
   "cell_type": "code",
   "execution_count": null,
   "id": "be9997d0",
   "metadata": {},
   "outputs": [],
   "source": [
    "#url for 2020 coli\n",
    "url_2020 = 'https://www.numbeo.com/cost-of-living/region_rankings.jsp?title=2020&region=021'\n",
    "\n",
    "#2020 response\n",
    "\n",
    "resp_20 = requests.get(url_2020)"
   ]
  },
  {
   "cell_type": "code",
   "execution_count": null,
   "id": "d9906c16",
   "metadata": {},
   "outputs": [],
   "source": [
    "#status code check\n",
    "resp_20.status_code"
   ]
  },
  {
   "cell_type": "code",
   "execution_count": null,
   "id": "99d3d0aa",
   "metadata": {},
   "outputs": [],
   "source": [
    "#turning 2020 response to soup\n",
    "soup_20 = BS(resp_20.text)"
   ]
  },
  {
   "cell_type": "code",
   "execution_count": null,
   "id": "c14c6f7c",
   "metadata": {},
   "outputs": [],
   "source": [
    "#soup check\n",
    "soup_20"
   ]
  },
  {
   "cell_type": "code",
   "execution_count": null,
   "id": "801eff4e",
   "metadata": {},
   "outputs": [],
   "source": [
    "#reading table is as html and converting to a dataframe\n",
    "coli_2020 = pd.read_html(str(soup_20.find('table', attrs = {'id':'t2'})))[0]\n",
    "coli_2020.head()"
   ]
  },
  {
   "cell_type": "code",
   "execution_count": null,
   "id": "a5d9adc2",
   "metadata": {},
   "outputs": [],
   "source": [
    "#adding year column\n",
    "coli_2020['year'] = 2020\n",
    "coli_2020.head()"
   ]
  },
  {
   "cell_type": "code",
   "execution_count": null,
   "id": "de10d5aa",
   "metadata": {},
   "outputs": [],
   "source": [
    "#url for 2021 coli\n",
    "url_2021 = 'https://www.numbeo.com/cost-of-living/region_rankings.jsp?title=2021&region=021'\n",
    "\n",
    "#2021 response\n",
    "\n",
    "resp_21 = requests.get(url_2021)"
   ]
  },
  {
   "cell_type": "code",
   "execution_count": null,
   "id": "3a940cfb",
   "metadata": {},
   "outputs": [],
   "source": [
    "#status code check\n",
    "resp_21.status_code"
   ]
  },
  {
   "cell_type": "code",
   "execution_count": null,
   "id": "c4f4273d",
   "metadata": {},
   "outputs": [],
   "source": [
    "#turning 2020 response to soup\n",
    "soup_21 = BS(resp_21.text)"
   ]
  },
  {
   "cell_type": "code",
   "execution_count": null,
   "id": "2cf2b44c",
   "metadata": {},
   "outputs": [],
   "source": [
    "#soup check\n",
    "soup_21"
   ]
  },
  {
   "cell_type": "code",
   "execution_count": null,
   "id": "a6123a9e",
   "metadata": {},
   "outputs": [],
   "source": [
    "#reading table is as html and converting to a dataframe\n",
    "coli_2021 = pd.read_html(str(soup_21.find('table', attrs = {'id':'t2'})))[0]\n",
    "coli_2021.head()"
   ]
  },
  {
   "cell_type": "code",
   "execution_count": null,
   "id": "d8c4be7f",
   "metadata": {},
   "outputs": [],
   "source": [
    "#adding year column\n",
    "coli_2021['year'] = 2021\n",
    "coli_2021.head()"
   ]
  },
  {
   "cell_type": "code",
   "execution_count": null,
   "id": "43794baf",
   "metadata": {},
   "outputs": [],
   "source": [
    "#url for 2022 coli\n",
    "url_2022 = 'https://www.numbeo.com/cost-of-living/region_rankings.jsp?title=2022&region=021'\n",
    "\n",
    "#2021 response\n",
    "\n",
    "resp_22 = requests.get(url_2022)"
   ]
  },
  {
   "cell_type": "code",
   "execution_count": null,
   "id": "b8172fd3",
   "metadata": {},
   "outputs": [],
   "source": [
    "#status code check\n",
    "resp_22.status_code"
   ]
  },
  {
   "cell_type": "code",
   "execution_count": null,
   "id": "2878aa47",
   "metadata": {},
   "outputs": [],
   "source": [
    "#turning 2020 response to soup\n",
    "soup_22 = BS(resp_22.text)"
   ]
  },
  {
   "cell_type": "code",
   "execution_count": null,
   "id": "4e612c3c",
   "metadata": {},
   "outputs": [],
   "source": [
    "#soup check\n",
    "soup_22"
   ]
  },
  {
   "cell_type": "code",
   "execution_count": null,
   "id": "8b8f3cc0",
   "metadata": {},
   "outputs": [],
   "source": [
    "#reading table is as html and converting to a dataframe\n",
    "coli_2022 = pd.read_html(str(soup_22.find('table', attrs = {'id':'t2'})))[0]\n",
    "coli_2022.head()"
   ]
  },
  {
   "cell_type": "code",
   "execution_count": null,
   "id": "98f93fbf",
   "metadata": {},
   "outputs": [],
   "source": [
    "#adding year column\n",
    "coli_2022['year'] = 2022\n",
    "coli_2022.head()"
   ]
  },
  {
   "cell_type": "code",
   "execution_count": null,
   "id": "ccaed2f0",
   "metadata": {},
   "outputs": [],
   "source": []
  }
 ],
 "metadata": {
  "kernelspec": {
   "display_name": "Python 3 (ipykernel)",
   "language": "python",
   "name": "python3"
  },
  "language_info": {
   "codemirror_mode": {
    "name": "ipython",
    "version": 3
   },
   "file_extension": ".py",
   "mimetype": "text/x-python",
   "name": "python",
   "nbconvert_exporter": "python",
   "pygments_lexer": "ipython3",
   "version": "3.9.13"
  }
 },
 "nbformat": 4,
 "nbformat_minor": 5
}
