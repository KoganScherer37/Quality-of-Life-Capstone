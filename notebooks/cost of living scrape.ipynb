{
 "cells": [
  {
   "cell_type": "code",
   "execution_count": null,
   "id": "58656799",
   "metadata": {},
   "outputs": [],
   "source": [
    "import pandas as pd\n",
    "import requests\n",
    "import numpy as np\n",
    "from datetime import datetime as dt\n",
    "from bs4 import BeautifulSoup as BS\n",
    "from time import sleep\n",
    "from random import randint\n",
    "import regex as re\n",
    "from IPython.core.display import HTML"
   ]
  },
  {
   "cell_type": "code",
   "execution_count": null,
   "id": "bc8ec927",
   "metadata": {},
   "outputs": [],
   "source": [
    "#url for 2018 cost of living index\n",
    "URL_2018 = 'https://www.numbeo.com/cost-of-living/region_rankings.jsp?title=2018&region=021'\n",
    "\n",
    "#response\n",
    "resp_18 = requests.get(URL_2018)"
   ]
  },
  {
   "cell_type": "code",
   "execution_count": null,
   "id": "ba9995a2",
   "metadata": {},
   "outputs": [],
   "source": [
    "#checking response status code\n",
    "resp_18.status_code"
   ]
  },
  {
   "cell_type": "code",
   "execution_count": null,
   "id": "285599f3",
   "metadata": {},
   "outputs": [],
   "source": [
    "#making soup of resp_18\n",
    "soup_18 = BS(resp_18.text)"
   ]
  },
  {
   "cell_type": "code",
   "execution_count": null,
   "id": "b1f7ddd4",
   "metadata": {},
   "outputs": [],
   "source": [
    "#looking at soup\n",
    "soup_18"
   ]
  },
  {
   "cell_type": "code",
   "execution_count": null,
   "id": "8c158746",
   "metadata": {},
   "outputs": [],
   "source": [
    "#looking at prettified soup\n",
    "print(soup_18.prettify())"
   ]
  },
  {
   "cell_type": "code",
   "execution_count": null,
   "id": "b8c424c3",
   "metadata": {},
   "outputs": [],
   "source": [
    "#finding all tables\n",
    "soup_18.find_all('table')"
   ]
  },
  {
   "cell_type": "code",
   "execution_count": null,
   "id": "3cb61a57",
   "metadata": {},
   "outputs": [],
   "source": [
    "#looking at how many tables\n",
    "len(soup_18.find_all('table'))"
   ]
  },
  {
   "cell_type": "code",
   "execution_count": null,
   "id": "a200eb54",
   "metadata": {},
   "outputs": [],
   "source": [
    "#looking at table\n",
    "tab_18_html = str(soup_18.find('table', attrs = {'id':'t2'}))\n",
    "\n",
    "HTML(tab_18_html)"
   ]
  },
  {
   "cell_type": "code",
   "execution_count": null,
   "id": "8ea10c81",
   "metadata": {},
   "outputs": [],
   "source": [
    "#reading table is as html and converting to a dataframe\n",
    "coli_2018 = pd.read_html(str(soup_18.find('table', attrs = {'id':'t2'})))[0]\n",
    "coli_2018.head()"
   ]
  },
  {
   "cell_type": "code",
   "execution_count": null,
   "id": "60e2ad1d",
   "metadata": {},
   "outputs": [],
   "source": [
    "#adding year column\n",
    "coli_2018['year'] = 2018\n",
    "coli_2018.head()"
   ]
  },
  {
   "cell_type": "code",
   "execution_count": null,
   "id": "2e200a94",
   "metadata": {},
   "outputs": [],
   "source": [
    "#url for 2019 coli\n",
    "url_2019 = 'https://www.numbeo.com/cost-of-living/region_rankings.jsp?title=2019&region=021'\n",
    "\n",
    "#2019 response\n",
    "\n",
    "resp_19 = requests.get(url_2019)"
   ]
  },
  {
   "cell_type": "code",
   "execution_count": null,
   "id": "9a0f77e8",
   "metadata": {},
   "outputs": [],
   "source": [
    "#status code check\n",
    "resp_19.status_code"
   ]
  },
  {
   "cell_type": "code",
   "execution_count": null,
   "id": "0181df02",
   "metadata": {},
   "outputs": [],
   "source": [
    "#2019 soup\n",
    "soup_19 = BS(resp_19.text)"
   ]
  },
  {
   "cell_type": "code",
   "execution_count": null,
   "id": "2dcb9621",
   "metadata": {},
   "outputs": [],
   "source": [
    "#soup check\n",
    "soup_19"
   ]
  },
  {
   "cell_type": "code",
   "execution_count": null,
   "id": "45039360",
   "metadata": {},
   "outputs": [],
   "source": [
    "#reading table is as html and converting to a dataframe\n",
    "coli_2019 = pd.read_html(str(soup_19.find('table', attrs = {'id':'t2'})))[0]\n",
    "coli_2019.head()"
   ]
  },
  {
   "cell_type": "code",
   "execution_count": null,
   "id": "701a59c5",
   "metadata": {},
   "outputs": [],
   "source": [
    "#adding year column\n",
    "coli_2019['year'] = 2019\n",
    "coli_2019.head()"
   ]
  },
  {
   "cell_type": "code",
   "execution_count": null,
   "id": "cc7255fb",
   "metadata": {},
   "outputs": [],
   "source": [
    "#url for 2020 coli\n",
    "url_2020 = 'https://www.numbeo.com/cost-of-living/region_rankings.jsp?title=2020&region=021'\n",
    "\n",
    "#2020 response\n",
    "\n",
    "resp_20 = requests.get(url_2020)"
   ]
  },
  {
   "cell_type": "code",
   "execution_count": null,
   "id": "0112b92f",
   "metadata": {},
   "outputs": [],
   "source": [
    "#status code check\n",
    "resp_20.status_code"
   ]
  },
  {
   "cell_type": "code",
   "execution_count": null,
   "id": "e181d435",
   "metadata": {},
   "outputs": [],
   "source": [
    "#turning 2020 response to soup\n",
    "soup_20 = BS(resp_20.text)"
   ]
  },
  {
   "cell_type": "code",
   "execution_count": null,
   "id": "2befb467",
   "metadata": {},
   "outputs": [],
   "source": [
    "#soup check\n",
    "soup_20"
   ]
  },
  {
   "cell_type": "code",
   "execution_count": null,
   "id": "915d4684",
   "metadata": {},
   "outputs": [],
   "source": [
    "#reading table is as html and converting to a dataframe\n",
    "coli_2020 = pd.read_html(str(soup_20.find('table', attrs = {'id':'t2'})))[0]\n",
    "coli_2020.head()"
   ]
  },
  {
   "cell_type": "code",
   "execution_count": null,
   "id": "d2309f4c",
   "metadata": {},
   "outputs": [],
   "source": [
    "#adding year column\n",
    "coli_2020['year'] = 2020\n",
    "coli_2020.head()"
   ]
  },
  {
   "cell_type": "code",
   "execution_count": null,
   "id": "1d0e1051",
   "metadata": {},
   "outputs": [],
   "source": [
    "#url for 2021 coli\n",
    "url_2021 = 'https://www.numbeo.com/cost-of-living/region_rankings.jsp?title=2021&region=021'\n",
    "\n",
    "#2021 response\n",
    "\n",
    "resp_21 = requests.get(url_2021)"
   ]
  },
  {
   "cell_type": "code",
   "execution_count": null,
   "id": "f0654fe0",
   "metadata": {},
   "outputs": [],
   "source": [
    "#status code check\n",
    "resp_21.status_code"
   ]
  },
  {
   "cell_type": "code",
   "execution_count": null,
   "id": "94db6ace",
   "metadata": {},
   "outputs": [],
   "source": [
    "#turning 2020 response to soup\n",
    "soup_21 = BS(resp_21.text)"
   ]
  },
  {
   "cell_type": "code",
   "execution_count": null,
   "id": "9af10978",
   "metadata": {},
   "outputs": [],
   "source": [
    "#soup check\n",
    "soup_21"
   ]
  },
  {
   "cell_type": "code",
   "execution_count": null,
   "id": "bee14958",
   "metadata": {},
   "outputs": [],
   "source": [
    "#reading table is as html and converting to a dataframe\n",
    "coli_2021 = pd.read_html(str(soup_21.find('table', attrs = {'id':'t2'})))[0]\n",
    "coli_2021.head()"
   ]
  },
  {
   "cell_type": "code",
   "execution_count": null,
   "id": "eeffb216",
   "metadata": {},
   "outputs": [],
   "source": [
    "#adding year column\n",
    "coli_2021['year'] = 2021\n",
    "coli_2021.head()"
   ]
  },
  {
   "cell_type": "code",
   "execution_count": null,
   "id": "a208dc14",
   "metadata": {},
   "outputs": [],
   "source": [
    "#url for 2022 coli\n",
    "url_2022 = 'https://www.numbeo.com/cost-of-living/region_rankings.jsp?title=2022&region=021'\n",
    "\n",
    "#2021 response\n",
    "\n",
    "resp_22 = requests.get(url_2022)"
   ]
  },
  {
   "cell_type": "code",
   "execution_count": null,
   "id": "6e74f24b",
   "metadata": {},
   "outputs": [],
   "source": [
    "#status code check\n",
    "resp_22.status_code"
   ]
  },
  {
   "cell_type": "code",
   "execution_count": null,
   "id": "3633180c",
   "metadata": {},
   "outputs": [],
   "source": [
    "#turning 2020 response to soup\n",
    "soup_22 = BS(resp_22.text)"
   ]
  },
  {
   "cell_type": "code",
   "execution_count": null,
   "id": "ed35be93",
   "metadata": {},
   "outputs": [],
   "source": [
    "#soup check\n",
    "soup_22"
   ]
  },
  {
   "cell_type": "code",
   "execution_count": null,
   "id": "59ff43cc",
   "metadata": {},
   "outputs": [],
   "source": [
    "#reading table is as html and converting to a dataframe\n",
    "coli_2022 = pd.read_html(str(soup_22.find('table', attrs = {'id':'t2'})))[0]\n",
    "coli_2022.head()"
   ]
  },
  {
   "cell_type": "code",
   "execution_count": null,
   "id": "bb87e467",
   "metadata": {},
   "outputs": [],
   "source": [
    "#adding year column\n",
    "coli_2022['year'] = 2022\n",
    "coli_2022.head()"
   ]
  },
  {
   "cell_type": "code",
   "execution_count": null,
   "id": "bef53e7d",
   "metadata": {},
   "outputs": [],
   "source": [
    "coli_2022.columns"
   ]
  },
  {
   "cell_type": "code",
   "execution_count": null,
   "id": "e9288a19",
   "metadata": {},
   "outputs": [],
   "source": [
    "#pulling out relevant cities\n",
    "coli_2022 = coli_2022.loc[(coli_2022['City'] == 'New York, NY, United States')|\n",
    "                          (coli_2022['City'] == 'Austin, TX, United States') | \n",
    "                          (coli_2022['City'] == 'Atlanta, GA, United States')|\n",
    "                          (coli_2022['City'] == 'Nashville, TN, United States')].reset_index(drop=True)\n",
    "\n",
    "\n",
    "coli_2022"
   ]
  },
  {
   "cell_type": "code",
   "execution_count": null,
   "id": "2b864b4d",
   "metadata": {},
   "outputs": [],
   "source": [
    "#pulling out relevant cities\n",
    "coli_2021 = coli_2021.loc[(coli_2021['City'] == 'New York, NY, United States')|\n",
    "                          (coli_2021['City'] == 'Austin, TX, United States') | \n",
    "                          (coli_2021['City'] == 'Atlanta, GA, United States')|\n",
    "                          (coli_2021['City'] == 'Nashville, TN, United States')].reset_index(drop=True)\n",
    "\n",
    "coli_2021"
   ]
  },
  {
   "cell_type": "code",
   "execution_count": null,
   "id": "2e328774",
   "metadata": {},
   "outputs": [],
   "source": [
    "#pulling out relevant cities\n",
    "coli_2020 = coli_2020.loc[(coli_2020['City'] == 'New York, NY, United States')|\n",
    "                          (coli_2020['City'] == 'Austin, TX, United States') | \n",
    "                          (coli_2020['City'] == 'Atlanta, GA, United States')|\n",
    "                          (coli_2020['City'] == 'Nashville, TN, United States')].reset_index(drop=True)\n",
    "\n",
    "coli_2020"
   ]
  },
  {
   "cell_type": "code",
   "execution_count": null,
   "id": "c53dcf36",
   "metadata": {},
   "outputs": [],
   "source": [
    "#pulling out relevant cities\n",
    "coli_2019 = coli_2019.loc[(coli_2019['City'] == 'New York, NY, United States')|\n",
    "                          (coli_2019['City'] == 'Austin, TX, United States') | \n",
    "                          (coli_2019['City'] == 'Atlanta, GA, United States')|\n",
    "                          (coli_2019['City'] == 'Nashville, TN, United States')].reset_index(drop=True)\n",
    "\n",
    "coli_2019"
   ]
  },
  {
   "cell_type": "code",
   "execution_count": null,
   "id": "31b633fc",
   "metadata": {},
   "outputs": [],
   "source": [
    "#pulling out relevant cities\n",
    "coli_2018 = coli_2018.loc[(coli_2018['City'] == 'New York, NY, United States')|\n",
    "                          (coli_2018['City'] == 'Austin, TX, United States') | \n",
    "                          (coli_2018['City'] == 'Atlanta, GA, United States')|\n",
    "                          (coli_2018['City'] == 'Nashville, TN, United States')].reset_index(drop=True)\n",
    "\n",
    "coli_2018"
   ]
  },
  {
   "cell_type": "code",
   "execution_count": null,
   "id": "944d7614",
   "metadata": {},
   "outputs": [],
   "source": [
    "#splitting the city only out of the City column\n",
    "coli_2022[['city','state','country']] = coli_2022['City'].str.split(', ', expand=True)\n",
    "\n",
    "#pulling relevant columns\n",
    "coli_2022 = coli_2022.loc[:,['year', 'city', 'Cost of Living Index', 'Rent Index',\n",
    "                             'Cost of Living Plus Rent Index', 'Groceries Index',\n",
    "                             'Restaurant Price Index', 'Local Purchasing Power Index']]\n",
    "coli_2022"
   ]
  },
  {
   "cell_type": "code",
   "execution_count": null,
   "id": "45d04098",
   "metadata": {},
   "outputs": [],
   "source": [
    "#splitting the city only out of the City column\n",
    "coli_2021[['city','state','country']] = coli_2021['City'].str.split(', ', expand=True)\n",
    "\n",
    "#pulling relevant columns\n",
    "coli_2021 = coli_2021.loc[:,['year', 'city', 'Cost of Living Index', 'Rent Index',\n",
    "                             'Cost of Living Plus Rent Index', 'Groceries Index',\n",
    "                             'Restaurant Price Index', 'Local Purchasing Power Index']]\n",
    "coli_2021"
   ]
  },
  {
   "cell_type": "code",
   "execution_count": null,
   "id": "0274b4c3",
   "metadata": {},
   "outputs": [],
   "source": [
    "#splitting the city only out of the City column\n",
    "coli_2020[['city','state','country']] = coli_2020['City'].str.split(', ', expand=True)\n",
    "\n",
    "#pulling relevant columns\n",
    "coli_2020 = coli_2020.loc[:,['year', 'city', 'Cost of Living Index', 'Rent Index',\n",
    "                             'Cost of Living Plus Rent Index', 'Groceries Index',\n",
    "                             'Restaurant Price Index', 'Local Purchasing Power Index']]\n",
    "coli_2020"
   ]
  },
  {
   "cell_type": "code",
   "execution_count": null,
   "id": "f4baab1e",
   "metadata": {},
   "outputs": [],
   "source": [
    "#splitting the city only out of the City column\n",
    "coli_2019[['city','state','country']] = coli_2019['City'].str.split(', ', expand=True)\n",
    "\n",
    "#pulling relevant columns\n",
    "coli_2019 = coli_2019.loc[:,['year', 'city', 'Cost of Living Index', 'Rent Index',\n",
    "                             'Cost of Living Plus Rent Index', 'Groceries Index',\n",
    "                             'Restaurant Price Index', 'Local Purchasing Power Index']]\n",
    "coli_2019"
   ]
  },
  {
   "cell_type": "code",
   "execution_count": null,
   "id": "e493766b",
   "metadata": {},
   "outputs": [],
   "source": [
    "#splitting the city only out of the City column\n",
    "coli_2018[['city','state','country']] = coli_2018['City'].str.split(', ', expand=True)\n",
    "\n",
    "#pulling relevant columns\n",
    "coli_2018 = coli_2018.loc[:,['year', 'city', 'Cost of Living Index', 'Rent Index',\n",
    "                             'Cost of Living Plus Rent Index', 'Groceries Index',\n",
    "                             'Restaurant Price Index', 'Local Purchasing Power Index']]\n",
    "coli_2018"
   ]
  },
  {
   "cell_type": "code",
   "execution_count": null,
   "id": "d9a4a571",
   "metadata": {},
   "outputs": [],
   "source": [
    "coli_2022.to_csv('../data/cleaned/economic/coli_2022.csv', index = False)"
   ]
  },
  {
   "cell_type": "code",
   "execution_count": null,
   "id": "88cb3a7d",
   "metadata": {},
   "outputs": [],
   "source": [
    "coli_2021.to_csv('../data/cleaned/economic/coli_2021.csv', index = False)"
   ]
  },
  {
   "cell_type": "code",
   "execution_count": null,
   "id": "36a175ad",
   "metadata": {},
   "outputs": [],
   "source": [
    "coli_2020.to_csv('../data/cleaned/economic/coli_2020.csv', index = False)"
   ]
  },
  {
   "cell_type": "code",
   "execution_count": null,
   "id": "536ef8cb",
   "metadata": {},
   "outputs": [],
   "source": [
    "coli_2019.to_csv('../data/cleaned/economic/coli_2019.csv', index = False)"
   ]
  },
  {
   "cell_type": "code",
   "execution_count": null,
   "id": "d4e4b285",
   "metadata": {},
   "outputs": [],
   "source": [
    "coli_2018.to_csv('../data/cleaned/economic/coli_2018.csv', index = False)"
   ]
  },
  {
   "cell_type": "code",
   "execution_count": null,
   "id": "ce17d46a",
   "metadata": {},
   "outputs": [],
   "source": [
    "#concatenating all tables together\n",
    "coli = pd.concat([coli_2018,coli_2019,coli_2020, coli_2021,coli_2022])\n",
    "coli"
   ]
  },
  {
   "cell_type": "code",
   "execution_count": null,
   "id": "3d02840d",
   "metadata": {},
   "outputs": [],
   "source": [
    "coli.to_csv('../data/cleaned/economic/coli.csv')"
   ]
  },
  {
   "cell_type": "code",
   "execution_count": null,
   "id": "861fecc6",
   "metadata": {},
   "outputs": [],
   "source": []
  }
 ],
 "metadata": {
  "kernelspec": {
   "display_name": "Python 3 (ipykernel)",
   "language": "python",
   "name": "python3"
  },
  "language_info": {
   "codemirror_mode": {
    "name": "ipython",
    "version": 3
   },
   "file_extension": ".py",
   "mimetype": "text/x-python",
   "name": "python",
   "nbconvert_exporter": "python",
   "pygments_lexer": "ipython3",
   "version": "3.9.13"
  }
 },
 "nbformat": 4,
 "nbformat_minor": 5
}
