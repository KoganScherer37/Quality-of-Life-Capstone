{
 "cells": [
  {
   "cell_type": "code",
   "execution_count": null,
   "id": "0c1003e7",
   "metadata": {},
   "outputs": [],
   "source": [
    "import pandas as pd\n",
    "import requests\n",
    "import numpy as np\n",
    "from datetime import datetime as dt\n",
    "from bs4 import BeautifulSoup as BS\n",
    "from time import sleep\n",
    "from random import randint\n",
    "import regex as re\n",
    "from IPython.core.display import HTML"
   ]
  },
  {
   "cell_type": "code",
   "execution_count": null,
   "id": "af0376f9",
   "metadata": {},
   "outputs": [],
   "source": [
    "#url for 2018 cost of living index\n",
    "URL_2018 = 'https://www.numbeo.com/cost-of-living/region_rankings.jsp?title=2018&region=021'\n",
    "\n",
    "#response\n",
    "resp_18 = requests.get(URL_2018)"
   ]
  },
  {
   "cell_type": "code",
   "execution_count": null,
   "id": "7bc75842",
   "metadata": {},
   "outputs": [],
   "source": [
    "#checking response status code\n",
    "resp_18.status_code"
   ]
  },
  {
   "cell_type": "code",
   "execution_count": null,
   "id": "e7cb61b3",
   "metadata": {},
   "outputs": [],
   "source": [
    "#making soup of resp_18\n",
    "soup_18 = BS(resp_18.text)"
   ]
  },
  {
   "cell_type": "code",
   "execution_count": null,
   "id": "2133151a",
   "metadata": {},
   "outputs": [],
   "source": [
    "#looking at soup\n",
    "soup_18"
   ]
  },
  {
   "cell_type": "code",
   "execution_count": null,
   "id": "e3e12a7c",
   "metadata": {},
   "outputs": [],
   "source": [
    "#looking at prettified soup\n",
    "print(soup_18.prettify())"
   ]
  },
  {
   "cell_type": "code",
   "execution_count": null,
   "id": "cf6ba43d",
   "metadata": {},
   "outputs": [],
   "source": [
    "#finding all tables\n",
    "soup_18.find_all('table')"
   ]
  },
  {
   "cell_type": "code",
   "execution_count": null,
   "id": "653504a6",
   "metadata": {},
   "outputs": [],
   "source": [
    "#looking at how many tables\n",
    "len(soup_18.find_all('table'))"
   ]
  },
  {
   "cell_type": "code",
   "execution_count": null,
   "id": "4cb4e914",
   "metadata": {},
   "outputs": [],
   "source": [
    "#looking at table\n",
    "tab_18_html = str(soup_18.find('table', attrs = {'id':'t2'}))\n",
    "\n",
    "HTML(tab_18_html)"
   ]
  },
  {
   "cell_type": "code",
   "execution_count": null,
   "id": "bf05b019",
   "metadata": {},
   "outputs": [],
   "source": [
    "#reading table is as html and converting to a dataframe\n",
    "coli_2018 = pd.read_html(str(soup_18.find('table', attrs = {'id':'t2'})))[0]\n",
    "coli_2018.head()"
   ]
  },
  {
   "cell_type": "code",
   "execution_count": null,
   "id": "7cd19f1d",
   "metadata": {},
   "outputs": [],
   "source": [
    "#adding year column\n",
    "coli_2018['year'] = 2018\n",
    "coli_2018.head()"
   ]
  },
  {
   "cell_type": "code",
   "execution_count": null,
   "id": "7ac15428",
   "metadata": {},
   "outputs": [],
   "source": [
    "#url for 2019 coli\n",
    "url_2019 = 'https://www.numbeo.com/cost-of-living/region_rankings.jsp?title=2019&region=021'\n",
    "\n",
    "#2019 response\n",
    "\n",
    "resp_19 = requests.get(url_2019)"
   ]
  },
  {
   "cell_type": "code",
   "execution_count": null,
   "id": "4812d034",
   "metadata": {},
   "outputs": [],
   "source": [
    "#status code check\n",
    "resp_19.status_code"
   ]
  },
  {
   "cell_type": "code",
   "execution_count": null,
   "id": "9fe3ee6c",
   "metadata": {},
   "outputs": [],
   "source": [
    "#2019 soup\n",
    "soup_19 = BS(resp_19.text)"
   ]
  },
  {
   "cell_type": "code",
   "execution_count": null,
   "id": "4f9ef854",
   "metadata": {},
   "outputs": [],
   "source": [
    "#soup check\n",
    "soup_19"
   ]
  },
  {
   "cell_type": "code",
   "execution_count": null,
   "id": "096dbb91",
   "metadata": {},
   "outputs": [],
   "source": [
    "#reading table is as html and converting to a dataframe\n",
    "coli_2019 = pd.read_html(str(soup_19.find('table', attrs = {'id':'t2'})))[0]\n",
    "coli_2019.head()"
   ]
  },
  {
   "cell_type": "code",
   "execution_count": null,
   "id": "8fc8dc09",
   "metadata": {},
   "outputs": [],
   "source": [
    "#adding year column\n",
    "coli_2019['year'] = 2019\n",
    "coli_2019.head()"
   ]
  },
  {
   "cell_type": "code",
   "execution_count": null,
   "id": "26488a66",
   "metadata": {},
   "outputs": [],
   "source": [
    "#url for 2020 coli\n",
    "url_2020 = 'https://www.numbeo.com/cost-of-living/region_rankings.jsp?title=2020&region=021'\n",
    "\n",
    "#2020 response\n",
    "\n",
    "resp_20 = requests.get(url_2020)"
   ]
  },
  {
   "cell_type": "code",
   "execution_count": null,
   "id": "ea185d4a",
   "metadata": {},
   "outputs": [],
   "source": [
    "#status code check\n",
    "resp_20.status_code"
   ]
  },
  {
   "cell_type": "code",
   "execution_count": null,
   "id": "920d9b92",
   "metadata": {},
   "outputs": [],
   "source": [
    "#turning 2020 response to soup\n",
    "soup_20 = BS(resp_20.text)"
   ]
  },
  {
   "cell_type": "code",
   "execution_count": null,
   "id": "601e08a3",
   "metadata": {},
   "outputs": [],
   "source": [
    "#soup check\n",
    "soup_20"
   ]
  },
  {
   "cell_type": "code",
   "execution_count": null,
   "id": "e484bb8e",
   "metadata": {},
   "outputs": [],
   "source": [
    "#reading table is as html and converting to a dataframe\n",
    "coli_2020 = pd.read_html(str(soup_20.find('table', attrs = {'id':'t2'})))[0]\n",
    "coli_2020.head()"
   ]
  },
  {
   "cell_type": "code",
   "execution_count": null,
   "id": "c785fc2a",
   "metadata": {},
   "outputs": [],
   "source": [
    "#adding year column\n",
    "coli_2020['year'] = 2020\n",
    "coli_2020.head()"
   ]
  },
  {
   "cell_type": "code",
   "execution_count": null,
   "id": "15b51a82",
   "metadata": {},
   "outputs": [],
   "source": [
    "#url for 2021 coli\n",
    "url_2021 = 'https://www.numbeo.com/cost-of-living/region_rankings.jsp?title=2021&region=021'\n",
    "\n",
    "#2021 response\n",
    "\n",
    "resp_21 = requests.get(url_2021)"
   ]
  },
  {
   "cell_type": "code",
   "execution_count": null,
   "id": "c09f444f",
   "metadata": {},
   "outputs": [],
   "source": [
    "#status code check\n",
    "resp_21.status_code"
   ]
  },
  {
   "cell_type": "code",
   "execution_count": null,
   "id": "f7caa581",
   "metadata": {},
   "outputs": [],
   "source": [
    "#turning 2020 response to soup\n",
    "soup_21 = BS(resp_21.text)"
   ]
  },
  {
   "cell_type": "code",
   "execution_count": null,
   "id": "8b164e5f",
   "metadata": {},
   "outputs": [],
   "source": [
    "#soup check\n",
    "soup_21"
   ]
  },
  {
   "cell_type": "code",
   "execution_count": null,
   "id": "7e331d23",
   "metadata": {},
   "outputs": [],
   "source": [
    "#reading table is as html and converting to a dataframe\n",
    "coli_2021 = pd.read_html(str(soup_21.find('table', attrs = {'id':'t2'})))[0]\n",
    "coli_2021.head()"
   ]
  },
  {
   "cell_type": "code",
   "execution_count": null,
   "id": "ee7fe615",
   "metadata": {},
   "outputs": [],
   "source": [
    "#adding year column\n",
    "coli_2021['year'] = 2021\n",
    "coli_2021.head()"
   ]
  },
  {
   "cell_type": "code",
   "execution_count": null,
   "id": "3c513782",
   "metadata": {},
   "outputs": [],
   "source": [
    "#url for 2022 coli\n",
    "url_2022 = 'https://www.numbeo.com/cost-of-living/region_rankings.jsp?title=2022&region=021'\n",
    "\n",
    "#2021 response\n",
    "\n",
    "resp_22 = requests.get(url_2022)"
   ]
  },
  {
   "cell_type": "code",
   "execution_count": null,
   "id": "4ed16b0b",
   "metadata": {},
   "outputs": [],
   "source": [
    "#status code check\n",
    "resp_22.status_code"
   ]
  },
  {
   "cell_type": "code",
   "execution_count": null,
   "id": "efd62cee",
   "metadata": {},
   "outputs": [],
   "source": [
    "#turning 2020 response to soup\n",
    "soup_22 = BS(resp_22.text)"
   ]
  },
  {
   "cell_type": "code",
   "execution_count": null,
   "id": "c2fda239",
   "metadata": {},
   "outputs": [],
   "source": [
    "#soup check\n",
    "soup_22"
   ]
  },
  {
   "cell_type": "code",
   "execution_count": null,
   "id": "a4829d47",
   "metadata": {},
   "outputs": [],
   "source": [
    "#reading table is as html and converting to a dataframe\n",
    "coli_2022 = pd.read_html(str(soup_22.find('table', attrs = {'id':'t2'})))[0]\n",
    "coli_2022.head()"
   ]
  },
  {
   "cell_type": "code",
   "execution_count": null,
   "id": "ade7b7a7",
   "metadata": {},
   "outputs": [],
   "source": [
    "#adding year column\n",
    "coli_2022['year'] = 2022\n",
    "coli_2022.head()"
   ]
  },
  {
   "cell_type": "code",
   "execution_count": null,
   "id": "cd11bd93",
   "metadata": {},
   "outputs": [],
   "source": [
    "coli_2022.columns"
   ]
  },
  {
   "cell_type": "code",
   "execution_count": null,
   "id": "be4afe31",
   "metadata": {},
   "outputs": [],
   "source": [
    "#pulling out relevant cities\n",
    "coli_2022 = coli_2022.loc[(coli_2022['City'] == 'New York, NY, United States')|\n",
    "                          (coli_2022['City'] == 'Austin, TX, United States') | \n",
    "                          (coli_2022['City'] == 'Atlanta, GA, United States')|\n",
    "                          (coli_2022['City'] == 'Nashville, TN, United States')].reset_index(drop=True)\n",
    "\n",
    "\n",
    "coli_2022"
   ]
  },
  {
   "cell_type": "code",
   "execution_count": null,
   "id": "3a4a7375",
   "metadata": {},
   "outputs": [],
   "source": [
    "#pulling out relevant cities\n",
    "coli_2021 = coli_2021.loc[(coli_2021['City'] == 'New York, NY, United States')|\n",
    "                          (coli_2021['City'] == 'Austin, TX, United States') | \n",
    "                          (coli_2021['City'] == 'Atlanta, GA, United States')|\n",
    "                          (coli_2021['City'] == 'Nashville, TN, United States')].reset_index(drop=True)\n",
    "\n",
    "coli_2021"
   ]
  },
  {
   "cell_type": "code",
   "execution_count": null,
   "id": "40b4859b",
   "metadata": {},
   "outputs": [],
   "source": [
    "#pulling out relevant cities\n",
    "coli_2020 = coli_2020.loc[(coli_2020['City'] == 'New York, NY, United States')|\n",
    "                          (coli_2020['City'] == 'Austin, TX, United States') | \n",
    "                          (coli_2020['City'] == 'Atlanta, GA, United States')|\n",
    "                          (coli_2020['City'] == 'Nashville, TN, United States')].reset_index(drop=True)\n",
    "\n",
    "coli_2020"
   ]
  },
  {
   "cell_type": "code",
   "execution_count": null,
   "id": "c7a01df7",
   "metadata": {},
   "outputs": [],
   "source": [
    "#pulling out relevant cities\n",
    "coli_2019 = coli_2019.loc[(coli_2019['City'] == 'New York, NY, United States')|\n",
    "                          (coli_2019['City'] == 'Austin, TX, United States') | \n",
    "                          (coli_2019['City'] == 'Atlanta, GA, United States')|\n",
    "                          (coli_2019['City'] == 'Nashville, TN, United States')].reset_index(drop=True)\n",
    "\n",
    "coli_2019"
   ]
  },
  {
   "cell_type": "code",
   "execution_count": null,
   "id": "50ab8ba4",
   "metadata": {},
   "outputs": [],
   "source": [
    "#pulling out relevant cities\n",
    "coli_2018 = coli_2018.loc[(coli_2018['City'] == 'New York, NY, United States')|\n",
    "                          (coli_2018['City'] == 'Austin, TX, United States') | \n",
    "                          (coli_2018['City'] == 'Atlanta, GA, United States')|\n",
    "                          (coli_2018['City'] == 'Nashville, TN, United States')].reset_index(drop=True)\n",
    "\n",
    "coli_2018"
   ]
  },
  {
   "cell_type": "code",
   "execution_count": null,
   "id": "9d1dc6e0",
   "metadata": {},
   "outputs": [],
   "source": [
    "#splitting the city only out of the City column\n",
    "coli_2022[['city','state','country']] = coli_2022['City'].str.split(', ', expand=True)\n",
    "\n",
    "#pulling relevant columns\n",
    "coli_2022 = coli_2022.loc[:,['year', 'city', 'Cost of Living Index', 'Rent Index',\n",
    "                             'Cost of Living Plus Rent Index', 'Groceries Index',\n",
    "                             'Restaurant Price Index', 'Local Purchasing Power Index']]\n",
    "coli_2022"
   ]
  },
  {
   "cell_type": "code",
   "execution_count": null,
   "id": "eedcd791",
   "metadata": {},
   "outputs": [],
   "source": [
    "#splitting the city only out of the City column\n",
    "coli_2021[['city','state','country']] = coli_2021['City'].str.split(', ', expand=True)\n",
    "\n",
    "#pulling relevant columns\n",
    "coli_2021 = coli_2021.loc[:,['year', 'city', 'Cost of Living Index', 'Rent Index',\n",
    "                             'Cost of Living Plus Rent Index', 'Groceries Index',\n",
    "                             'Restaurant Price Index', 'Local Purchasing Power Index']]\n",
    "coli_2021"
   ]
  },
  {
   "cell_type": "code",
   "execution_count": null,
   "id": "ea78f56b",
   "metadata": {},
   "outputs": [],
   "source": [
    "#splitting the city only out of the City column\n",
    "coli_2020[['city','state','country']] = coli_2020['City'].str.split(', ', expand=True)\n",
    "\n",
    "#pulling relevant columns\n",
    "coli_2020 = coli_2020.loc[:,['year', 'city', 'Cost of Living Index', 'Rent Index',\n",
    "                             'Cost of Living Plus Rent Index', 'Groceries Index',\n",
    "                             'Restaurant Price Index', 'Local Purchasing Power Index']]\n",
    "coli_2020"
   ]
  },
  {
   "cell_type": "code",
   "execution_count": null,
   "id": "70013eb2",
   "metadata": {},
   "outputs": [],
   "source": [
    "#splitting the city only out of the City column\n",
    "coli_2019[['city','state','country']] = coli_2019['City'].str.split(', ', expand=True)\n",
    "\n",
    "#pulling relevant columns\n",
    "coli_2019 = coli_2019.loc[:,['year', 'city', 'Cost of Living Index', 'Rent Index',\n",
    "                             'Cost of Living Plus Rent Index', 'Groceries Index',\n",
    "                             'Restaurant Price Index', 'Local Purchasing Power Index']]\n",
    "coli_2019"
   ]
  },
  {
   "cell_type": "code",
   "execution_count": null,
   "id": "affe130c",
   "metadata": {},
   "outputs": [],
   "source": [
    "#splitting the city only out of the City column\n",
    "coli_2018[['city','state','country']] = coli_2018['City'].str.split(', ', expand=True)\n",
    "\n",
    "#pulling relevant columns\n",
    "coli_2018 = coli_2018.loc[:,['year', 'city', 'Cost of Living Index', 'Rent Index',\n",
    "                             'Cost of Living Plus Rent Index', 'Groceries Index',\n",
    "                             'Restaurant Price Index', 'Local Purchasing Power Index']]\n",
    "coli_2018"
   ]
  },
  {
   "cell_type": "code",
   "execution_count": null,
   "id": "fd835be9",
   "metadata": {},
   "outputs": [],
   "source": [
    "coli_2022.to_csv('../data/cleaned/economic/coli_2022.csv', index = False)"
   ]
  },
  {
   "cell_type": "code",
   "execution_count": null,
   "id": "8b3432f0",
   "metadata": {},
   "outputs": [],
   "source": [
    "coli_2021.to_csv('../data/cleaned/economic/coli_2021.csv', index = False)"
   ]
  },
  {
   "cell_type": "code",
   "execution_count": null,
   "id": "757f344d",
   "metadata": {},
   "outputs": [],
   "source": [
    "coli_2020.to_csv('../data/cleaned/economic/coli_2020.csv', index = False)"
   ]
  },
  {
   "cell_type": "code",
   "execution_count": null,
   "id": "6d56acc6",
   "metadata": {},
   "outputs": [],
   "source": [
    "coli_2019.to_csv('../data/cleaned/economic/coli_2019.csv', index = False)"
   ]
  },
  {
   "cell_type": "code",
   "execution_count": null,
   "id": "39c1613d",
   "metadata": {},
   "outputs": [],
   "source": [
    "coli_2018.to_csv('../data/cleaned/economic/coli_2018.csv', index = False)"
   ]
  },
  {
   "cell_type": "code",
   "execution_count": null,
   "id": "5d34bc4f",
   "metadata": {},
   "outputs": [],
   "source": []
  }
 ],
 "metadata": {
  "kernelspec": {
   "display_name": "Python 3 (ipykernel)",
   "language": "python",
   "name": "python3"
  },
  "language_info": {
   "codemirror_mode": {
    "name": "ipython",
    "version": 3
   },
   "file_extension": ".py",
   "mimetype": "text/x-python",
   "name": "python",
   "nbconvert_exporter": "python",
   "pygments_lexer": "ipython3",
   "version": "3.9.13"
  }
 },
 "nbformat": 4,
 "nbformat_minor": 5
}
