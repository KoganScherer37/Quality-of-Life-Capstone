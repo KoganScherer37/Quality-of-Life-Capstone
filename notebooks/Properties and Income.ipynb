{
 "cells": [
  {
   "cell_type": "code",
   "execution_count": null,
   "id": "fd1542b8",
   "metadata": {},
   "outputs": [],
   "source": [
    "import pandas as pd\n",
    "import matplotlib.pyplot as plt\n",
    "import numpy as np\n",
    "import seaborn as sns\n",
    "from datetime import datetime as dt\n",
    "import plotly.express as px\n",
    "\n",
    "\n",
    "%matplotlib inline"
   ]
  },
  {
   "cell_type": "code",
   "execution_count": null,
   "id": "262fae3c",
   "metadata": {},
   "outputs": [],
   "source": [
    "#Pulling in zillow inventory csv\n",
    "inventory = pd.read_csv('../data/zillow_inventory.csv')"
   ]
  },
  {
   "cell_type": "code",
   "execution_count": null,
   "id": "d81b2fad",
   "metadata": {},
   "outputs": [],
   "source": [
    "inventory.head()"
   ]
  },
  {
   "cell_type": "code",
   "execution_count": null,
   "id": "b6d00b4c",
   "metadata": {},
   "outputs": [],
   "source": [
    "#pulling in average list price csv\n",
    "list_price = pd.read_csv('../data/zillow_list_and_sales_price.csv')"
   ]
  },
  {
   "cell_type": "code",
   "execution_count": null,
   "id": "b815852e",
   "metadata": {},
   "outputs": [],
   "source": [
    "list_price.head()"
   ]
  },
  {
   "cell_type": "code",
   "execution_count": null,
   "id": "93a67eca",
   "metadata": {},
   "outputs": [],
   "source": [
    "#pulling in sales count csv\n",
    "sales_count = pd.read_csv('../data/zillow_sales_count.csv')"
   ]
  },
  {
   "cell_type": "code",
   "execution_count": null,
   "id": "de6150e7",
   "metadata": {},
   "outputs": [],
   "source": [
    "sales_count.head()"
   ]
  },
  {
   "cell_type": "code",
   "execution_count": null,
   "id": "f161bae1",
   "metadata": {},
   "outputs": [],
   "source": [
    "#pulling sales counts for Atlanta\n",
    "atl_sales_count = sales_count.loc[sales_count['RegionName']=='Atlanta, GA']\n",
    "atl_sales_count"
   ]
  },
  {
   "cell_type": "code",
   "execution_count": null,
   "id": "592d260e",
   "metadata": {},
   "outputs": [],
   "source": [
    "#pulling out list price for Atlanta\n",
    "atl_list_price = list_price.loc[list_price['RegionName']=='Atlanta, GA']\n",
    "atl_list_price"
   ]
  },
  {
   "cell_type": "code",
   "execution_count": null,
   "id": "37c5c876",
   "metadata": {},
   "outputs": [],
   "source": [
    "#inventory for Atlanta\n",
    "atl_inventory = inventory.loc[inventory['RegionName']=='Atlanta, GA']\n",
    "atl_inventory"
   ]
  },
  {
   "cell_type": "code",
   "execution_count": null,
   "id": "8a5dce65",
   "metadata": {},
   "outputs": [],
   "source": [
    "#Atlanta sales count melt\n",
    "atl_sales_count = pd.melt(atl_sales_count, id_vars=['RegionID','SizeRank','RegionName','RegionType','StateName'], var_name = 'date', value_name = 'sales_count' )\n",
    "atl_sales_count.head()"
   ]
  },
  {
   "cell_type": "code",
   "execution_count": null,
   "id": "b45c4a94",
   "metadata": {},
   "outputs": [],
   "source": [
    "#converting sales count date to datetime\n",
    "atl_sales_count['date']= pd.to_datetime(atl_sales_count['date'])\n",
    "atl_sales_count.info()"
   ]
  },
  {
   "cell_type": "code",
   "execution_count": null,
   "id": "5836d032",
   "metadata": {},
   "outputs": [],
   "source": [
    "#adjusting time to match other dateframes starting at 2018-03-31\n",
    "atl_sales_count = atl_sales_count.loc[atl_sales_count['date']>='2018-03-31']\n",
    "atl_sales_count = atl_sales_count.reset_index(drop=True)\n",
    "atl_sales_count = atl_sales_count.rename(columns = {'RegionName':'City','StateName':'State'})\n",
    "atl_sales_count.head()"
   ]
  },
  {
   "cell_type": "code",
   "execution_count": null,
   "id": "a8043135",
   "metadata": {},
   "outputs": [],
   "source": [
    "#Atlanta list price melt\n",
    "atl_list_price = pd.melt(atl_list_price, id_vars=['RegionID','SizeRank','RegionName','RegionType','StateName'], var_name = 'date', value_name = 'avg_list_price' )\n",
    "atl_list_price.head()"
   ]
  },
  {
   "cell_type": "code",
   "execution_count": null,
   "id": "2bfdd1f1",
   "metadata": {},
   "outputs": [],
   "source": [
    "atl_list_price = atl_list_price.rename(columns = {'RegionName':'City','StateName':'State'})\n",
    "atl_list_price.head()"
   ]
  },
  {
   "cell_type": "code",
   "execution_count": null,
   "id": "ddbaae1b",
   "metadata": {},
   "outputs": [],
   "source": [
    "#Atlanta inventory melt\n",
    "atl_inventory = pd.melt(atl_inventory, id_vars=['RegionID','SizeRank','RegionName','RegionType','StateName'], var_name = 'date', value_name = 'inventory_count' )"
   ]
  },
  {
   "cell_type": "code",
   "execution_count": null,
   "id": "9fe08383",
   "metadata": {},
   "outputs": [],
   "source": [
    "atl_inventory = atl_inventory.rename(columns = {'RegionName':'City','StateName':'State'})\n",
    "atl_inventory.head()"
   ]
  },
  {
   "cell_type": "code",
   "execution_count": null,
   "id": "b2e7c774",
   "metadata": {},
   "outputs": [],
   "source": [
    "#All sales count melt\n",
    "sales_count = pd.melt(sales_count, id_vars=['RegionID','SizeRank','RegionName','RegionType','StateName'], var_name = 'date', value_name = 'sales_count' )"
   ]
  },
  {
   "cell_type": "code",
   "execution_count": null,
   "id": "24c89897",
   "metadata": {},
   "outputs": [],
   "source": [
    "sales_count = sales_count.rename(columns = {'RegionName':'City','StateName':'State'})\n",
    "sales_count.head()"
   ]
  },
  {
   "cell_type": "code",
   "execution_count": null,
   "id": "96a2777e",
   "metadata": {},
   "outputs": [],
   "source": [
    "sales_count.info()"
   ]
  },
  {
   "cell_type": "code",
   "execution_count": null,
   "id": "5f7b3a16",
   "metadata": {},
   "outputs": [],
   "source": [
    "#all sales count convert date column to datetime\n",
    "sales_count['date'] = pd.to_datetime(sales_count['date'])"
   ]
  },
  {
   "cell_type": "code",
   "execution_count": null,
   "id": "eec0f318",
   "metadata": {},
   "outputs": [],
   "source": [
    "sales_count.info()"
   ]
  },
  {
   "cell_type": "code",
   "execution_count": null,
   "id": "21fac43a",
   "metadata": {},
   "outputs": [],
   "source": [
    "#Start date to match the other dataframes at 2018-03-31\n",
    "sales_count = sales_count.loc[sales_count['date'] >= '2018-03-31']\n",
    "sales_count = sales_count.reset_index(drop=True)\n",
    "sales_count.head()"
   ]
  },
  {
   "cell_type": "code",
   "execution_count": null,
   "id": "8d285eec",
   "metadata": {},
   "outputs": [],
   "source": [
    "#all list price melt\n",
    "list_price = pd.melt(list_price, id_vars=['RegionID','SizeRank','RegionName','RegionType','StateName'], var_name = 'date', value_name = 'avg_list_price' )"
   ]
  },
  {
   "cell_type": "code",
   "execution_count": null,
   "id": "a929d06d",
   "metadata": {},
   "outputs": [],
   "source": [
    "list_price = list_price.rename(columns = {'RegionName':'City','StateName':'State'})\n",
    "list_price.head()"
   ]
  },
  {
   "cell_type": "code",
   "execution_count": null,
   "id": "7136816f",
   "metadata": {},
   "outputs": [],
   "source": [
    "#all inventory melt\n",
    "inventory = pd.melt(inventory, id_vars=['RegionID','SizeRank','RegionName','RegionType','StateName'], var_name = 'date', value_name = 'inventory_count' )"
   ]
  },
  {
   "cell_type": "code",
   "execution_count": null,
   "id": "d66967bf",
   "metadata": {},
   "outputs": [],
   "source": [
    "inventory= inventory.rename(columns = {'RegionName':'City','StateName':'State'})\n",
    "inventory.head()"
   ]
  },
  {
   "cell_type": "code",
   "execution_count": null,
   "id": "cb57607d",
   "metadata": {},
   "outputs": [],
   "source": [
    "#Nashville sales count table DF\n",
    "nash_sales_count = sales_count.loc[sales_count['City']== 'Nashville, TN']\n",
    "nash_sales_count = nash_sales_count.reset_index(drop = True)\n",
    "nash_sales_count.head()"
   ]
  },
  {
   "cell_type": "code",
   "execution_count": null,
   "id": "5f77e379",
   "metadata": {},
   "outputs": [],
   "source": [
    "#Nashville list price DF\n",
    "nash_list_price = list_price.loc[list_price['City']== 'Nashville, TN']\n",
    "nash_list_price = nash_list_price.reset_index(drop=True)\n",
    "nash_list_price.head()"
   ]
  },
  {
   "cell_type": "code",
   "execution_count": null,
   "id": "dbff706a",
   "metadata": {},
   "outputs": [],
   "source": [
    "#Nashville inventory DF\n",
    "nash_inventory = inventory.loc[inventory['City']=='Nashville, TN']\n",
    "nash_inventory = nash_inventory.reset_index(drop=True)\n",
    "nash_inventory.head()"
   ]
  },
  {
   "cell_type": "code",
   "execution_count": null,
   "id": "9cd1c6f1",
   "metadata": {},
   "outputs": [],
   "source": [
    "austin_sales_count = sales_count.loc[sales_count['City']=='Austin, TX']\n",
    "austin_sales_count = austin_sales_count.reset_index(drop=True)\n",
    "austin_sales_count.head()"
   ]
  },
  {
   "cell_type": "code",
   "execution_count": null,
   "id": "518c594d",
   "metadata": {},
   "outputs": [],
   "source": [
    "austin_list_price = list_price.loc[list_price['City']=='Austin, TX']\n",
    "austin_list_price = austin_list_price.reset_index(drop=True)\n",
    "austin_list_price.head()"
   ]
  },
  {
   "cell_type": "code",
   "execution_count": null,
   "id": "fd10b47d",
   "metadata": {},
   "outputs": [],
   "source": [
    "austin_inventory = inventory.loc[inventory['City']=='Austin, TX']\n",
    "austin_inventory = austin_inventory.reset_index(drop=True)\n",
    "austin_inventory.head()"
   ]
  },
  {
   "cell_type": "code",
   "execution_count": null,
   "id": "bbb157d3",
   "metadata": {},
   "outputs": [],
   "source": [
    "#forecasting csv\n",
    "forecast = pd.read_csv('../data/zillow_forecasts.csv')"
   ]
  },
  {
   "cell_type": "code",
   "execution_count": null,
   "id": "d752431e",
   "metadata": {},
   "outputs": [],
   "source": [
    "forecast.head()"
   ]
  },
  {
   "cell_type": "code",
   "execution_count": null,
   "id": "4389f502",
   "metadata": {},
   "outputs": [],
   "source": [
    "#dropping irrelevant date\n",
    "forecast = forecast.drop('2022-11-30', axis=1)\n",
    "forecast.head()"
   ]
  },
  {
   "cell_type": "code",
   "execution_count": null,
   "id": "ef3c34e7",
   "metadata": {},
   "outputs": [],
   "source": [
    "#forecast melt\n",
    "forecast = pd.melt(forecast, id_vars = ['RegionID','SizeRank','RegionName','RegionType','StateName', 'BaseDate'], var_name = 'proj_date', value_name = 'proj_value')"
   ]
  },
  {
   "cell_type": "code",
   "execution_count": null,
   "id": "9c3367b5",
   "metadata": {},
   "outputs": [],
   "source": [
    "forecast = forecast.rename(columns = {'RegionName':'City','StateName':'State'})\n",
    "forecast.head()"
   ]
  },
  {
   "cell_type": "code",
   "execution_count": null,
   "id": "a292368b",
   "metadata": {},
   "outputs": [],
   "source": [
    "#Atlanta forecast\n",
    "atl_forecast = forecast.loc[forecast['City']=='Atlanta, GA']\n",
    "atl_forecast = atl_forecast.reset_index(drop=True)\n",
    "atl_forecast"
   ]
  },
  {
   "cell_type": "code",
   "execution_count": null,
   "id": "0793c2dd",
   "metadata": {},
   "outputs": [],
   "source": [
    "#Nashville forecast\n",
    "nash_forecast = forecast.loc[forecast['City']=='Nashville, TN']\n",
    "nash_forecast = nash_forecast.reset_index(drop=True)\n",
    "nash_forecast"
   ]
  },
  {
   "cell_type": "code",
   "execution_count": null,
   "id": "81888d37",
   "metadata": {},
   "outputs": [],
   "source": [
    "#Austin forecast\n",
    "austin_forecast = forecast.loc[forecast['City']=='Austin, TX']\n",
    "austin_forecast = austin_forecast.reset_index(drop=True)\n",
    "austin_forecast"
   ]
  },
  {
   "cell_type": "code",
   "execution_count": null,
   "id": "b86a4c76",
   "metadata": {},
   "outputs": [],
   "source": [
    "#one bedroom value DF\n",
    "one_bed_value = pd.read_csv('../data/one_bedroom_value.csv')\n",
    "one_bed_value.head()"
   ]
  },
  {
   "cell_type": "code",
   "execution_count": null,
   "id": "ca7e5e5a",
   "metadata": {},
   "outputs": [],
   "source": [
    "#two bedroom value DF\n",
    "two_bed_value = pd.read_csv('../data/two_bedroom_value.csv')\n",
    "two_bed_value.head()"
   ]
  },
  {
   "cell_type": "code",
   "execution_count": null,
   "id": "87c3dc94",
   "metadata": {},
   "outputs": [],
   "source": [
    "#three bedroom value DF\n",
    "three_bed_value = pd.read_csv('../data/three_bedroom_value.csv')\n",
    "three_bed_value.head()"
   ]
  },
  {
   "cell_type": "code",
   "execution_count": null,
   "id": "6e17dc9b",
   "metadata": {},
   "outputs": [],
   "source": [
    "#four bedroom value DF\n",
    "four_bed_value = pd.read_csv('../data/four_bedroom_value.csv')\n",
    "four_bed_value.head()"
   ]
  },
  {
   "cell_type": "code",
   "execution_count": null,
   "id": "dda2b090",
   "metadata": {},
   "outputs": [],
   "source": [
    "#five bedroom value DF\n",
    "five_bed_value = pd.read_csv('../data/five_bedroom_value.csv')\n",
    "five_bed_value.head()"
   ]
  },
  {
   "cell_type": "code",
   "execution_count": null,
   "id": "b1a56d21",
   "metadata": {},
   "outputs": [],
   "source": [
    "#one bed melt\n",
    "one_bed_value = pd.melt(one_bed_value, id_vars = ['RegionID','SizeRank','RegionName','RegionType','StateName'], var_name = 'date', value_name = 'home_value')"
   ]
  },
  {
   "cell_type": "code",
   "execution_count": null,
   "id": "64deca98",
   "metadata": {},
   "outputs": [],
   "source": [
    "#two bed melt\n",
    "two_bed_value = pd.melt(two_bed_value, id_vars = ['RegionID','SizeRank','RegionName','RegionType','StateName'], var_name = 'date', value_name = '2br_value')"
   ]
  },
  {
   "cell_type": "code",
   "execution_count": null,
   "id": "b2eb4f38",
   "metadata": {},
   "outputs": [],
   "source": [
    "#three bed melt\n",
    "three_bed_value = pd.melt(three_bed_value, id_vars = ['RegionID','SizeRank','RegionName','RegionType','StateName'], var_name = 'date', value_name = '3br_value')"
   ]
  },
  {
   "cell_type": "code",
   "execution_count": null,
   "id": "0a03809e",
   "metadata": {},
   "outputs": [],
   "source": [
    "#four bed melt\n",
    "four_bed_value = pd.melt(four_bed_value, id_vars = ['RegionID','SizeRank','RegionName','RegionType','StateName'], var_name = 'date', value_name = '4br_value')"
   ]
  },
  {
   "cell_type": "code",
   "execution_count": null,
   "id": "9924c323",
   "metadata": {},
   "outputs": [],
   "source": [
    "#five bed melt\n",
    "five_bed_value = pd.melt(five_bed_value, id_vars = ['RegionID','SizeRank','RegionName','RegionType','StateName'], var_name = 'date', value_name = '5br_value')"
   ]
  },
  {
   "cell_type": "code",
   "execution_count": null,
   "id": "76920a33",
   "metadata": {},
   "outputs": [],
   "source": [
    "#household income 2017\n",
    "hh_nash_inc_2017 = pd.read_csv('../data/nash_mean_inc_2017.csv',header = [1])\n",
    "\n",
    "#add city column\n",
    "hh_nash_inc_2017['city'] = 'Nashville'\n",
    "\n",
    "hh_nash_inc_2017.head()"
   ]
  },
  {
   "cell_type": "code",
   "execution_count": null,
   "id": "01e771bb",
   "metadata": {},
   "outputs": [],
   "source": [
    "#household income 2017\n",
    "hh_atl_inc_2017 = pd.read_csv('../data/atl_mean_inc_2017.csv',header = [1])\n",
    "\n",
    "#add city column\n",
    "hh_atl_inc_2017['city'] = 'Atlanta'\n",
    "\n",
    "hh_atl_inc_2017.head()"
   ]
  },
  {
   "cell_type": "code",
   "execution_count": null,
   "id": "01a437e9",
   "metadata": {},
   "outputs": [],
   "source": [
    "#household income 2017\n",
    "hh_austin_inc_2017 = pd.read_csv('../data/austin_mean_inc_2017.csv',header = [1])\n",
    "\n",
    "#add city column\n",
    "hh_austin_inc_2017['city'] = 'Austin'\n",
    "hh_austin_inc_2017.head()"
   ]
  },
  {
   "cell_type": "code",
   "execution_count": null,
   "id": "7161f9aa",
   "metadata": {},
   "outputs": [],
   "source": [
    "#household income 2018\n",
    "hh_nash_inc_2018 = pd.read_csv('../data/nash_mean_inc_2018.csv', header=[1])\n",
    "\n",
    "#add city column\n",
    "hh_nash_inc_2018['city'] = 'Nashville'\n",
    "hh_nash_inc_2018.head()"
   ]
  },
  {
   "cell_type": "code",
   "execution_count": null,
   "id": "e0043869",
   "metadata": {},
   "outputs": [],
   "source": [
    "#household income 2018\n",
    "hh_atl_inc_2018 = pd.read_csv('../data/atl_mean_inc_2018.csv', header=[1])\n",
    "\n",
    "#add city column\n",
    "hh_atl_inc_2018['city'] = 'Atlanta'\n",
    "hh_atl_inc_2018.head()"
   ]
  },
  {
   "cell_type": "code",
   "execution_count": null,
   "id": "66e3adcd",
   "metadata": {},
   "outputs": [],
   "source": [
    "#household income 2018\n",
    "hh_austin_inc_2018 = pd.read_csv('../data/austin_mean_inc_2018.csv', header=[1])\n",
    "\n",
    "#add city column\n",
    "hh_austin_inc_2018['city'] = 'Austin'\n",
    "hh_austin_inc_2018.head()"
   ]
  },
  {
   "cell_type": "code",
   "execution_count": null,
   "id": "cb82746a",
   "metadata": {},
   "outputs": [],
   "source": [
    "#household income 2019\n",
    "hh_nash_inc_2019 = pd.read_csv('../data/nash_mean_inc_2019.csv',header = [1])\n",
    "\n",
    "#add city column\n",
    "hh_nash_inc_2019['city'] = 'Nashville'\n",
    "hh_nash_inc_2019.head()"
   ]
  },
  {
   "cell_type": "code",
   "execution_count": null,
   "id": "3be97857",
   "metadata": {},
   "outputs": [],
   "source": [
    "#household income 2019\n",
    "hh_atl_inc_2019 = pd.read_csv('../data/atl_mean_inc_2019.csv',header = [1])\n",
    "\n",
    "#add city column\n",
    "hh_atl_inc_2019['city'] = 'Atlanta'\n",
    "hh_atl_inc_2019.head()\n"
   ]
  },
  {
   "cell_type": "code",
   "execution_count": null,
   "id": "c9c54aff",
   "metadata": {},
   "outputs": [],
   "source": [
    "#household income 2019\n",
    "hh_austin_inc_2019 = pd.read_csv('../data/austin_mean_inc_2019.csv',header = [1])\n",
    "\n",
    "#add city column\n",
    "hh_austin_inc_2019['city'] = 'Austin'\n",
    "hh_austin_inc_2019.head()"
   ]
  },
  {
   "cell_type": "code",
   "execution_count": null,
   "id": "569b0810",
   "metadata": {
    "scrolled": true
   },
   "outputs": [],
   "source": [
    "#household income 2020\n",
    "hh_nash_inc_2020 = pd.read_csv('../data/nashville_mean_inc_2020.csv',header=[1])\n",
    "\n",
    "#add city column\n",
    "hh_nash_inc_2020['city'] = 'Nashville'\n",
    "hh_nash_inc_2020.head()"
   ]
  },
  {
   "cell_type": "code",
   "execution_count": null,
   "id": "6353f685",
   "metadata": {},
   "outputs": [],
   "source": [
    "#household income 2020\n",
    "hh_atl_inc_2020 = pd.read_csv('../data/atl_mean_inc_2020.csv',header=[1])\n",
    "\n",
    "#add city column\n",
    "hh_atl_inc_2020['city'] = 'Atlanta'\n",
    "hh_atl_inc_2020.head()"
   ]
  },
  {
   "cell_type": "code",
   "execution_count": null,
   "id": "67204efd",
   "metadata": {},
   "outputs": [],
   "source": [
    "#household income 2020\n",
    "hh_austin_inc_2020 = pd.read_csv('../data/austin_mean_inc_2020.csv',header=[1])\n",
    "\n",
    "#add city column\n",
    "hh_austin_inc_2020['city'] = 'Austin'\n",
    "hh_austin_inc_2020.head()"
   ]
  },
  {
   "cell_type": "code",
   "execution_count": null,
   "id": "b54abf00",
   "metadata": {
    "scrolled": true
   },
   "outputs": [],
   "source": [
    "#household income 2021\n",
    "hh_nash_inc_2021 = pd.read_csv('../data/nash_mean_inc_2021.csv', header=[1])\n",
    "\n",
    "#add city column\n",
    "hh_nash_inc_2021['city'] = 'Nashville'\n",
    "hh_nash_inc_2021.head()"
   ]
  },
  {
   "cell_type": "code",
   "execution_count": null,
   "id": "b3c6aaf2",
   "metadata": {},
   "outputs": [],
   "source": [
    "#household income 2021\n",
    "hh_austin_inc_2021 = pd.read_csv('../data/austin_mean_inc_2021.csv', header=[1])\n",
    "\n",
    "#add city column\n",
    "hh_austin_inc_2021['city'] = 'Austin'\n",
    "hh_austin_inc_2021.head()"
   ]
  },
  {
   "cell_type": "code",
   "execution_count": null,
   "id": "9d0218ac",
   "metadata": {},
   "outputs": [],
   "source": [
    "#household income 2021\n",
    "hh_atl_inc_2021 = pd.read_csv('../data/atl_mean_inc_2021.csv', header=[1])\n",
    "\n",
    "#add city column\n",
    "hh_atl_inc_2021['city'] = 'Atlanta'\n",
    "hh_atl_inc_2021.head()"
   ]
  },
  {
   "cell_type": "code",
   "execution_count": null,
   "id": "11f9039d",
   "metadata": {},
   "outputs": [],
   "source": [
    "#pulling out relevant columns\n",
    "hh_nash_inc_2017 = hh_nash_inc_2017.loc[:,['city','HOUSEHOLD INCOME','Unnamed: 1','Unnamed: 5']]\n",
    "\n",
    "#renaming column\n",
    "hh_nash_inc_2017 = hh_nash_inc_2017.rename(columns = {'HOUSEHOLD INCOME':'household_income','Unnamed: 1': 'household_count',\n",
    "                                                      'Unnamed: 5':'avg_income'})\n",
    "\n",
    "#stripping extra space in column\n",
    "hh_nash_inc_2017['household_income'] = hh_nash_inc_2017['household_income'].str.strip()\n",
    "\n",
    "#consolidating table\n",
    "hh_nash_inc_2017 = hh_nash_inc_2017.loc[(hh_nash_inc_2017['household_income']=='All households')|\n",
    "                                        (hh_nash_inc_2017['household_income']=='With earnings')|\n",
    "                                        (hh_nash_inc_2017['household_income']=='With wages or salary income')|\n",
    "                                        (hh_nash_inc_2017['household_income']=='With self-employment income')]\n",
    "\n",
    "#add year column\n",
    "hh_nash_inc_2017['year'] = 2017\n",
    "\n",
    "#reorder columns \n",
    "hh_nash_inc_2017 = hh_nash_inc_2017.loc[:,['city','household_income', 'year','household_count','avg_income']]\n",
    "\n",
    "hh_nash_inc_2017.head()"
   ]
  },
  {
   "cell_type": "code",
   "execution_count": null,
   "id": "19e7c557",
   "metadata": {},
   "outputs": [],
   "source": [
    "#pulling out relevant columns\n",
    "hh_atl_inc_2017 = hh_atl_inc_2017.loc[:,['city','HOUSEHOLD INCOME','Unnamed: 1','Unnamed: 5']]\n",
    "\n",
    "#renaming column\n",
    "hh_atl_inc_2017 = hh_atl_inc_2017.rename(columns = {'HOUSEHOLD INCOME':'household_income','Unnamed: 1': 'household_count',\n",
    "                                                      'Unnamed: 5':'avg_income'})\n",
    "\n",
    "#stripping extra space in column\n",
    "hh_atl_inc_2017['household_income'] = hh_atl_inc_2017['household_income'].str.strip()\n",
    "\n",
    "#consolidating table\n",
    "hh_atl_inc_2017 = hh_atl_inc_2017.loc[(hh_atl_inc_2017['household_income']=='All households')|\n",
    "                                      (hh_atl_inc_2017['household_income']=='With earnings')|\n",
    "                                      (hh_atl_inc_2017['household_income']=='With wages or salary income')|\n",
    "                                      (hh_atl_inc_2017['household_income']=='With self-employment income')]\n",
    "\n",
    "#add year column\n",
    "hh_atl_inc_2017['year'] = 2017\n",
    "\n",
    "#reorder columns \n",
    "hh_atl_inc_2017 = hh_atl_inc_2017.loc[:,['city','household_income', 'year','household_count','avg_income']]\n",
    "\n",
    "hh_atl_inc_2017.head()"
   ]
  },
  {
   "cell_type": "code",
   "execution_count": null,
   "id": "8b6675b1",
   "metadata": {},
   "outputs": [],
   "source": [
    "#pulling out relevant columns\n",
    "hh_austin_inc_2017 = hh_austin_inc_2017.loc[:,['city','HOUSEHOLD INCOME','Unnamed: 1','Unnamed: 5']]\n",
    "\n",
    "#renaming column\n",
    "hh_austin_inc_2017 = hh_austin_inc_2017.rename(columns = {'HOUSEHOLD INCOME':'household_income','Unnamed: 1': 'household_count',\n",
    "                                                          'Unnamed: 5':'avg_income'})\n",
    "\n",
    "#stripping extra space in column\n",
    "hh_austin_inc_2017['household_income'] = hh_austin_inc_2017['household_income'].str.strip()\n",
    "\n",
    "#consolidating table\n",
    "hh_austin_inc_2017 = hh_austin_inc_2017.loc[(hh_austin_inc_2017['household_income']=='All households')|\n",
    "                                            (hh_austin_inc_2017['household_income']=='With earnings')|\n",
    "                                            (hh_austin_inc_2017['household_income']=='With wages or salary income')|\n",
    "                                            (hh_austin_inc_2017['household_income']=='With self-employment income')]\n",
    "\n",
    "#add year column\n",
    "hh_austin_inc_2017['year'] = 2017\n",
    "\n",
    "#reorder columns \n",
    "hh_austin_inc_2017 = hh_austin_inc_2017.loc[:,['city','household_income', 'year','household_count','avg_income']]\n",
    "\n",
    "hh_austin_inc_2017.head()"
   ]
  },
  {
   "cell_type": "code",
   "execution_count": null,
   "id": "0b50ff9e",
   "metadata": {},
   "outputs": [],
   "source": [
    "#pulling out relevant columns\n",
    "hh_nash_inc_2018 = hh_nash_inc_2018.loc[:,['city','HOUSEHOLD INCOME','Unnamed: 1','Unnamed: 5']]\n",
    "\n",
    "#renaming column\n",
    "hh_nash_inc_2018 = hh_nash_inc_2018.rename(columns = {'HOUSEHOLD INCOME':'household_income','Unnamed: 1': 'household_count',\n",
    "                                                      'Unnamed: 5':'avg_income'})\n",
    "\n",
    "#stripping extra space in column\n",
    "hh_nash_inc_2018['household_income'] = hh_nash_inc_2018['household_income'].str.strip()\n",
    "\n",
    "#consolidating table\n",
    "hh_nash_inc_2018 = hh_nash_inc_2018.loc[(hh_nash_inc_2018['household_income']=='All households')|\n",
    "                                        (hh_nash_inc_2018['household_income']=='With earnings')|\n",
    "                                        (hh_nash_inc_2018['household_income']=='With wages or salary income')|\n",
    "                                        (hh_nash_inc_2018['household_income']=='With self-employment income')]\n",
    "\n",
    "#add year column\n",
    "hh_nash_inc_2018['year'] = 2018\n",
    "\n",
    "#reorder columns \n",
    "hh_nash_inc_2018 = hh_nash_inc_2018.loc[:,['city','household_income', 'year','household_count','avg_income']]\n",
    "\n",
    "hh_nash_inc_2018.head()"
   ]
  },
  {
   "cell_type": "code",
   "execution_count": null,
   "id": "5194338a",
   "metadata": {},
   "outputs": [],
   "source": [
    "#pulling out relevant columns\n",
    "hh_atl_inc_2018 = hh_atl_inc_2018.loc[:,['city','HOUSEHOLD INCOME','Unnamed: 1','Unnamed: 5']]\n",
    "\n",
    "#renaming column\n",
    "hh_atl_inc_2018 = hh_atl_inc_2018.rename(columns = {'HOUSEHOLD INCOME':'household_income','Unnamed: 1': 'household_count',\n",
    "                                                      'Unnamed: 5':'avg_income'})\n",
    "\n",
    "#stripping extra space in column\n",
    "hh_atl_inc_2018['household_income'] = hh_atl_inc_2018['household_income'].str.strip()\n",
    "\n",
    "#consolidating table\n",
    "hh_atl_inc_2018 = hh_atl_inc_2018.loc[(hh_atl_inc_2018['household_income']=='All households')|\n",
    "                                        (hh_atl_inc_2018['household_income']=='With earnings')|\n",
    "                                        (hh_atl_inc_2018['household_income']=='With wages or salary income')|\n",
    "                                        (hh_atl_inc_2018['household_income']=='With self-employment income')]\n",
    "\n",
    "#add year column\n",
    "hh_atl_inc_2018['year'] = 2018\n",
    "\n",
    "#reorder columns \n",
    "hh_atl_inc_2018 = hh_atl_inc_2018.loc[:,['city','household_income', 'year','household_count','avg_income']]\n",
    "\n",
    "hh_atl_inc_2018.head()"
   ]
  },
  {
   "cell_type": "code",
   "execution_count": null,
   "id": "8d70913b",
   "metadata": {},
   "outputs": [],
   "source": [
    "#pulling out relevant columns\n",
    "hh_austin_inc_2018 = hh_austin_inc_2018.loc[:,['city','HOUSEHOLD INCOME','Unnamed: 1','Unnamed: 5']]\n",
    "\n",
    "#renaming column\n",
    "hh_austin_inc_2018 = hh_austin_inc_2018.rename(columns = {'HOUSEHOLD INCOME':'household_income','Unnamed: 1': 'household_count',\n",
    "                                                      'Unnamed: 5':'avg_income'})\n",
    "\n",
    "#stripping extra space in column\n",
    "hh_austin_inc_2018['household_income'] = hh_austin_inc_2018['household_income'].str.strip()\n",
    "\n",
    "#consolidating table\n",
    "hh_austin_inc_2018 = hh_austin_inc_2018.loc[(hh_austin_inc_2018['household_income']=='All households')|\n",
    "                                            (hh_austin_inc_2018['household_income']=='With earnings')|\n",
    "                                            (hh_austin_inc_2018['household_income']=='With wages or salary income')|\n",
    "                                            (hh_austin_inc_2018['household_income']=='With self-employment income')]\n",
    "\n",
    "#add year column\n",
    "hh_austin_inc_2018['year'] = 2018\n",
    "\n",
    "#reorder columns \n",
    "hh_austin_inc_2018 = hh_austin_inc_2018.loc[:,['city','household_income', 'year','household_count','avg_income']]\n",
    "\n",
    "hh_austin_inc_2018.head()"
   ]
  },
  {
   "cell_type": "code",
   "execution_count": null,
   "id": "c0f1896b",
   "metadata": {},
   "outputs": [],
   "source": [
    "#pulling out relevant columns\n",
    "hh_nash_inc_2019 = hh_nash_inc_2019.loc[:,['city','HOUSEHOLD INCOME','Unnamed: 1','Unnamed: 5']]\n",
    "\n",
    "#renaming column\n",
    "hh_nash_inc_2019 = hh_nash_inc_2019.rename(columns = {'HOUSEHOLD INCOME':'household_income','Unnamed: 1': 'household_count',\n",
    "                                                      'Unnamed: 5':'avg_income'})\n",
    "\n",
    "#stripping extra space in column\n",
    "hh_nash_inc_2019['household_income'] = hh_nash_inc_2019['household_income'].str.strip()\n",
    "\n",
    "#consolidating table\n",
    "hh_nash_inc_2019 = hh_nash_inc_2019.loc[(hh_nash_inc_2019['household_income']=='All households')|\n",
    "                                        (hh_nash_inc_2019['household_income']=='With earnings')|\n",
    "                                        (hh_nash_inc_2019['household_income']=='With wages or salary income')|\n",
    "                                        (hh_nash_inc_2019['household_income']=='With self-employment income')]\n",
    "\n",
    "#add year column\n",
    "hh_nash_inc_2019['year'] = 2019\n",
    "\n",
    "#reorder columns \n",
    "hh_nash_inc_2019 = hh_nash_inc_2019.loc[:,['city','household_income', 'year','household_count','avg_income']]\n",
    "\n",
    "hh_nash_inc_2019.head()"
   ]
  },
  {
   "cell_type": "code",
   "execution_count": null,
   "id": "00726e85",
   "metadata": {},
   "outputs": [],
   "source": [
    "#pulling out relevant columns\n",
    "hh_atl_inc_2019 = hh_atl_inc_2019.loc[:,['city','HOUSEHOLD INCOME','Unnamed: 1','Unnamed: 5']]\n",
    "\n",
    "#renaming column\n",
    "hh_atl_inc_2019 = hh_atl_inc_2019.rename(columns = {'HOUSEHOLD INCOME':'household_income','Unnamed: 1': 'household_count',\n",
    "                                                      'Unnamed: 5':'avg_income'})\n",
    "\n",
    "#stripping extra space in column\n",
    "hh_atl_inc_2019['household_income'] = hh_atl_inc_2019['household_income'].str.strip()\n",
    "\n",
    "#consolidating table\n",
    "hh_atl_inc_2019 = hh_atl_inc_2019.loc[(hh_atl_inc_2019['household_income']=='All households')|\n",
    "                                      (hh_atl_inc_2019['household_income']=='With earnings')|\n",
    "                                      (hh_atl_inc_2019['household_income']=='With wages or salary income')|\n",
    "                                      (hh_atl_inc_2019['household_income']=='With self-employment income')]\n",
    "\n",
    "#add year column\n",
    "hh_atl_inc_2019['year'] = 2019\n",
    "\n",
    "#reorder columns \n",
    "hh_atl_inc_2019 = hh_atl_inc_2019.loc[:,['city','household_income', 'year','household_count','avg_income']]\n",
    "\n",
    "hh_atl_inc_2019.head()"
   ]
  },
  {
   "cell_type": "code",
   "execution_count": null,
   "id": "f3e4c49d",
   "metadata": {},
   "outputs": [],
   "source": [
    "#pulling out relevant columns\n",
    "hh_austin_inc_2019 = hh_austin_inc_2019.loc[:,['city','HOUSEHOLD INCOME','Unnamed: 1','Unnamed: 5']]\n",
    "\n",
    "#renaming column\n",
    "hh_austin_inc_2019 = hh_austin_inc_2019.rename(columns = {'HOUSEHOLD INCOME':'household_income','Unnamed: 1': 'household_count',\n",
    "                                                          'Unnamed: 5':'avg_income'})\n",
    "\n",
    "#stripping extra space in column\n",
    "hh_austin_inc_2019['household_income'] = hh_austin_inc_2019['household_income'].str.strip()\n",
    "\n",
    "#consolidating table\n",
    "hh_austin_inc_2019 = hh_austin_inc_2019.loc[(hh_austin_inc_2019['household_income']=='All households')|\n",
    "                                            (hh_austin_inc_2019['household_income']=='With earnings')|\n",
    "                                            (hh_austin_inc_2019['household_income']=='With wages or salary income')|\n",
    "                                            (hh_austin_inc_2019['household_income']=='With self-employment income')]\n",
    "\n",
    "#add year column\n",
    "hh_austin_inc_2019['year'] = 2019\n",
    "\n",
    "#reorder columns \n",
    "hh_austin_inc_2019 = hh_austin_inc_2019.loc[:,['city','household_income', 'year','household_count','avg_income']]\n",
    "\n",
    "hh_austin_inc_2019.head()"
   ]
  },
  {
   "cell_type": "code",
   "execution_count": null,
   "id": "7f2cfd82",
   "metadata": {},
   "outputs": [],
   "source": [
    "#pulling out relevant columns\n",
    "hh_nash_inc_2020 = hh_nash_inc_2020.loc[:,['city','HOUSEHOLD INCOME','Unnamed: 1','Unnamed: 5']]\n",
    "\n",
    "#renaming column\n",
    "hh_nash_inc_2020 = hh_nash_inc_2020.rename(columns = {'HOUSEHOLD INCOME':'household_income','Unnamed: 1': 'household_count',\n",
    "                                                      'Unnamed: 5':'avg_income'})\n",
    "\n",
    "#stripping extra space in column\n",
    "hh_nash_inc_2020['household_income'] = hh_nash_inc_2020['household_income'].str.strip()\n",
    "\n",
    "#consolidating table\n",
    "hh_nash_inc_2020 = hh_nash_inc_2020.loc[(hh_nash_inc_2020['household_income']=='All households')|\n",
    "                                        (hh_nash_inc_2020['household_income']=='With earnings')|\n",
    "                                        (hh_nash_inc_2020['household_income']=='With wages or salary income')|\n",
    "                                        (hh_nash_inc_2020['household_income']=='With self-employment income')]\n",
    "\n",
    "#add year column\n",
    "hh_nash_inc_2020['year'] = 2020\n",
    "\n",
    "#reorder columns \n",
    "hh_nash_inc_2020 = hh_nash_inc_2020.loc[:,['city','household_income', 'year','household_count','avg_income']]\n",
    "\n",
    "hh_nash_inc_2020.head()"
   ]
  },
  {
   "cell_type": "code",
   "execution_count": null,
   "id": "c195c487",
   "metadata": {},
   "outputs": [],
   "source": [
    "#pulling out relevant columns\n",
    "hh_atl_inc_2020 = hh_atl_inc_2020.loc[:,['city','HOUSEHOLD INCOME','Unnamed: 1','Unnamed: 5']]\n",
    "\n",
    "#renaming column\n",
    "hh_atl_inc_2020 = hh_atl_inc_2020.rename(columns = {'HOUSEHOLD INCOME':'household_income','Unnamed: 1': 'household_count',\n",
    "                                                      'Unnamed: 5':'avg_income'})\n",
    "\n",
    "#stripping extra space in column\n",
    "hh_atl_inc_2020['household_income'] = hh_atl_inc_2020['household_income'].str.strip()\n",
    "\n",
    "#consolidating table\n",
    "hh_atl_inc_2020 = hh_atl_inc_2020.loc[(hh_atl_inc_2020['household_income']=='All households')|\n",
    "                                      (hh_atl_inc_2020['household_income']=='With earnings')|\n",
    "                                      (hh_atl_inc_2020['household_income']=='With wages or salary income')|\n",
    "                                      (hh_atl_inc_2020['household_income']=='With self-employment income')]\n",
    "\n",
    "#add year column\n",
    "hh_atl_inc_2020['year'] = 2020\n",
    "\n",
    "#reorder columns \n",
    "hh_atl_inc_2020 = hh_atl_inc_2020.loc[:,['city','household_income', 'year','household_count','avg_income']]\n",
    "\n",
    "hh_atl_inc_2020.head()"
   ]
  },
  {
   "cell_type": "code",
   "execution_count": null,
   "id": "d6f1aaf8",
   "metadata": {},
   "outputs": [],
   "source": [
    "#pulling out relevant columns\n",
    "hh_austin_inc_2020 = hh_austin_inc_2020.loc[:,['city','HOUSEHOLD INCOME','Unnamed: 1','Unnamed: 5']]\n",
    "\n",
    "#renaming column\n",
    "hh_austin_inc_2020 = hh_austin_inc_2020.rename(columns = {'HOUSEHOLD INCOME':'household_income','Unnamed: 1': 'household_count',\n",
    "                                                          'Unnamed: 5':'avg_income'})\n",
    "\n",
    "#stripping extra space in column\n",
    "hh_austin_inc_2020['household_income'] = hh_austin_inc_2020['household_income'].str.strip()\n",
    "\n",
    "#consolidating table\n",
    "hh_austin_inc_2020 = hh_austin_inc_2020.loc[(hh_austin_inc_2020['household_income']=='All households')|\n",
    "                                            (hh_austin_inc_2020['household_income']=='With earnings')|\n",
    "                                            (hh_austin_inc_2020['household_income']=='With wages or salary income')|\n",
    "                                            (hh_austin_inc_2020['household_income']=='With self-employment income')]\n",
    "\n",
    "#add year column\n",
    "hh_austin_inc_2020['year'] = 2020\n",
    "\n",
    "#reorder columns \n",
    "hh_austin_inc_2020 = hh_austin_inc_2020.loc[:,['city','household_income', 'year','household_count','avg_income']]\n",
    "\n",
    "hh_austin_inc_2020.head()"
   ]
  },
  {
   "cell_type": "code",
   "execution_count": null,
   "id": "d6472d80",
   "metadata": {},
   "outputs": [],
   "source": [
    "#pulling out relevant columns\n",
    "hh_nash_inc_2021 = hh_nash_inc_2021.loc[:,['city','HOUSEHOLD INCOME','Unnamed: 1','Unnamed: 5']]\n",
    "\n",
    "#renaming column\n",
    "hh_nash_inc_2021 = hh_nash_inc_2021.rename(columns = {'HOUSEHOLD INCOME':'household_income','Unnamed: 1': 'household_count',\n",
    "                                                      'Unnamed: 5':'avg_income'})\n",
    "\n",
    "#stripping extra space in column\n",
    "hh_nash_inc_2021['household_income'] = hh_nash_inc_2021['household_income'].str.strip()\n",
    "\n",
    "#consolidating table\n",
    "hh_nash_inc_2021 = hh_nash_inc_2021.loc[(hh_nash_inc_2021['household_income']=='All households')|\n",
    "                                        (hh_nash_inc_2021['household_income']=='With earnings')|\n",
    "                                        (hh_nash_inc_2021['household_income']=='With wages or salary income')|\n",
    "                                        (hh_nash_inc_2021['household_income']=='With self-employment income')]\n",
    "\n",
    "#add year column\n",
    "hh_nash_inc_2021['year'] = 2021\n",
    "\n",
    "#reorder columns \n",
    "hh_nash_inc_2021 = hh_nash_inc_2021.loc[:,['city','household_income', 'year','household_count','avg_income']]\n",
    "\n",
    "hh_nash_inc_2021.head()"
   ]
  },
  {
   "cell_type": "code",
   "execution_count": null,
   "id": "24def8ec",
   "metadata": {},
   "outputs": [],
   "source": [
    "#pulling out relevant columns\n",
    "hh_atl_inc_2021 = hh_atl_inc_2021.loc[:,['city','HOUSEHOLD INCOME','Unnamed: 1','Unnamed: 5']]\n",
    "\n",
    "#renaming column\n",
    "hh_atl_inc_2021 = hh_atl_inc_2021.rename(columns = {'HOUSEHOLD INCOME':'household_income','Unnamed: 1': 'household_count',\n",
    "                                                      'Unnamed: 5':'avg_income'})\n",
    "\n",
    "#stripping extra space in column\n",
    "hh_atl_inc_2021['household_income'] = hh_atl_inc_2021['household_income'].str.strip()\n",
    "\n",
    "#consolidating table\n",
    "hh_atl_inc_2021 = hh_atl_inc_2021.loc[(hh_atl_inc_2021['household_income']=='All households')|\n",
    "                                      (hh_atl_inc_2021['household_income']=='With earnings')|\n",
    "                                      (hh_atl_inc_2021['household_income']=='With wages or salary income')|\n",
    "                                      (hh_atl_inc_2021['household_income']=='With self-employment income')]\n",
    "\n",
    "#add year column\n",
    "hh_atl_inc_2021['year'] = 2021\n",
    "\n",
    "#reorder columns \n",
    "hh_atl_inc_2021 = hh_atl_inc_2021.loc[:,['city','household_income', 'year','household_count','avg_income']]\n",
    "\n",
    "hh_atl_inc_2021.head()"
   ]
  },
  {
   "cell_type": "code",
   "execution_count": null,
   "id": "f22e8ae6",
   "metadata": {},
   "outputs": [],
   "source": [
    "#pulling out relevant columns\n",
    "hh_austin_inc_2021 = hh_austin_inc_2021.loc[:,['city','HOUSEHOLD INCOME','Unnamed: 1','Unnamed: 5']]\n",
    "\n",
    "#renaming column\n",
    "hh_austin_inc_2021 = hh_austin_inc_2021.rename(columns = {'HOUSEHOLD INCOME':'household_income','Unnamed: 1': 'household_count',\n",
    "                                                          'Unnamed: 5':'avg_income'})\n",
    "\n",
    "#stripping extra space in column\n",
    "hh_austin_inc_2021['household_income'] = hh_austin_inc_2021['household_income'].str.strip()\n",
    "\n",
    "#consolidating table\n",
    "hh_austin_inc_2021 = hh_austin_inc_2021.loc[(hh_austin_inc_2021['household_income']=='All households')|\n",
    "                                            (hh_austin_inc_2021['household_income']=='With earnings')|\n",
    "                                            (hh_austin_inc_2021['household_income']=='With wages or salary income')|\n",
    "                                            (hh_austin_inc_2021['household_income']=='With self-employment income')]\n",
    "\n",
    "#add year column\n",
    "hh_austin_inc_2021['year'] = 2021\n",
    "\n",
    "#reorder columns \n",
    "hh_austin_inc_2021 = hh_austin_inc_2021.loc[:,['city','household_income', 'year','household_count','avg_income']]\n",
    "\n",
    "hh_austin_inc_2021.head()"
   ]
  },
  {
   "cell_type": "code",
   "execution_count": null,
   "id": "48fe983e",
   "metadata": {},
   "outputs": [],
   "source": [
    "#family income 2017\n",
    "fs_nash_inc_2017 = pd.read_csv('../data/nash_mean_inc_2017.csv',header = [13])\n",
    "\n",
    "#add city column\n",
    "fs_nash_inc_2017['city'] = 'Nashville'\n",
    "fs_nash_inc_2017.head()"
   ]
  },
  {
   "cell_type": "code",
   "execution_count": null,
   "id": "4b941545",
   "metadata": {},
   "outputs": [],
   "source": [
    "#family income 2017\n",
    "fs_atl_inc_2017 = pd.read_csv('../data/atl_mean_inc_2017.csv',header = [13])\n",
    "\n",
    "#add city column\n",
    "fs_atl_inc_2017['city'] = 'Atlanta'\n",
    "fs_atl_inc_2017.head()"
   ]
  },
  {
   "cell_type": "code",
   "execution_count": null,
   "id": "e8288145",
   "metadata": {},
   "outputs": [],
   "source": [
    "#family income 2017\n",
    "fs_austin_inc_2017 = pd.read_csv('../data/austin_mean_inc_2017.csv',header = [13])\n",
    "\n",
    "#add city column\n",
    "fs_austin_inc_2017['city'] = 'Austin'\n",
    "fs_austin_inc_2017.head()"
   ]
  },
  {
   "cell_type": "code",
   "execution_count": null,
   "id": "e31ac0df",
   "metadata": {},
   "outputs": [],
   "source": [
    "#family income 2018\n",
    "fs_nash_inc_2018 = pd.read_csv('../data/nash_mean_inc_2018.csv',header = [13])\n",
    "\n",
    "#add city column\n",
    "fs_nash_inc_2018['city'] = 'Nashville'\n",
    "fs_nash_inc_2018.head()"
   ]
  },
  {
   "cell_type": "code",
   "execution_count": null,
   "id": "0650bf94",
   "metadata": {},
   "outputs": [],
   "source": [
    "#family income 2018\n",
    "fs_atl_inc_2018 = pd.read_csv('../data/atl_mean_inc_2018.csv',header = [13])\n",
    "\n",
    "#add city column\n",
    "fs_atl_inc_2018['city'] = 'Atlanta'\n",
    "fs_atl_inc_2018.head()"
   ]
  },
  {
   "cell_type": "code",
   "execution_count": null,
   "id": "9ec91f49",
   "metadata": {},
   "outputs": [],
   "source": [
    "#family income 2018\n",
    "fs_austin_inc_2018 = pd.read_csv('../data/austin_mean_inc_2018.csv',header = [13])\n",
    "\n",
    "#add city column\n",
    "fs_austin_inc_2018['city'] = 'Austin'\n",
    "fs_austin_inc_2018.head()"
   ]
  },
  {
   "cell_type": "code",
   "execution_count": null,
   "id": "fa0e2cac",
   "metadata": {},
   "outputs": [],
   "source": [
    "#family income 2019\n",
    "fs_nash_inc_2019 = pd.read_csv('../data/nash_mean_inc_2019.csv',header = [13])\n",
    "\n",
    "#add city column\n",
    "fs_nash_inc_2019['city'] = 'Nashville'\n",
    "fs_nash_inc_2019.head()"
   ]
  },
  {
   "cell_type": "code",
   "execution_count": null,
   "id": "f8d6513f",
   "metadata": {},
   "outputs": [],
   "source": [
    "#family income 2019\n",
    "fs_atl_inc_2019 = pd.read_csv('../data/atl_mean_inc_2019.csv',header = [13])\n",
    "\n",
    "#add city column\n",
    "fs_atl_inc_2019['city'] = 'Atlanta'\n",
    "fs_atl_inc_2019.head()"
   ]
  },
  {
   "cell_type": "code",
   "execution_count": null,
   "id": "0ffae260",
   "metadata": {},
   "outputs": [],
   "source": [
    "#family income 2019\n",
    "fs_austin_inc_2019 = pd.read_csv('../data/austin_mean_inc_2019.csv',header = [13])\n",
    "\n",
    "#add city column\n",
    "fs_austin_inc_2019['city'] = 'Austin'\n",
    "fs_austin_inc_2019.head()"
   ]
  },
  {
   "cell_type": "code",
   "execution_count": null,
   "id": "6da322b6",
   "metadata": {},
   "outputs": [],
   "source": [
    "#family income 2020\n",
    "fs_nash_inc_2020 = pd.read_csv('../data/nashville_mean_inc_2020.csv',header = [13])\n",
    "\n",
    "#add city column\n",
    "fs_nash_inc_2020['city'] = 'Nashville'\n",
    "fs_nash_inc_2020.head()"
   ]
  },
  {
   "cell_type": "code",
   "execution_count": null,
   "id": "a33e0ee1",
   "metadata": {},
   "outputs": [],
   "source": [
    "#family income 2020\n",
    "fs_atl_inc_2020 = pd.read_csv('../data/atl_mean_inc_2020.csv',header = [13])\n",
    "\n",
    "#add city column\n",
    "fs_atl_inc_2020['city'] = 'Atlanta'\n",
    "fs_atl_inc_2020.head()"
   ]
  },
  {
   "cell_type": "code",
   "execution_count": null,
   "id": "776f1ed0",
   "metadata": {},
   "outputs": [],
   "source": [
    "#family income 2020\n",
    "fs_austin_inc_2020 = pd.read_csv('../data/austin_mean_inc_2020.csv',header = [13])\n",
    "\n",
    "#add city column\n",
    "fs_austin_inc_2020['city'] = 'Austin'\n",
    "fs_austin_inc_2020.head()"
   ]
  },
  {
   "cell_type": "code",
   "execution_count": null,
   "id": "e3a6d987",
   "metadata": {},
   "outputs": [],
   "source": [
    "#family income 2021\n",
    "fs_nash_inc_2021 = pd.read_csv('../data/nash_mean_inc_2021.csv',header = [13])\n",
    "\n",
    "#add city column\n",
    "fs_nash_inc_2021['city'] = 'Nashville'\n",
    "fs_nash_inc_2021.head()"
   ]
  },
  {
   "cell_type": "code",
   "execution_count": null,
   "id": "c03b252a",
   "metadata": {},
   "outputs": [],
   "source": [
    "#family income 2021\n",
    "fs_atl_inc_2021 = pd.read_csv('../data/atl_mean_inc_2021.csv',header = [13])\n",
    "\n",
    "#add city column\n",
    "fs_atl_inc_2021['city'] = 'Atlanta'\n",
    "fs_atl_inc_2021.head()"
   ]
  },
  {
   "cell_type": "code",
   "execution_count": null,
   "id": "cae71e79",
   "metadata": {},
   "outputs": [],
   "source": [
    "#family income 2021\n",
    "fs_austin_inc_2021 = pd.read_csv('../data/austin_mean_inc_2021.csv',header = [13])\n",
    "\n",
    "#add city column\n",
    "fs_austin_inc_2021['city'] = 'Austin'\n",
    "fs_austin_inc_2021.head()"
   ]
  },
  {
   "cell_type": "code",
   "execution_count": null,
   "id": "9d38732d",
   "metadata": {},
   "outputs": [],
   "source": [
    "fs_nash_inc_2017.columns"
   ]
  },
  {
   "cell_type": "code",
   "execution_count": null,
   "id": "4af93234",
   "metadata": {},
   "outputs": [],
   "source": [
    "#pulling out relevant columns\n",
    "fs_nash_inc_2017 = fs_nash_inc_2017.loc[:,['city','FAMILY INCOME BY NUMBER OF WORKERS IN FAMILY','Unnamed: 1','Unnamed: 5']]\n",
    "\n",
    "#renaming column\n",
    "fs_nash_inc_2017 = fs_nash_inc_2017.rename(columns = {'FAMILY INCOME BY NUMBER OF WORKERS IN FAMILY':'family_size',\n",
    "                                                      'Unnamed: 1': 'household_count',\n",
    "                                                      'Unnamed: 5':'avg_income'})\n",
    "\n",
    "#stripping extra space in column\n",
    "fs_nash_inc_2017['family_size'] = fs_nash_inc_2017['family_size'].str.strip()\n",
    "\n",
    "#consolidating table\n",
    "fs_nash_inc_2017 = fs_nash_inc_2017.loc[(fs_nash_inc_2017['family_size']=='1 worker')|\n",
    "                                        (fs_nash_inc_2017['family_size']=='2 workers, husband and wife worked')|\n",
    "                                        (fs_nash_inc_2017['family_size']=='2 workers, other')|\n",
    "                                        (fs_nash_inc_2017['family_size']=='3 or more workers, husband and wife worked')|\n",
    "                                        (fs_nash_inc_2017['family_size']=='3 or more workers, other')].reset_index(drop=True)\n",
    "\n",
    "#add year column\n",
    "fs_nash_inc_2017['year'] = 2017\n",
    "\n",
    "#reorder columns \n",
    "fs_nash_inc_2017 = fs_nash_inc_2017.loc[:,['city','family_size', 'year','household_count','avg_income']]\n",
    "\n",
    "fs_nash_inc_2017.head()"
   ]
  },
  {
   "cell_type": "code",
   "execution_count": null,
   "id": "aa1f2019",
   "metadata": {},
   "outputs": [],
   "source": [
    "#pulling out relevant columns\n",
    "fs_atl_inc_2017 = fs_atl_inc_2017.loc[:,['city','FAMILY INCOME BY NUMBER OF WORKERS IN FAMILY','Unnamed: 1','Unnamed: 5']]\n",
    "\n",
    "#renaming column\n",
    "fs_atl_inc_2017 = fs_atl_inc_2017.rename(columns = {'FAMILY INCOME BY NUMBER OF WORKERS IN FAMILY':'family_size',\n",
    "                                                      'Unnamed: 1': 'household_count',\n",
    "                                                      'Unnamed: 5':'avg_income'})\n",
    "\n",
    "#stripping extra space in column\n",
    "fs_atl_inc_2017['family_size'] = fs_atl_inc_2017['family_size'].str.strip()\n",
    "\n",
    "#consolidating table\n",
    "fs_atl_inc_2017 = fs_atl_inc_2017.loc[(fs_atl_inc_2017['family_size']=='1 worker')|\n",
    "                                        (fs_atl_inc_2017['family_size']=='2 workers, husband and wife worked')|\n",
    "                                        (fs_atl_inc_2017['family_size']=='2 workers, other')|\n",
    "                                        (fs_atl_inc_2017['family_size']=='3 or more workers, husband and wife worked')|\n",
    "                                        (fs_atl_inc_2017['family_size']=='3 or more workers, other')].reset_index(drop=True)\n",
    "\n",
    "#add year column\n",
    "fs_atl_inc_2017['year'] = 2017\n",
    "\n",
    "#reorder columns \n",
    "fs_atl_inc_2017 = fs_atl_inc_2017.loc[:,['city','family_size', 'year','household_count','avg_income']]\n",
    "\n",
    "fs_atl_inc_2017.head()"
   ]
  },
  {
   "cell_type": "code",
   "execution_count": null,
   "id": "6cd4dd07",
   "metadata": {},
   "outputs": [],
   "source": [
    "#pulling out relevant columns\n",
    "fs_austin_inc_2017 = fs_austin_inc_2017.loc[:,['city','FAMILY INCOME BY NUMBER OF WORKERS IN FAMILY','Unnamed: 1','Unnamed: 5']]\n",
    "\n",
    "#renaming column\n",
    "fs_austin_inc_2017 = fs_austin_inc_2017.rename(columns = {'FAMILY INCOME BY NUMBER OF WORKERS IN FAMILY':'family_size',\n",
    "                                                      'Unnamed: 1': 'household_count',\n",
    "                                                      'Unnamed: 5':'avg_income'})\n",
    "\n",
    "#stripping extra space in column\n",
    "fs_austin_inc_2017['family_size'] = fs_austin_inc_2017['family_size'].str.strip()\n",
    "\n",
    "#consolidating table\n",
    "fs_austin_inc_2017 = fs_austin_inc_2017.loc[(fs_austin_inc_2017['family_size']=='1 worker')|\n",
    "                                        (fs_austin_inc_2017['family_size']=='2 workers, husband and wife worked')|\n",
    "                                        (fs_austin_inc_2017['family_size']=='2 workers, other')|\n",
    "                                        (fs_austin_inc_2017['family_size']=='3 or more workers, husband and wife worked')|\n",
    "                                        (fs_austin_inc_2017['family_size']=='3 or more workers, other')].reset_index(drop=True)\n",
    "\n",
    "#add year column\n",
    "fs_austin_inc_2017['year'] = 2017\n",
    "\n",
    "#reorder columns \n",
    "fs_austin_inc_2017 = fs_austin_inc_2017.loc[:,['city','family_size', 'year','household_count','avg_income']]\n",
    "\n",
    "fs_austin_inc_2017.head()"
   ]
  },
  {
   "cell_type": "code",
   "execution_count": null,
   "id": "d524e363",
   "metadata": {},
   "outputs": [],
   "source": [
    "#pulling out relevant columns\n",
    "fs_nash_inc_2018 = fs_nash_inc_2018.loc[:,['city','FAMILY INCOME BY NUMBER OF WORKERS IN FAMILY','Unnamed: 1','Unnamed: 5']]\n",
    "\n",
    "#renaming column\n",
    "fs_nash_inc_2018 = fs_nash_inc_2018.rename(columns = {'FAMILY INCOME BY NUMBER OF WORKERS IN FAMILY':'family_size',\n",
    "                                                      'Unnamed: 1': 'household_count',\n",
    "                                                      'Unnamed: 5':'avg_income'})\n",
    "\n",
    "#stripping extra space in column\n",
    "fs_nash_inc_2018['family_size'] = fs_nash_inc_2018['family_size'].str.strip()\n",
    "\n",
    "#consolidating table\n",
    "fs_nash_inc_2018 = fs_nash_inc_2018.loc[(fs_nash_inc_2018['family_size']=='1 worker')|\n",
    "                                        (fs_nash_inc_2018['family_size']=='2 workers, husband and wife worked')|\n",
    "                                        (fs_nash_inc_2018['family_size']=='2 workers, other')|\n",
    "                                        (fs_nash_inc_2018['family_size']=='3 or more workers, husband and wife worked')|\n",
    "                                        (fs_nash_inc_2018['family_size']=='3 or more workers, other')].reset_index(drop=True)\n",
    "\n",
    "#add year column\n",
    "fs_nash_inc_2018['year'] = 2018\n",
    "\n",
    "#reorder columns \n",
    "fs_nash_inc_2018 = fs_nash_inc_2018.loc[:,['city','family_size', 'year','household_count','avg_income']]\n",
    "\n",
    "fs_nash_inc_2018.head()"
   ]
  },
  {
   "cell_type": "code",
   "execution_count": null,
   "id": "b91607ea",
   "metadata": {},
   "outputs": [],
   "source": [
    "#pulling out relevant columns\n",
    "fs_atl_inc_2018 = fs_atl_inc_2018.loc[:,['city','FAMILY INCOME BY NUMBER OF WORKERS IN FAMILY','Unnamed: 1','Unnamed: 5']]\n",
    "\n",
    "#renaming column\n",
    "fs_atl_inc_2018 = fs_atl_inc_2018.rename(columns = {'FAMILY INCOME BY NUMBER OF WORKERS IN FAMILY':'family_size',\n",
    "                                                      'Unnamed: 1': 'household_count',\n",
    "                                                      'Unnamed: 5':'avg_income'})\n",
    "\n",
    "#stripping extra space in column\n",
    "fs_atl_inc_2018['family_size'] = fs_atl_inc_2018['family_size'].str.strip()\n",
    "\n",
    "#consolidating table\n",
    "fs_atl_inc_2018 = fs_atl_inc_2018.loc[(fs_atl_inc_2018['family_size']=='1 worker')|\n",
    "                                        (fs_atl_inc_2018['family_size']=='2 workers, husband and wife worked')|\n",
    "                                        (fs_atl_inc_2018['family_size']=='2 workers, other')|\n",
    "                                        (fs_atl_inc_2018['family_size']=='3 or more workers, husband and wife worked')|\n",
    "                                        (fs_atl_inc_2018['family_size']=='3 or more workers, other')].reset_index(drop=True)\n",
    "\n",
    "#add year column\n",
    "fs_atl_inc_2018['year'] = 2018\n",
    "\n",
    "#reorder columns \n",
    "fs_atl_inc_2018 = fs_atl_inc_2018.loc[:,['city','family_size', 'year','household_count','avg_income']]\n",
    "\n",
    "fs_atl_inc_2018.head()"
   ]
  },
  {
   "cell_type": "code",
   "execution_count": null,
   "id": "5e6f14a0",
   "metadata": {},
   "outputs": [],
   "source": [
    "#pulling out relevant columns\n",
    "fs_austin_inc_2018 = fs_austin_inc_2018.loc[:,['city','FAMILY INCOME BY NUMBER OF WORKERS IN FAMILY','Unnamed: 1','Unnamed: 5']]\n",
    "\n",
    "#renaming column\n",
    "fs_austin_inc_2018 = fs_austin_inc_2018.rename(columns = {'FAMILY INCOME BY NUMBER OF WORKERS IN FAMILY':'family_size',\n",
    "                                                      'Unnamed: 1': 'household_count',\n",
    "                                                      'Unnamed: 5':'avg_income'})\n",
    "\n",
    "#stripping extra space in column\n",
    "fs_austin_inc_2018['family_size'] = fs_austin_inc_2018['family_size'].str.strip()\n",
    "\n",
    "#consolidating table\n",
    "fs_austin_inc_2018 = fs_austin_inc_2018.loc[(fs_austin_inc_2018['family_size']=='1 worker')|\n",
    "                                        (fs_austin_inc_2018['family_size']=='2 workers, husband and wife worked')|\n",
    "                                        (fs_austin_inc_2018['family_size']=='2 workers, other')|\n",
    "                                        (fs_austin_inc_2018['family_size']=='3 or more workers, husband and wife worked')|\n",
    "                                        (fs_austin_inc_2018['family_size']=='3 or more workers, other')].reset_index(drop=True)\n",
    "\n",
    "#add year column\n",
    "fs_austin_inc_2018['year'] = 2018\n",
    "\n",
    "#reorder columns \n",
    "fs_austin_inc_2018 = fs_austin_inc_2018.loc[:,['city','family_size', 'year','household_count','avg_income']]\n",
    "\n",
    "fs_austin_inc_2018.head()"
   ]
  },
  {
   "cell_type": "code",
   "execution_count": null,
   "id": "7e7bd622",
   "metadata": {},
   "outputs": [],
   "source": [
    "#pulling out relevant columns\n",
    "fs_nash_inc_2019 = fs_nash_inc_2019.loc[:,['city','FAMILY INCOME BY NUMBER OF WORKERS IN FAMILY','Unnamed: 1','Unnamed: 5']]\n",
    "\n",
    "#renaming column\n",
    "fs_nash_inc_2019 = fs_nash_inc_2019.rename(columns = {'FAMILY INCOME BY NUMBER OF WORKERS IN FAMILY':'family_size',\n",
    "                                                      'Unnamed: 1': 'household_count',\n",
    "                                                      'Unnamed: 5':'avg_income'})\n",
    "\n",
    "#stripping extra space in column\n",
    "fs_nash_inc_2019['family_size'] = fs_nash_inc_2019['family_size'].str.strip()\n",
    "\n",
    "#consolidating table\n",
    "fs_nash_inc_2019 = fs_nash_inc_2019.loc[(fs_nash_inc_2019['family_size']=='1 worker')|\n",
    "                                        (fs_nash_inc_2019['family_size']=='2 workers, husband and wife worked')|\n",
    "                                        (fs_nash_inc_2019['family_size']=='2 workers, other')|\n",
    "                                        (fs_nash_inc_2019['family_size']=='3 or more workers, husband and wife worked')|\n",
    "                                        (fs_nash_inc_2019['family_size']=='3 or more workers, other')].reset_index(drop= True)\n",
    "\n",
    "#add year column\n",
    "fs_nash_inc_2019['year'] = 2019\n",
    "\n",
    "#reorder columns \n",
    "fs_nash_inc_2019 = fs_nash_inc_2019.loc[:,['city','family_size', 'year','household_count','avg_income']]\n",
    "\n",
    "fs_nash_inc_2019.head()"
   ]
  },
  {
   "cell_type": "code",
   "execution_count": null,
   "id": "e991e040",
   "metadata": {},
   "outputs": [],
   "source": [
    "#pulling out relevant columns\n",
    "fs_atl_inc_2019 = fs_atl_inc_2019.loc[:,['city','FAMILY INCOME BY NUMBER OF WORKERS IN FAMILY','Unnamed: 1','Unnamed: 5']]\n",
    "\n",
    "#renaming column\n",
    "fs_atl_inc_2019 = fs_atl_inc_2019.rename(columns = {'FAMILY INCOME BY NUMBER OF WORKERS IN FAMILY':'family_size',\n",
    "                                                      'Unnamed: 1': 'household_count',\n",
    "                                                      'Unnamed: 5':'avg_income'})\n",
    "\n",
    "#stripping extra space in column\n",
    "fs_atl_inc_2019['family_size'] = fs_atl_inc_2019['family_size'].str.strip()\n",
    "\n",
    "#consolidating table\n",
    "fs_atl_inc_2019 = fs_atl_inc_2019.loc[(fs_atl_inc_2019['family_size']=='1 worker')|\n",
    "                                        (fs_atl_inc_2019['family_size']=='2 workers, husband and wife worked')|\n",
    "                                        (fs_atl_inc_2019['family_size']=='2 workers, other')|\n",
    "                                        (fs_atl_inc_2019['family_size']=='3 or more workers, husband and wife worked')|\n",
    "                                        (fs_atl_inc_2019['family_size']=='3 or more workers, other')].reset_index(drop= True)\n",
    "\n",
    "#add year column\n",
    "fs_atl_inc_2019['year'] = 2019\n",
    "\n",
    "#reorder columns \n",
    "fs_atl_inc_2019 = fs_atl_inc_2019.loc[:,['city','family_size', 'year','household_count','avg_income']]\n",
    "\n",
    "fs_atl_inc_2019.head()"
   ]
  },
  {
   "cell_type": "code",
   "execution_count": null,
   "id": "b9ca7d6b",
   "metadata": {},
   "outputs": [],
   "source": [
    "#pulling out relevant columns\n",
    "fs_austin_inc_2019 = fs_austin_inc_2019.loc[:,['city','FAMILY INCOME BY NUMBER OF WORKERS IN FAMILY','Unnamed: 1','Unnamed: 5']]\n",
    "\n",
    "#renaming column\n",
    "fs_austin_inc_2019 = fs_austin_inc_2019.rename(columns = {'FAMILY INCOME BY NUMBER OF WORKERS IN FAMILY':'family_size',\n",
    "                                                      'Unnamed: 1': 'household_count',\n",
    "                                                      'Unnamed: 5':'avg_income'})\n",
    "\n",
    "#stripping extra space in column\n",
    "fs_austin_inc_2019['family_size'] = fs_austin_inc_2019['family_size'].str.strip()\n",
    "\n",
    "#consolidating table\n",
    "fs_austin_inc_2019 = fs_austin_inc_2019.loc[(fs_austin_inc_2019['family_size']=='1 worker')|\n",
    "                                        (fs_austin_inc_2019['family_size']=='2 workers, husband and wife worked')|\n",
    "                                        (fs_austin_inc_2019['family_size']=='2 workers, other')|\n",
    "                                        (fs_austin_inc_2019['family_size']=='3 or more workers, husband and wife worked')|\n",
    "                                        (fs_austin_inc_2019['family_size']=='3 or more workers, other')].reset_index(drop= True)\n",
    "\n",
    "#add year column\n",
    "fs_austin_inc_2019['year'] = 2019\n",
    "\n",
    "#reorder columns \n",
    "fs_austin_inc_2019 = fs_austin_inc_2019.loc[:,['city','family_size', 'year','household_count','avg_income']]\n",
    "\n",
    "fs_austin_inc_2019.head()"
   ]
  },
  {
   "cell_type": "code",
   "execution_count": null,
   "id": "8c4f5712",
   "metadata": {},
   "outputs": [],
   "source": [
    "#pulling out relevant columns\n",
    "fs_nash_inc_2020 = fs_nash_inc_2020.loc[:,['city','FAMILY INCOME BY NUMBER OF WORKERS IN FAMILY','Unnamed: 1','Unnamed: 5']]\n",
    "\n",
    "#renaming column\n",
    "fs_nash_inc_2020 = fs_nash_inc_2020.rename(columns = {'FAMILY INCOME BY NUMBER OF WORKERS IN FAMILY':'family_size',\n",
    "                                                      'Unnamed: 1': 'household_count',\n",
    "                                                      'Unnamed: 5':'avg_income'})\n",
    "\n",
    "#stripping extra space in column\n",
    "fs_nash_inc_2020['family_size'] = fs_nash_inc_2020['family_size'].str.strip()\n",
    "\n",
    "#consolidating table\n",
    "fs_nash_inc_2020 = fs_nash_inc_2020.loc[(fs_nash_inc_2020['family_size']=='1 worker')|\n",
    "                                        (fs_nash_inc_2020['family_size']=='2 workers, husband and wife worked')|\n",
    "                                        (fs_nash_inc_2020['family_size']=='2 workers, other')|\n",
    "                                        (fs_nash_inc_2020['family_size']=='3 or more workers, husband and wife worked')|\n",
    "                                        (fs_nash_inc_2020['family_size']=='3 or more workers, other')].reset_index(drop=True)\n",
    "\n",
    "#add year column\n",
    "fs_nash_inc_2020['year'] = 2020\n",
    "\n",
    "#reorder columns \n",
    "fs_nash_inc_2020 = fs_nash_inc_2020.loc[:,['city','family_size', 'year','household_count','avg_income']]\n",
    "\n",
    "fs_nash_inc_2020.head()"
   ]
  },
  {
   "cell_type": "code",
   "execution_count": null,
   "id": "3d3d1c4b",
   "metadata": {},
   "outputs": [],
   "source": [
    "#pulling out relevant columns\n",
    "fs_atl_inc_2020 = fs_atl_inc_2020.loc[:,['city','FAMILY INCOME BY NUMBER OF WORKERS IN FAMILY','Unnamed: 1','Unnamed: 5']]\n",
    "\n",
    "#renaming column\n",
    "fs_atl_inc_2020 = fs_atl_inc_2020.rename(columns = {'FAMILY INCOME BY NUMBER OF WORKERS IN FAMILY':'family_size',\n",
    "                                                      'Unnamed: 1': 'household_count',\n",
    "                                                      'Unnamed: 5':'avg_income'})\n",
    "\n",
    "#stripping extra space in column\n",
    "fs_atl_inc_2020['family_size'] = fs_atl_inc_2020['family_size'].str.strip()\n",
    "\n",
    "#consolidating table\n",
    "fs_atl_inc_2020 = fs_atl_inc_2020.loc[(fs_atl_inc_2020['family_size']=='1 worker')|\n",
    "                                        (fs_atl_inc_2020['family_size']=='2 workers, husband and wife worked')|\n",
    "                                        (fs_atl_inc_2020['family_size']=='2 workers, other')|\n",
    "                                        (fs_atl_inc_2020['family_size']=='3 or more workers, husband and wife worked')|\n",
    "                                        (fs_atl_inc_2020['family_size']=='3 or more workers, other')].reset_index(drop=True)\n",
    "\n",
    "#add year column\n",
    "fs_atl_inc_2020['year'] = 2020\n",
    "\n",
    "#reorder columns \n",
    "fs_atl_inc_2020 = fs_atl_inc_2020.loc[:,['city','family_size', 'year','household_count','avg_income']]\n",
    "\n",
    "fs_atl_inc_2020.head()"
   ]
  },
  {
   "cell_type": "code",
   "execution_count": null,
   "id": "b001cbb5",
   "metadata": {},
   "outputs": [],
   "source": [
    "#pulling out relevant columns\n",
    "fs_austin_inc_2020 = fs_austin_inc_2020.loc[:,['city','FAMILY INCOME BY NUMBER OF WORKERS IN FAMILY','Unnamed: 1','Unnamed: 5']]\n",
    "\n",
    "#renaming column\n",
    "fs_austin_inc_2020 = fs_austin_inc_2020.rename(columns = {'FAMILY INCOME BY NUMBER OF WORKERS IN FAMILY':'family_size',\n",
    "                                                      'Unnamed: 1': 'household_count',\n",
    "                                                      'Unnamed: 5':'avg_income'})\n",
    "\n",
    "#stripping extra space in column\n",
    "fs_austin_inc_2020['family_size'] = fs_austin_inc_2020['family_size'].str.strip()\n",
    "\n",
    "#consolidating table\n",
    "fs_austin_inc_2020 = fs_austin_inc_2020.loc[(fs_austin_inc_2020['family_size']=='1 worker')|\n",
    "                                        (fs_austin_inc_2020['family_size']=='2 workers, husband and wife worked')|\n",
    "                                        (fs_austin_inc_2020['family_size']=='2 workers, other')|\n",
    "                                        (fs_austin_inc_2020['family_size']=='3 or more workers, husband and wife worked')|\n",
    "                                        (fs_austin_inc_2020['family_size']=='3 or more workers, other')].reset_index(drop=True)\n",
    "\n",
    "#add year column\n",
    "fs_austin_inc_2020['year'] = 2020\n",
    "\n",
    "#reorder columns \n",
    "fs_austin_inc_2020 = fs_austin_inc_2020.loc[:,['city','family_size', 'year','household_count','avg_income']]\n",
    "\n",
    "fs_austin_inc_2020.head()"
   ]
  },
  {
   "cell_type": "code",
   "execution_count": null,
   "id": "325bc504",
   "metadata": {},
   "outputs": [],
   "source": [
    "#pulling out relevant columns\n",
    "fs_nash_inc_2021 = fs_nash_inc_2021.loc[:,['city','FAMILY INCOME BY NUMBER OF WORKERS IN FAMILY','Unnamed: 1','Unnamed: 5']]\n",
    "\n",
    "#renaming column\n",
    "fs_nash_inc_2021 = fs_nash_inc_2021.rename(columns = {'FAMILY INCOME BY NUMBER OF WORKERS IN FAMILY':'family_size',\n",
    "                                                      'Unnamed: 1': 'household_count',\n",
    "                                                      'Unnamed: 5':'avg_income'})\n",
    "\n",
    "#stripping extra space in column\n",
    "fs_nash_inc_2021['family_size'] = fs_nash_inc_2021['family_size'].str.strip()\n",
    "\n",
    "#consolidating table\n",
    "fs_nash_inc_2021 = fs_nash_inc_2021.loc[(fs_nash_inc_2021['family_size']=='1 worker')|\n",
    "                                        (fs_nash_inc_2021['family_size']=='2 workers, husband and wife worked')|\n",
    "                                        (fs_nash_inc_2021['family_size']=='2 workers, other')|\n",
    "                                        (fs_nash_inc_2021['family_size']=='3 or more workers, husband and wife worked')|\n",
    "                                        (fs_nash_inc_2021['family_size']=='3 or more workers, other')].reset_index(drop=True)\n",
    "\n",
    "#add year column\n",
    "fs_nash_inc_2021['year'] = 2021\n",
    "\n",
    "#reorder columns \n",
    "fs_nash_inc_2021 = fs_nash_inc_2021.loc[:,['city','family_size', 'year','household_count','avg_income']]\n",
    "\n",
    "fs_nash_inc_2021.head()"
   ]
  },
  {
   "cell_type": "code",
   "execution_count": null,
   "id": "25b69c9d",
   "metadata": {},
   "outputs": [],
   "source": [
    "#pulling out relevant columns\n",
    "fs_atl_inc_2021 = fs_atl_inc_2021.loc[:,['city','FAMILY INCOME BY NUMBER OF WORKERS IN FAMILY','Unnamed: 1','Unnamed: 5']]\n",
    "\n",
    "#renaming column\n",
    "fs_atl_inc_2021 = fs_atl_inc_2021.rename(columns = {'FAMILY INCOME BY NUMBER OF WORKERS IN FAMILY':'family_size',\n",
    "                                                      'Unnamed: 1': 'household_count',\n",
    "                                                      'Unnamed: 5':'avg_income'})\n",
    "\n",
    "#stripping extra space in column\n",
    "fs_atl_inc_2021['family_size'] = fs_atl_inc_2021['family_size'].str.strip()\n",
    "\n",
    "#consolidating table\n",
    "fs_atl_inc_2021 = fs_atl_inc_2021.loc[(fs_atl_inc_2021['family_size']=='1 worker')|\n",
    "                                        (fs_atl_inc_2021['family_size']=='2 workers, husband and wife worked')|\n",
    "                                        (fs_atl_inc_2021['family_size']=='2 workers, other')|\n",
    "                                        (fs_atl_inc_2021['family_size']=='3 or more workers, husband and wife worked')|\n",
    "                                        (fs_atl_inc_2021['family_size']=='3 or more workers, other')].reset_index(drop=True)\n",
    "\n",
    "#add year column\n",
    "fs_atl_inc_2021['year'] = 2021\n",
    "\n",
    "#reorder columns \n",
    "fs_atl_inc_2021 = fs_atl_inc_2021.loc[:,['city','family_size', 'year','household_count','avg_income']]\n",
    "\n",
    "fs_atl_inc_2021.head()"
   ]
  },
  {
   "cell_type": "code",
   "execution_count": null,
   "id": "c7dca058",
   "metadata": {},
   "outputs": [],
   "source": [
    "#pulling out relevant columns\n",
    "fs_austin_inc_2021 = fs_austin_inc_2021.loc[:,['city','FAMILY INCOME BY NUMBER OF WORKERS IN FAMILY','Unnamed: 1','Unnamed: 5']]\n",
    "\n",
    "#renaming column\n",
    "fs_austin_inc_2021 = fs_austin_inc_2021.rename(columns = {'FAMILY INCOME BY NUMBER OF WORKERS IN FAMILY':'family_size',\n",
    "                                                      'Unnamed: 1': 'household_count',\n",
    "                                                      'Unnamed: 5':'avg_income'})\n",
    "\n",
    "#stripping extra space in column\n",
    "fs_austin_inc_2021['family_size'] = fs_austin_inc_2021['family_size'].str.strip()\n",
    "\n",
    "#consolidating table\n",
    "fs_austin_inc_2021 = fs_austin_inc_2021.loc[(fs_austin_inc_2021['family_size']=='1 worker')|\n",
    "                                        (fs_austin_inc_2021['family_size']=='2 workers, husband and wife worked')|\n",
    "                                        (fs_austin_inc_2021['family_size']=='2 workers, other')|\n",
    "                                        (fs_austin_inc_2021['family_size']=='3 or more workers, husband and wife worked')|\n",
    "                                        (fs_austin_inc_2021['family_size']=='3 or more workers, other')].reset_index(drop=True)\n",
    "\n",
    "#add year column\n",
    "fs_austin_inc_2021['year'] = 2021\n",
    "\n",
    "#reorder columns \n",
    "fs_austin_inc_2021 = fs_austin_inc_2021.loc[:,['city','family_size', 'year','household_count','avg_income']]\n",
    "\n",
    "fs_austin_inc_2021.head()"
   ]
  },
  {
   "cell_type": "code",
   "execution_count": null,
   "id": "df02129c",
   "metadata": {},
   "outputs": [],
   "source": [
    "#race income 2017\n",
    "race_nash_inc_2017 = pd.read_csv('../data/nash_mean_inc_2017.csv',header = [21])\n",
    "\n",
    "#add city column\n",
    "race_nash_inc_2017['city'] = 'Nashville'\n",
    "race_nash_inc_2017.head()"
   ]
  },
  {
   "cell_type": "code",
   "execution_count": null,
   "id": "a50589f5",
   "metadata": {},
   "outputs": [],
   "source": [
    "#race income 2017\n",
    "race_atl_inc_2017 = pd.read_csv('../data/atl_mean_inc_2017.csv',header = [21])\n",
    "\n",
    "#add city column\n",
    "race_atl_inc_2017['city'] = 'Atlanta'\n",
    "race_atl_inc_2017.head()"
   ]
  },
  {
   "cell_type": "code",
   "execution_count": null,
   "id": "afb1f379",
   "metadata": {},
   "outputs": [],
   "source": [
    "#race income 2017\n",
    "race_austin_inc_2017 = pd.read_csv('../data/austin_mean_inc_2017.csv',header = [21])\n",
    "\n",
    "#add city column\n",
    "race_austin_inc_2017['city'] = 'Austin'\n",
    "race_austin_inc_2017.head()"
   ]
  },
  {
   "cell_type": "code",
   "execution_count": null,
   "id": "5826afab",
   "metadata": {},
   "outputs": [],
   "source": [
    "#race income 2018\n",
    "race_nash_inc_2018 = pd.read_csv('../data/nash_mean_inc_2018.csv',header = [21])\n",
    "\n",
    "#add city column\n",
    "race_nash_inc_2018['city'] = 'Nashville'\n",
    "race_nash_inc_2018.head()"
   ]
  },
  {
   "cell_type": "code",
   "execution_count": null,
   "id": "4a2648c3",
   "metadata": {},
   "outputs": [],
   "source": [
    "#race income 2018\n",
    "race_atl_inc_2018 = pd.read_csv('../data/atl_mean_inc_2018.csv',header = [21])\n",
    "\n",
    "#add city column\n",
    "race_atl_inc_2018['city'] = 'Atlanta'\n",
    "race_atl_inc_2018.head()"
   ]
  },
  {
   "cell_type": "code",
   "execution_count": null,
   "id": "f5cd8af5",
   "metadata": {},
   "outputs": [],
   "source": [
    "#race income 2018\n",
    "race_austin_inc_2018 = pd.read_csv('../data/austin_mean_inc_2018.csv',header = [21])\n",
    "\n",
    "#add city column\n",
    "race_austin_inc_2018['city'] = 'Austin'\n",
    "race_austin_inc_2018.head()"
   ]
  },
  {
   "cell_type": "code",
   "execution_count": null,
   "id": "32d1ca13",
   "metadata": {},
   "outputs": [],
   "source": [
    "#race income 2019\n",
    "race_nash_inc_2019 = pd.read_csv('../data/nash_mean_inc_2019.csv',header = [21])\n",
    "\n",
    "#add city column\n",
    "race_nash_inc_2019['city'] = 'Nashville'\n",
    "race_nash_inc_2019.head()"
   ]
  },
  {
   "cell_type": "code",
   "execution_count": null,
   "id": "b9716c5e",
   "metadata": {},
   "outputs": [],
   "source": [
    "#race income 2019\n",
    "race_atl_inc_2019 = pd.read_csv('../data/atl_mean_inc_2019.csv',header = [21])\n",
    "\n",
    "#add city column\n",
    "race_atl_inc_2019['city'] = 'Atlanta'\n",
    "race_atl_inc_2019.head()"
   ]
  },
  {
   "cell_type": "code",
   "execution_count": null,
   "id": "5d353230",
   "metadata": {},
   "outputs": [],
   "source": [
    "#race income 2019\n",
    "race_austin_inc_2019 = pd.read_csv('../data/austin_mean_inc_2019.csv',header = [21])\n",
    "\n",
    "#add city column\n",
    "race_austin_inc_2019['city'] = 'Austin'\n",
    "race_austin_inc_2019.head()"
   ]
  },
  {
   "cell_type": "code",
   "execution_count": null,
   "id": "9f1ab839",
   "metadata": {},
   "outputs": [],
   "source": [
    "#race income 2020\n",
    "race_nash_inc_2020 = pd.read_csv('../data/nashville_mean_inc_2020.csv',header = [21])\n",
    "\n",
    "#add city column\n",
    "race_nash_inc_2020['city'] = 'Nashville'\n",
    "race_nash_inc_2020.head()"
   ]
  },
  {
   "cell_type": "code",
   "execution_count": null,
   "id": "31a485f1",
   "metadata": {},
   "outputs": [],
   "source": [
    "#race income 2020\n",
    "race_atl_inc_2020 = pd.read_csv('../data/atl_mean_inc_2020.csv',header = [21])\n",
    "\n",
    "#add city column\n",
    "race_atl_inc_2020['city'] = 'Atlanta'\n",
    "race_atl_inc_2020.head()"
   ]
  },
  {
   "cell_type": "code",
   "execution_count": null,
   "id": "145227ed",
   "metadata": {},
   "outputs": [],
   "source": [
    "#race income 2020\n",
    "race_austin_inc_2020 = pd.read_csv('../data/austin_mean_inc_2020.csv',header = [21])\n",
    "\n",
    "#add city column\n",
    "race_austin_inc_2020['city'] = 'Austin'\n",
    "race_austin_inc_2020.head()"
   ]
  },
  {
   "cell_type": "code",
   "execution_count": null,
   "id": "0799e77f",
   "metadata": {
    "scrolled": false
   },
   "outputs": [],
   "source": [
    "#race income 2021\n",
    "race_nash_inc_2021 = pd.read_csv('../data/nash_mean_inc_2021.csv',header = [21])\n",
    "\n",
    "#add city column\n",
    "race_nash_inc_2021['city'] = 'Nashville'\n",
    "race_nash_inc_2021.head()"
   ]
  },
  {
   "cell_type": "code",
   "execution_count": null,
   "id": "34f7f81c",
   "metadata": {},
   "outputs": [],
   "source": [
    "#race income 2021\n",
    "race_atl_inc_2021 = pd.read_csv('../data/atl_mean_inc_2021.csv',header = [21])\n",
    "\n",
    "#add city column\n",
    "race_atl_inc_2021['city'] = 'Atlanta'\n",
    "race_atl_inc_2021.head()"
   ]
  },
  {
   "cell_type": "code",
   "execution_count": null,
   "id": "e3fb3afe",
   "metadata": {},
   "outputs": [],
   "source": [
    "#race income 2021\n",
    "race_austin_inc_2021 = pd.read_csv('../data/austin_mean_inc_2021.csv',header = [21])\n",
    "\n",
    "#add city column\n",
    "race_austin_inc_2021['city'] = 'Austin'\n",
    "race_austin_inc_2021.head()"
   ]
  },
  {
   "cell_type": "code",
   "execution_count": null,
   "id": "09308d9e",
   "metadata": {},
   "outputs": [],
   "source": [
    "race_nash_inc_2017.columns"
   ]
  },
  {
   "cell_type": "code",
   "execution_count": null,
   "id": "32bed3c1",
   "metadata": {},
   "outputs": [],
   "source": [
    "#pulling out relevant columns\n",
    "race_nash_inc_2017 = race_nash_inc_2017.loc[:,['city','PER CAPITA INCOME BY RACE AND HISPANIC OR LATINO ORIGIN','Unnamed: 1','Unnamed: 5']]\n",
    "\n",
    "#renaming column\n",
    "race_nash_inc_2017 = race_nash_inc_2017.rename(columns = {'PER CAPITA INCOME BY RACE AND HISPANIC OR LATINO ORIGIN':'race',\n",
    "                                                          'Unnamed: 1': 'household_count',\n",
    "                                                          'Unnamed: 5':'avg_income'})\n",
    "\n",
    "#stripping extra space in column\n",
    "race_nash_inc_2017['race'] = race_nash_inc_2017['race'].str.strip()\n",
    "\n",
    "#consolidating table\n",
    "race_nash_inc_2017 = race_nash_inc_2017.loc[(race_nash_inc_2017['race']=='White')|\n",
    "                                            (race_nash_inc_2017['race']=='Black or African American')|\n",
    "                                            (race_nash_inc_2017['race']=='American Indian and Alaska Native')|\n",
    "                                            (race_nash_inc_2017['race']=='Asian')|\n",
    "                                            (race_nash_inc_2017['race']=='Native Hawaiian and Other Pacific Islander')|\n",
    "                                            (race_nash_inc_2017['race']=='Some other race')|\n",
    "                                            (race_nash_inc_2017['race']=='Two or more races')|\n",
    "                                            (race_nash_inc_2017['race']=='Hispanic or Latino origin (of any race)')].reset_index(drop=True)\n",
    "\n",
    "#add year column\n",
    "race_nash_inc_2017['year'] = 2017\n",
    "\n",
    "#reorder columns \n",
    "race_nash_inc_2017 = race_nash_inc_2017.loc[:,['city','race', 'year','household_count','avg_income']]\n",
    "\n",
    "race_nash_inc_2017.head()"
   ]
  },
  {
   "cell_type": "code",
   "execution_count": null,
   "id": "40e3c4e1",
   "metadata": {},
   "outputs": [],
   "source": [
    "#pulling out relevant columns\n",
    "race_atl_inc_2017 = race_atl_inc_2017.loc[:,['city','PER CAPITA INCOME BY RACE AND HISPANIC OR LATINO ORIGIN','Unnamed: 1','Unnamed: 5']]\n",
    "\n",
    "#renaming column\n",
    "race_atl_inc_2017 = race_atl_inc_2017.rename(columns = {'PER CAPITA INCOME BY RACE AND HISPANIC OR LATINO ORIGIN':'race',\n",
    "                                                          'Unnamed: 1': 'household_count',\n",
    "                                                          'Unnamed: 5':'avg_income'})\n",
    "\n",
    "#stripping extra space in column\n",
    "race_atl_inc_2017['race'] = race_atl_inc_2017['race'].str.strip()\n",
    "\n",
    "#consolidating table\n",
    "race_atl_inc_2017 = race_atl_inc_2017.loc[(race_atl_inc_2017['race']=='White')|\n",
    "                                            (race_atl_inc_2017['race']=='Black or African American')|\n",
    "                                            (race_atl_inc_2017['race']=='American Indian and Alaska Native')|\n",
    "                                            (race_atl_inc_2017['race']=='Asian')|\n",
    "                                            (race_atl_inc_2017['race']=='Native Hawaiian and Other Pacific Islander')|\n",
    "                                            (race_atl_inc_2017['race']=='Some other race')|\n",
    "                                            (race_atl_inc_2017['race']=='Two or more races')|\n",
    "                                            (race_atl_inc_2017['race']=='Hispanic or Latino origin (of any race)')].reset_index(drop=True)\n",
    "\n",
    "#add year column\n",
    "race_atl_inc_2017['year'] = 2017\n",
    "\n",
    "#reorder columns \n",
    "race_atl_inc_2017 = race_atl_inc_2017.loc[:,['city','race', 'year','household_count','avg_income']]\n",
    "\n",
    "race_atl_inc_2017.head()"
   ]
  },
  {
   "cell_type": "code",
   "execution_count": null,
   "id": "a2dd6ed8",
   "metadata": {},
   "outputs": [],
   "source": [
    "#pulling out relevant columns\n",
    "race_austin_inc_2017 = race_austin_inc_2017.loc[:,['city','PER CAPITA INCOME BY RACE AND HISPANIC OR LATINO ORIGIN','Unnamed: 1','Unnamed: 5']]\n",
    "\n",
    "#renaming column\n",
    "race_austin_inc_2017 = race_austin_inc_2017.rename(columns = {'PER CAPITA INCOME BY RACE AND HISPANIC OR LATINO ORIGIN':'race',\n",
    "                                                          'Unnamed: 1': 'household_count',\n",
    "                                                          'Unnamed: 5':'avg_income'})\n",
    "\n",
    "#stripping extra space in column\n",
    "race_austin_inc_2017['race'] = race_austin_inc_2017['race'].str.strip()\n",
    "\n",
    "#consolidating table\n",
    "race_austin_inc_2017 = race_austin_inc_2017.loc[(race_austin_inc_2017['race']=='White')|\n",
    "                                            (race_austin_inc_2017['race']=='Black or African American')|\n",
    "                                            (race_austin_inc_2017['race']=='American Indian and Alaska Native')|\n",
    "                                            (race_austin_inc_2017['race']=='Asian')|\n",
    "                                            (race_austin_inc_2017['race']=='Native Hawaiian and Other Pacific Islander')|\n",
    "                                            (race_austin_inc_2017['race']=='Some other race')|\n",
    "                                            (race_austin_inc_2017['race']=='Two or more races')|\n",
    "                                            (race_austin_inc_2017['race']=='Hispanic or Latino origin (of any race)')].reset_index(drop=True)\n",
    "\n",
    "#add year column\n",
    "race_austin_inc_2017['year'] = 2017\n",
    "\n",
    "#reorder columns \n",
    "race_austin_inc_2017 = race_austin_inc_2017.loc[:,['city','race', 'year','household_count','avg_income']]\n",
    "\n",
    "race_austin_inc_2017.head()"
   ]
  },
  {
   "cell_type": "code",
   "execution_count": null,
   "id": "80e3b432",
   "metadata": {},
   "outputs": [],
   "source": [
    "#pulling out relevant columns\n",
    "race_nash_inc_2018 = race_nash_inc_2018.loc[:,['city','PER CAPITA INCOME BY RACE AND HISPANIC OR LATINO ORIGIN','Unnamed: 1','Unnamed: 5']]\n",
    "\n",
    "#renaming column\n",
    "race_nash_inc_2018 = race_nash_inc_2018.rename(columns = {'PER CAPITA INCOME BY RACE AND HISPANIC OR LATINO ORIGIN':'race',\n",
    "                                                          'Unnamed: 1': 'household_count',\n",
    "                                                          'Unnamed: 5':'avg_income'})\n",
    "\n",
    "#stripping extra space in column\n",
    "race_nash_inc_2018['race'] = race_nash_inc_2018['race'].str.strip()\n",
    "\n",
    "#consolidating table\n",
    "race_nash_inc_2018 = race_nash_inc_2018.loc[(race_nash_inc_2018['race']=='White')|\n",
    "                                            (race_nash_inc_2018['race']=='Black or African American')|\n",
    "                                            (race_nash_inc_2018['race']=='American Indian and Alaska Native')|\n",
    "                                            (race_nash_inc_2018['race']=='Asian')|\n",
    "                                            (race_nash_inc_2018['race']=='Native Hawaiian and Other Pacific Islander')|\n",
    "                                            (race_nash_inc_2018['race']=='Some other race')|\n",
    "                                            (race_nash_inc_2018['race']=='Two or more races')|\n",
    "                                            (race_nash_inc_2018['race']=='Hispanic or Latino origin (of any race)')].reset_index(drop=True)\n",
    "\n",
    "#add year column\n",
    "race_nash_inc_2018['year'] = 2018\n",
    "\n",
    "#reorder columns \n",
    "race_nash_inc_2018 = race_nash_inc_2018.loc[:,['city','race', 'year','household_count','avg_income']]\n",
    "\n",
    "race_nash_inc_2018.head()"
   ]
  },
  {
   "cell_type": "code",
   "execution_count": null,
   "id": "d0e93deb",
   "metadata": {},
   "outputs": [],
   "source": [
    "#pulling out relevant columns\n",
    "race_atl_inc_2018 = race_atl_inc_2018.loc[:,['city','PER CAPITA INCOME BY RACE AND HISPANIC OR LATINO ORIGIN','Unnamed: 1','Unnamed: 5']]\n",
    "\n",
    "#renaming column\n",
    "race_atl_inc_2018 = race_atl_inc_2018.rename(columns = {'PER CAPITA INCOME BY RACE AND HISPANIC OR LATINO ORIGIN':'race',\n",
    "                                                          'Unnamed: 1': 'household_count',\n",
    "                                                          'Unnamed: 5':'avg_income'})\n",
    "\n",
    "#stripping extra space in column\n",
    "race_atl_inc_2018['race'] = race_atl_inc_2018['race'].str.strip()\n",
    "\n",
    "#consolidating table\n",
    "race_atl_inc_2018 = race_atl_inc_2018.loc[(race_atl_inc_2018['race']=='White')|\n",
    "                                            (race_atl_inc_2018['race']=='Black or African American')|\n",
    "                                            (race_atl_inc_2018['race']=='American Indian and Alaska Native')|\n",
    "                                            (race_atl_inc_2018['race']=='Asian')|\n",
    "                                            (race_atl_inc_2018['race']=='Native Hawaiian and Other Pacific Islander')|\n",
    "                                            (race_atl_inc_2018['race']=='Some other race')|\n",
    "                                            (race_atl_inc_2018['race']=='Two or more races')|\n",
    "                                            (race_atl_inc_2018['race']=='Hispanic or Latino origin (of any race)')].reset_index(drop=True)\n",
    "\n",
    "#add year column\n",
    "race_atl_inc_2018['year'] = 2018\n",
    "\n",
    "#reorder columns \n",
    "race_atl_inc_2018 = race_atl_inc_2018.loc[:,['city','race', 'year','household_count','avg_income']]\n",
    "\n",
    "race_atl_inc_2018.head()"
   ]
  },
  {
   "cell_type": "code",
   "execution_count": null,
   "id": "c2626ae6",
   "metadata": {},
   "outputs": [],
   "source": [
    "#pulling out relevant columns\n",
    "race_austin_inc_2018 = race_austin_inc_2018.loc[:,['city','PER CAPITA INCOME BY RACE AND HISPANIC OR LATINO ORIGIN','Unnamed: 1','Unnamed: 5']]\n",
    "\n",
    "#renaming column\n",
    "race_austin_inc_2018 = race_austin_inc_2018.rename(columns = {'PER CAPITA INCOME BY RACE AND HISPANIC OR LATINO ORIGIN':'race',\n",
    "                                                          'Unnamed: 1': 'household_count',\n",
    "                                                          'Unnamed: 5':'avg_income'})\n",
    "\n",
    "#stripping extra space in column\n",
    "race_austin_inc_2018['race'] = race_austin_inc_2018['race'].str.strip()\n",
    "\n",
    "#consolidating table\n",
    "race_austin_inc_2018 = race_austin_inc_2018.loc[(race_austin_inc_2018['race']=='White')|\n",
    "                                            (race_austin_inc_2018['race']=='Black or African American')|\n",
    "                                            (race_austin_inc_2018['race']=='American Indian and Alaska Native')|\n",
    "                                            (race_austin_inc_2018['race']=='Asian')|\n",
    "                                            (race_austin_inc_2018['race']=='Native Hawaiian and Other Pacific Islander')|\n",
    "                                            (race_austin_inc_2018['race']=='Some other race')|\n",
    "                                            (race_austin_inc_2018['race']=='Two or more races')|\n",
    "                                            (race_austin_inc_2018['race']=='Hispanic or Latino origin (of any race)')].reset_index(drop=True)\n",
    "\n",
    "#add year column\n",
    "race_austin_inc_2018['year'] = 2018\n",
    "\n",
    "#reorder columns \n",
    "race_austin_inc_2018 = race_austin_inc_2018.loc[:,['city','race', 'year','household_count','avg_income']]\n",
    "\n",
    "race_austin_inc_2018.head()"
   ]
  },
  {
   "cell_type": "code",
   "execution_count": null,
   "id": "49feade7",
   "metadata": {},
   "outputs": [],
   "source": [
    "#pulling out relevant columns\n",
    "race_nash_inc_2019 = race_nash_inc_2019.loc[:,['city','PER CAPITA INCOME BY RACE AND HISPANIC OR LATINO ORIGIN','Unnamed: 1','Unnamed: 5']]\n",
    "\n",
    "#renaming column\n",
    "race_nash_inc_2019 = race_nash_inc_2019.rename(columns = {'PER CAPITA INCOME BY RACE AND HISPANIC OR LATINO ORIGIN':'race',\n",
    "                                                          'Unnamed: 1': 'household_count',\n",
    "                                                          'Unnamed: 5':'avg_income'})\n",
    "\n",
    "#stripping extra space in column\n",
    "race_nash_inc_2019['race'] = race_nash_inc_2019['race'].str.strip()\n",
    "\n",
    "#consolidating table\n",
    "race_nash_inc_2019 = race_nash_inc_2019.loc[(race_nash_inc_2019['race']=='White')|\n",
    "                                            (race_nash_inc_2019['race']=='Black or African American')|\n",
    "                                            (race_nash_inc_2019['race']=='American Indian and Alaska Native')|\n",
    "                                            (race_nash_inc_2019['race']=='Asian')|\n",
    "                                            (race_nash_inc_2019['race']=='Native Hawaiian and Other Pacific Islander')|\n",
    "                                            (race_nash_inc_2019['race']=='Some other race')|\n",
    "                                            (race_nash_inc_2019['race']=='Two or more races')|\n",
    "                                            (race_nash_inc_2019['race']=='Hispanic or Latino origin (of any race)')].reset_index(drop=True)\n",
    "\n",
    "#add year column\n",
    "race_nash_inc_2019['year'] = 2019\n",
    "\n",
    "#reorder columns \n",
    "race_nash_inc_2019 = race_nash_inc_2019.loc[:,['city','race', 'year','household_count','avg_income']]\n",
    "\n",
    "race_nash_inc_2019.head()"
   ]
  },
  {
   "cell_type": "code",
   "execution_count": null,
   "id": "d66a1415",
   "metadata": {},
   "outputs": [],
   "source": [
    "#pulling out relevant columns\n",
    "race_atl_inc_2019 = race_atl_inc_2019.loc[:,['city','PER CAPITA INCOME BY RACE AND HISPANIC OR LATINO ORIGIN','Unnamed: 1','Unnamed: 5']]\n",
    "\n",
    "#renaming column\n",
    "race_atl_inc_2019 = race_atl_inc_2019.rename(columns = {'PER CAPITA INCOME BY RACE AND HISPANIC OR LATINO ORIGIN':'race',\n",
    "                                                          'Unnamed: 1': 'household_count',\n",
    "                                                          'Unnamed: 5':'avg_income'})\n",
    "\n",
    "#stripping extra space in column\n",
    "race_atl_inc_2019['race'] = race_atl_inc_2019['race'].str.strip()\n",
    "\n",
    "#consolidating table\n",
    "race_atl_inc_2019 = race_atl_inc_2019.loc[(race_atl_inc_2019['race']=='White')|\n",
    "                                            (race_atl_inc_2019['race']=='Black or African American')|\n",
    "                                            (race_atl_inc_2019['race']=='American Indian and Alaska Native')|\n",
    "                                            (race_atl_inc_2019['race']=='Asian')|\n",
    "                                            (race_atl_inc_2019['race']=='Native Hawaiian and Other Pacific Islander')|\n",
    "                                            (race_atl_inc_2019['race']=='Some other race')|\n",
    "                                            (race_atl_inc_2019['race']=='Two or more races')|\n",
    "                                            (race_atl_inc_2019['race']=='Hispanic or Latino origin (of any race)')].reset_index(drop=True)\n",
    "\n",
    "#add year column\n",
    "race_atl_inc_2019['year'] = 2019\n",
    "\n",
    "#reorder columns \n",
    "race_atl_inc_2019 = race_atl_inc_2019.loc[:,['city','race', 'year','household_count','avg_income']]\n",
    "\n",
    "race_atl_inc_2019.head()"
   ]
  },
  {
   "cell_type": "code",
   "execution_count": null,
   "id": "8a333ee2",
   "metadata": {},
   "outputs": [],
   "source": [
    "#pulling out relevant columns\n",
    "race_austin_inc_2019 = race_austin_inc_2019.loc[:,['city','PER CAPITA INCOME BY RACE AND HISPANIC OR LATINO ORIGIN','Unnamed: 1','Unnamed: 5']]\n",
    "\n",
    "#renaming column\n",
    "race_austin_inc_2019 = race_austin_inc_2019.rename(columns = {'PER CAPITA INCOME BY RACE AND HISPANIC OR LATINO ORIGIN':'race',\n",
    "                                                          'Unnamed: 1': 'household_count',\n",
    "                                                          'Unnamed: 5':'avg_income'})\n",
    "\n",
    "#stripping extra space in column\n",
    "race_austin_inc_2019['race'] = race_austin_inc_2019['race'].str.strip()\n",
    "\n",
    "#consolidating table\n",
    "race_austin_inc_2019 = race_austin_inc_2019.loc[(race_austin_inc_2019['race']=='White')|\n",
    "                                            (race_austin_inc_2019['race']=='Black or African American')|\n",
    "                                            (race_austin_inc_2019['race']=='American Indian and Alaska Native')|\n",
    "                                            (race_austin_inc_2019['race']=='Asian')|\n",
    "                                            (race_austin_inc_2019['race']=='Native Hawaiian and Other Pacific Islander')|\n",
    "                                            (race_austin_inc_2019['race']=='Some other race')|\n",
    "                                            (race_austin_inc_2019['race']=='Two or more races')|\n",
    "                                            (race_austin_inc_2019['race']=='Hispanic or Latino origin (of any race)')].reset_index(drop=True)\n",
    "\n",
    "#add year column\n",
    "race_austin_inc_2019['year'] = 2019\n",
    "\n",
    "#reorder columns \n",
    "race_austin_inc_2019 = race_austin_inc_2019.loc[:,['city','race', 'year','household_count','avg_income']]\n",
    "\n",
    "race_austin_inc_2019.head()"
   ]
  },
  {
   "cell_type": "code",
   "execution_count": null,
   "id": "ee5f5714",
   "metadata": {},
   "outputs": [],
   "source": [
    "#pulling out relevant columns\n",
    "race_nash_inc_2020 = race_nash_inc_2020.loc[:,['city','PER CAPITA INCOME BY RACE AND HISPANIC OR LATINO ORIGIN','Unnamed: 1','Unnamed: 5']]\n",
    "\n",
    "#renaming column\n",
    "race_nash_inc_2020 = race_nash_inc_2020.rename(columns = {'PER CAPITA INCOME BY RACE AND HISPANIC OR LATINO ORIGIN':'race',\n",
    "                                                          'Unnamed: 1': 'household_count',\n",
    "                                                          'Unnamed: 5':'avg_income'})\n",
    "\n",
    "#stripping extra space in column\n",
    "race_nash_inc_2020['race'] = race_nash_inc_2020['race'].str.strip()\n",
    "\n",
    "#consolidating table\n",
    "race_nash_inc_2020 = race_nash_inc_2020.loc[(race_nash_inc_2020['race']=='White')|\n",
    "                                            (race_nash_inc_2020['race']=='Black or African American')|\n",
    "                                            (race_nash_inc_2020['race']=='American Indian and Alaska Native')|\n",
    "                                            (race_nash_inc_2020['race']=='Asian')|\n",
    "                                            (race_nash_inc_2020['race']=='Native Hawaiian and Other Pacific Islander')|\n",
    "                                            (race_nash_inc_2020['race']=='Some other race')|\n",
    "                                            (race_nash_inc_2020['race']=='Two or more races')|\n",
    "                                            (race_nash_inc_2020['race']=='Hispanic or Latino origin (of any race)')].reset_index(drop=True)\n",
    "\n",
    "#add year column\n",
    "race_nash_inc_2020['year'] = 2020\n",
    "\n",
    "#reorder columns \n",
    "race_nash_inc_2020 = race_nash_inc_2020.loc[:,['city','race', 'year','household_count','avg_income']]\n",
    "\n",
    "race_nash_inc_2020.head()"
   ]
  },
  {
   "cell_type": "code",
   "execution_count": null,
   "id": "1f06521f",
   "metadata": {},
   "outputs": [],
   "source": [
    "#pulling out relevant columns\n",
    "race_atl_inc_2020 = race_atl_inc_2020.loc[:,['city','PER CAPITA INCOME BY RACE AND HISPANIC OR LATINO ORIGIN','Unnamed: 1','Unnamed: 5']]\n",
    "\n",
    "#renaming column\n",
    "race_atl_inc_2020 = race_atl_inc_2020.rename(columns = {'PER CAPITA INCOME BY RACE AND HISPANIC OR LATINO ORIGIN':'race',\n",
    "                                                          'Unnamed: 1': 'household_count',\n",
    "                                                          'Unnamed: 5':'avg_income'})\n",
    "\n",
    "#stripping extra space in column\n",
    "race_atl_inc_2020['race'] = race_atl_inc_2020['race'].str.strip()\n",
    "\n",
    "#consolidating table\n",
    "race_atl_inc_2020 = race_atl_inc_2020.loc[(race_atl_inc_2020['race']=='White')|\n",
    "                                            (race_atl_inc_2020['race']=='Black or African American')|\n",
    "                                            (race_atl_inc_2020['race']=='American Indian and Alaska Native')|\n",
    "                                            (race_atl_inc_2020['race']=='Asian')|\n",
    "                                            (race_atl_inc_2020['race']=='Native Hawaiian and Other Pacific Islander')|\n",
    "                                            (race_atl_inc_2020['race']=='Some other race')|\n",
    "                                            (race_atl_inc_2020['race']=='Two or more races')|\n",
    "                                            (race_atl_inc_2020['race']=='Hispanic or Latino origin (of any race)')].reset_index(drop=True)\n",
    "\n",
    "#add year column\n",
    "race_atl_inc_2020['year'] = 2020\n",
    "\n",
    "#reorder columns \n",
    "race_atl_inc_2020 = race_atl_inc_2020.loc[:,['city','race', 'year','household_count','avg_income']]\n",
    "\n",
    "race_atl_inc_2020.head()"
   ]
  },
  {
   "cell_type": "code",
   "execution_count": null,
   "id": "6cc17e29",
   "metadata": {},
   "outputs": [],
   "source": [
    "#pulling out relevant columns\n",
    "race_austin_inc_2020 = race_austin_inc_2020.loc[:,['city','PER CAPITA INCOME BY RACE AND HISPANIC OR LATINO ORIGIN','Unnamed: 1','Unnamed: 5']]\n",
    "\n",
    "#renaming column\n",
    "race_austin_inc_2020 = race_austin_inc_2020.rename(columns = {'PER CAPITA INCOME BY RACE AND HISPANIC OR LATINO ORIGIN':'race',\n",
    "                                                          'Unnamed: 1': 'household_count',\n",
    "                                                          'Unnamed: 5':'avg_income'})\n",
    "\n",
    "#stripping extra space in column\n",
    "race_austin_inc_2020['race'] = race_austin_inc_2020['race'].str.strip()\n",
    "\n",
    "#consolidating table\n",
    "race_austin_inc_2020 = race_austin_inc_2020.loc[(race_austin_inc_2020['race']=='White')|\n",
    "                                            (race_austin_inc_2020['race']=='Black or African American')|\n",
    "                                            (race_austin_inc_2020['race']=='American Indian and Alaska Native')|\n",
    "                                            (race_austin_inc_2020['race']=='Asian')|\n",
    "                                            (race_austin_inc_2020['race']=='Native Hawaiian and Other Pacific Islander')|\n",
    "                                            (race_austin_inc_2020['race']=='Some other race')|\n",
    "                                            (race_austin_inc_2020['race']=='Two or more races')|\n",
    "                                            (race_austin_inc_2020['race']=='Hispanic or Latino origin (of any race)')].reset_index(drop=True)\n",
    "\n",
    "#add year column\n",
    "race_austin_inc_2020['year'] = 2020\n",
    "\n",
    "#reorder columns \n",
    "race_austin_inc_2020 = race_austin_inc_2020.loc[:,['city','race', 'year','household_count','avg_income']]\n",
    "\n",
    "race_austin_inc_2020.head()"
   ]
  },
  {
   "cell_type": "code",
   "execution_count": null,
   "id": "4ec324f6",
   "metadata": {},
   "outputs": [],
   "source": [
    "#pulling out relevant columns\n",
    "race_nash_inc_2021 = race_nash_inc_2021.loc[:,['city','PER CAPITA INCOME BY RACE AND HISPANIC OR LATINO ORIGIN','Unnamed: 1','Unnamed: 5']]\n",
    "\n",
    "#renaming column\n",
    "race_nash_inc_2021 = race_nash_inc_2021.rename(columns = {'PER CAPITA INCOME BY RACE AND HISPANIC OR LATINO ORIGIN':'race',\n",
    "                                                          'Unnamed: 1': 'household_count',\n",
    "                                                          'Unnamed: 5':'avg_income'})\n",
    "\n",
    "#stripping extra space in column\n",
    "race_nash_inc_2021['race'] = race_nash_inc_2021['race'].str.strip()\n",
    "\n",
    "#consolidating table\n",
    "race_nash_inc_2021 = race_nash_inc_2021.loc[(race_nash_inc_2021['race']=='White')|\n",
    "                                            (race_nash_inc_2021['race']=='Black or African American')|\n",
    "                                            (race_nash_inc_2021['race']=='American Indian and Alaska Native')|\n",
    "                                            (race_nash_inc_2021['race']=='Asian')|\n",
    "                                            (race_nash_inc_2021['race']=='Native Hawaiian and Other Pacific Islander')|\n",
    "                                            (race_nash_inc_2021['race']=='Some other race')|\n",
    "                                            (race_nash_inc_2021['race']=='Two or more races')|\n",
    "                                            (race_nash_inc_2021['race']=='Hispanic or Latino origin (of any race)')].reset_index(drop=True)\n",
    "\n",
    "#add year column\n",
    "race_nash_inc_2021['year'] = 2021\n",
    "\n",
    "#reorder columns \n",
    "race_nash_inc_2021 = race_nash_inc_2021.loc[:,['city','race', 'year','household_count','avg_income']]\n",
    "\n",
    "race_nash_inc_2021.head()"
   ]
  },
  {
   "cell_type": "code",
   "execution_count": null,
   "id": "3eefa34c",
   "metadata": {},
   "outputs": [],
   "source": [
    "#pulling out relevant columns\n",
    "race_atl_inc_2021 = race_atl_inc_2021.loc[:,['city','PER CAPITA INCOME BY RACE AND HISPANIC OR LATINO ORIGIN','Unnamed: 1','Unnamed: 5']]\n",
    "\n",
    "#renaming column\n",
    "race_atl_inc_2021 = race_atl_inc_2021.rename(columns = {'PER CAPITA INCOME BY RACE AND HISPANIC OR LATINO ORIGIN':'race',\n",
    "                                                          'Unnamed: 1': 'household_count',\n",
    "                                                          'Unnamed: 5':'avg_income'})\n",
    "\n",
    "#stripping extra space in column\n",
    "race_atl_inc_2021['race'] = race_atl_inc_2021['race'].str.strip()\n",
    "\n",
    "#consolidating table\n",
    "race_atl_inc_2021 = race_atl_inc_2021.loc[(race_atl_inc_2021['race']=='White')|\n",
    "                                            (race_atl_inc_2021['race']=='Black or African American')|\n",
    "                                            (race_atl_inc_2021['race']=='American Indian and Alaska Native')|\n",
    "                                            (race_atl_inc_2021['race']=='Asian')|\n",
    "                                            (race_atl_inc_2021['race']=='Native Hawaiian and Other Pacific Islander')|\n",
    "                                            (race_atl_inc_2021['race']=='Some other race')|\n",
    "                                            (race_atl_inc_2021['race']=='Two or more races')|\n",
    "                                            (race_atl_inc_2021['race']=='Hispanic or Latino origin (of any race)')].reset_index(drop=True)\n",
    "\n",
    "#add year column\n",
    "race_atl_inc_2021['year'] = 2021\n",
    "\n",
    "#reorder columns \n",
    "race_atl_inc_2021 = race_atl_inc_2021.loc[:,['city','race', 'year','household_count','avg_income']]\n",
    "\n",
    "race_atl_inc_2021.head()"
   ]
  },
  {
   "cell_type": "code",
   "execution_count": null,
   "id": "924a0233",
   "metadata": {},
   "outputs": [],
   "source": [
    "#pulling out relevant columns\n",
    "race_austin_inc_2021 = race_austin_inc_2021.loc[:,['city','PER CAPITA INCOME BY RACE AND HISPANIC OR LATINO ORIGIN','Unnamed: 1','Unnamed: 5']]\n",
    "\n",
    "#renaming column\n",
    "race_austin_inc_2021 = race_austin_inc_2021.rename(columns = {'PER CAPITA INCOME BY RACE AND HISPANIC OR LATINO ORIGIN':'race',\n",
    "                                                          'Unnamed: 1': 'household_count',\n",
    "                                                          'Unnamed: 5':'avg_income'})\n",
    "\n",
    "#stripping extra space in column\n",
    "race_austin_inc_2021['race'] = race_austin_inc_2021['race'].str.strip()\n",
    "\n",
    "#consolidating table\n",
    "race_austin_inc_2021 = race_austin_inc_2021.loc[(race_austin_inc_2021['race']=='White')|\n",
    "                                            (race_austin_inc_2021['race']=='Black or African American')|\n",
    "                                            (race_austin_inc_2021['race']=='American Indian and Alaska Native')|\n",
    "                                            (race_austin_inc_2021['race']=='Asian')|\n",
    "                                            (race_austin_inc_2021['race']=='Native Hawaiian and Other Pacific Islander')|\n",
    "                                            (race_austin_inc_2021['race']=='Some other race')|\n",
    "                                            (race_austin_inc_2021['race']=='Two or more races')|\n",
    "                                            (race_austin_inc_2021['race']=='Hispanic or Latino origin (of any race)')].reset_index(drop=True)\n",
    "\n",
    "#add year column\n",
    "race_austin_inc_2021['year'] = 2021\n",
    "\n",
    "#reorder columns \n",
    "race_austin_inc_2021 = race_austin_inc_2021.loc[:,['city','race', 'year','household_count','avg_income']]\n",
    "\n",
    "race_austin_inc_2021.head()"
   ]
  },
  {
   "cell_type": "code",
   "execution_count": null,
   "id": "553943be",
   "metadata": {},
   "outputs": [],
   "source": [
    "household_inc = pd.concat([hh_atl_inc_2017,hh_atl_inc_2018,hh_atl_inc_2019,hh_atl_inc_2020,hh_atl_inc_2021,\n",
    "                           hh_nash_inc_2017,hh_nash_inc_2018,hh_nash_inc_2019,hh_nash_inc_2020,hh_nash_inc_2021,\n",
    "                           hh_austin_inc_2017,hh_austin_inc_2018,hh_austin_inc_2019,hh_austin_inc_2020,hh_austin_inc_2021]).reset_index(drop=True)\n",
    "household_inc.head()"
   ]
  },
  {
   "cell_type": "code",
   "execution_count": null,
   "id": "1db91acf",
   "metadata": {},
   "outputs": [],
   "source": [
    "family_size_inc = pd.concat([fs_atl_inc_2017,fs_atl_inc_2018,fs_atl_inc_2019,fs_atl_inc_2020,fs_atl_inc_2021,\n",
    "                             fs_nash_inc_2017,fs_nash_inc_2018,fs_nash_inc_2019,fs_nash_inc_2020,fs_nash_inc_2021,\n",
    "                             fs_austin_inc_2017,fs_austin_inc_2018,fs_austin_inc_2019,fs_austin_inc_2020,fs_austin_inc_2021]).reset_index(drop=True)\n",
    "family_size_inc.head()"
   ]
  },
  {
   "cell_type": "code",
   "execution_count": null,
   "id": "f575a441",
   "metadata": {},
   "outputs": [],
   "source": [
    "race_inc = pd.concat([race_atl_inc_2017,race_atl_inc_2018,race_atl_inc_2019,race_atl_inc_2020,race_atl_inc_2021,\n",
    "                      race_nash_inc_2017,race_nash_inc_2018,race_nash_inc_2019,race_nash_inc_2020,race_nash_inc_2021,\n",
    "                      race_austin_inc_2017,race_austin_inc_2018,race_austin_inc_2019,race_austin_inc_2020,race_austin_inc_2021]).reset_index(drop=True)\n",
    "race_inc.head()"
   ]
  },
  {
   "cell_type": "code",
   "execution_count": null,
   "id": "9a10bc8d",
   "metadata": {},
   "outputs": [],
   "source": [
    "sales_count = pd.concat([atl_sales_count,nash_sales_count,austin_sales_count])\n",
    "sales_count.head()"
   ]
  },
  {
   "cell_type": "code",
   "execution_count": null,
   "id": "bd009f31",
   "metadata": {},
   "outputs": [],
   "source": [
    "list_price = pd.concat([atl_list_price,nash_list_price,austin_list_price])\n",
    "list_price.head()"
   ]
  },
  {
   "cell_type": "code",
   "execution_count": null,
   "id": "f17a554c",
   "metadata": {},
   "outputs": [],
   "source": [
    "inventory = pd.concat([atl_inventory,nash_inventory,austin_inventory])\n",
    "inventory.head()"
   ]
  },
  {
   "cell_type": "code",
   "execution_count": null,
   "id": "7917cb15",
   "metadata": {},
   "outputs": [],
   "source": [
    "forecasts = pd.concat([atl_forecast,nash_forecast,austin_forecast])\n",
    "forecasts.head()"
   ]
  },
  {
   "cell_type": "code",
   "execution_count": null,
   "id": "ca6912a1",
   "metadata": {},
   "outputs": [],
   "source": [
    "household_inc.info()"
   ]
  },
  {
   "cell_type": "code",
   "execution_count": null,
   "id": "3902d379",
   "metadata": {
    "scrolled": true
   },
   "outputs": [],
   "source": [
    "household_inc['avg_income'] = household_inc['avg_income'].str.replace(',','').astype(int)\n",
    "household_inc['monthly'] = (household_inc['avg_income']/12).round(2)\n",
    "household_inc.head()"
   ]
  },
  {
   "cell_type": "code",
   "execution_count": null,
   "id": "650932b6",
   "metadata": {},
   "outputs": [],
   "source": [
    "family_size_inc['avg_income'] = family_size_inc['avg_income'].str.replace(',','').astype(int)\n",
    "family_size_inc['monthly'] = (family_size_inc['avg_income']/12).round(2)\n",
    "family_size_inc.head()"
   ]
  },
  {
   "cell_type": "code",
   "execution_count": null,
   "id": "03505c8e",
   "metadata": {},
   "outputs": [],
   "source": [
    "race_inc['avg_income'] = race_inc['avg_income'].str.replace(',','').str.replace('N','0').astype(int)\n",
    "race_inc['monthly'] = (race_inc['avg_income']/12).round(2)\n",
    "race_inc.head()"
   ]
  },
  {
   "cell_type": "code",
   "execution_count": null,
   "id": "9b6613de",
   "metadata": {
    "scrolled": true
   },
   "outputs": [],
   "source": [
    "household_inc.to_csv('../data/cleaned/housing/household_income.csv')"
   ]
  },
  {
   "cell_type": "code",
   "execution_count": null,
   "id": "82243d24",
   "metadata": {},
   "outputs": [],
   "source": [
    "family_size_inc.to_csv('../data/cleaned/housing/family_size_income.csv')"
   ]
  },
  {
   "cell_type": "code",
   "execution_count": null,
   "id": "75a155cd",
   "metadata": {},
   "outputs": [],
   "source": [
    "race_inc.to_csv('../data/cleaned/housing/race_income.csv')"
   ]
  },
  {
   "cell_type": "code",
   "execution_count": null,
   "id": "2ee0b4bb",
   "metadata": {},
   "outputs": [],
   "source": [
    "sales_count.to_csv('../data/cleaned/housing/sales_count.csv')"
   ]
  },
  {
   "cell_type": "code",
   "execution_count": null,
   "id": "8eb54bc9",
   "metadata": {},
   "outputs": [],
   "source": [
    "list_price.to_csv('../data/cleaned/housing/list_price.csv')"
   ]
  },
  {
   "cell_type": "code",
   "execution_count": null,
   "id": "0466638a",
   "metadata": {},
   "outputs": [],
   "source": [
    "inventory.to_csv('../data/cleaned/housing/inventory.csv')"
   ]
  },
  {
   "cell_type": "code",
   "execution_count": null,
   "id": "ce1bc571",
   "metadata": {},
   "outputs": [],
   "source": [
    "forecasts.to_csv('../data/cleaned/housing/forecasts.csv')"
   ]
  },
  {
   "cell_type": "code",
   "execution_count": null,
   "id": "71ca39b7",
   "metadata": {},
   "outputs": [],
   "source": [
    "#Rename columns\n",
    "one_bed_value = one_bed_value.rename(columns = {'RegionName':'City','StateName':'State', 'home_value': '1br_value'})\n",
    "\n",
    "#splitting up date\n",
    "one_bed_value[['year','month','day']] = one_bed_value['date'].str.split('-', expand = True)\n",
    "one_bed_value.head()\n",
    "\n",
    "#convert date columns to datetime\n",
    "one_bed_value['date']= pd.to_datetime(one_bed_value['date'])\n",
    "\n",
    "#pick out specific time period\n",
    "one_bed_value = one_bed_value.loc[one_bed_value['date']>='2018-03-31']\n",
    "\n",
    "one_bed_value.head()"
   ]
  },
  {
   "cell_type": "code",
   "execution_count": null,
   "id": "402d7cdd",
   "metadata": {},
   "outputs": [],
   "source": [
    "#Rename columns\n",
    "two_bed_value = two_bed_value.rename(columns = {'RegionName':'City','StateName':'State'})\n",
    "\n",
    "#splitting up date\n",
    "two_bed_value[['year','month','day']] = two_bed_value['date'].str.split('-', expand = True)\n",
    "two_bed_value.head()\n",
    "\n",
    "#convert date columns to datetime\n",
    "two_bed_value['date']= pd.to_datetime(two_bed_value['date'])\n",
    "\n",
    "#pick out specific time period\n",
    "two_bed_value = two_bed_value.loc[two_bed_value['date']>='2018-03-31']\n",
    "\n",
    "two_bed_value.head()"
   ]
  },
  {
   "cell_type": "code",
   "execution_count": null,
   "id": "e90b3ca1",
   "metadata": {},
   "outputs": [],
   "source": [
    "#Rename columns\n",
    "three_bed_value = three_bed_value.rename(columns = {'RegionName':'City','StateName':'State'})\n",
    "\n",
    "#splitting up date\n",
    "three_bed_value[['year','month','day']] = three_bed_value['date'].str.split('-', expand = True)\n",
    "three_bed_value.head()\n",
    "\n",
    "#convert date columns to datetime\n",
    "three_bed_value['date']= pd.to_datetime(three_bed_value['date'])\n",
    "\n",
    "#pick out specific time period\n",
    "three_bed_value = three_bed_value.loc[three_bed_value['date']>='2018-03-31']\n",
    "\n",
    "three_bed_value.head()"
   ]
  },
  {
   "cell_type": "code",
   "execution_count": null,
   "id": "cede48d7",
   "metadata": {},
   "outputs": [],
   "source": [
    "#Rename columns\n",
    "four_bed_value = four_bed_value.rename(columns = {'RegionName':'City','StateName':'State'})\n",
    "\n",
    "#splitting up date\n",
    "four_bed_value[['year','month','day']] = four_bed_value['date'].str.split('-', expand = True)\n",
    "four_bed_value.head()\n",
    "\n",
    "#convert date columns to datetime\n",
    "four_bed_value['date']= pd.to_datetime(four_bed_value['date'])\n",
    "\n",
    "#pick out specific time period\n",
    "four_bed_value = four_bed_value.loc[four_bed_value['date']>='2018-03-31']\n",
    "\n",
    "four_bed_value.head()"
   ]
  },
  {
   "cell_type": "code",
   "execution_count": null,
   "id": "c21d721d",
   "metadata": {},
   "outputs": [],
   "source": [
    "#Rename columns\n",
    "five_bed_value = five_bed_value.rename(columns = {'RegionName':'City','StateName':'State'})\n",
    "\n",
    "#splitting up date\n",
    "five_bed_value[['year','month','day']] = five_bed_value['date'].str.split('-', expand = True)\n",
    "five_bed_value.head()\n",
    "\n",
    "#convert date columns to datetime\n",
    "five_bed_value['date']= pd.to_datetime(five_bed_value['date'])\n",
    "\n",
    "#pick out specific time period\n",
    "five_bed_value = five_bed_value.loc[five_bed_value['date']>='2018-03-31']\n",
    "\n",
    "five_bed_value.head()"
   ]
  },
  {
   "cell_type": "code",
   "execution_count": null,
   "id": "f6599c49",
   "metadata": {},
   "outputs": [],
   "source": [
    "one_bed_props = one_bed_value.loc[(one_bed_value['City']=='Atlanta, GA')|\n",
    "                                    (one_bed_value['City']=='Nashville, TN')|\n",
    "                                    (one_bed_value['City']=='Austin, TX')].reset_index(drop = True)\n",
    "one_bed_props.head()"
   ]
  },
  {
   "cell_type": "code",
   "execution_count": null,
   "id": "d975c07e",
   "metadata": {},
   "outputs": [],
   "source": [
    "two_bed_props = two_bed_value.loc[(two_bed_value['City']=='Atlanta, GA')|\n",
    "                                    (two_bed_value['City']=='Nashville, TN')|\n",
    "                                    (two_bed_value['City']=='Austin, TX')].reset_index(drop = True)\n",
    "two_bed_props.head()"
   ]
  },
  {
   "cell_type": "code",
   "execution_count": null,
   "id": "f8576d5a",
   "metadata": {},
   "outputs": [],
   "source": [
    "three_bed_props = three_bed_value.loc[(three_bed_value['City']=='Atlanta, GA')|\n",
    "                                    (three_bed_value['City']=='Nashville, TN')|\n",
    "                                    (three_bed_value['City']=='Austin, TX')].reset_index(drop = True)\n",
    "three_bed_props.head()"
   ]
  },
  {
   "cell_type": "code",
   "execution_count": null,
   "id": "ada863d0",
   "metadata": {},
   "outputs": [],
   "source": [
    "four_bed_props = four_bed_value.loc[(four_bed_value['City']=='Atlanta, GA')|\n",
    "                                    (four_bed_value['City']=='Nashville, TN')|\n",
    "                                    (four_bed_value['City']=='Austin, TX')].reset_index(drop = True)\n",
    "four_bed_props.head()"
   ]
  },
  {
   "cell_type": "code",
   "execution_count": null,
   "id": "0120ad06",
   "metadata": {},
   "outputs": [],
   "source": [
    "five_bed_props = five_bed_value.loc[(five_bed_value['City']=='Atlanta, GA')|\n",
    "                                    (five_bed_value['City']=='Nashville, TN')|\n",
    "                                    (five_bed_value['City']=='Austin, TX')].reset_index(drop = True)\n",
    "five_bed_props.head()"
   ]
  },
  {
   "cell_type": "code",
   "execution_count": null,
   "id": "b099442d",
   "metadata": {},
   "outputs": [],
   "source": [
    "#finding average monthly mortage cost\n",
    "one_bed_props['down_payment'] = one_bed_props['1br_value']*.2\n",
    "one_bed_props['mort_start'] = one_bed_props['1br_value']-one_bed_props['down_payment']\n",
    "one_bed_props['monthly_mortgage'] = ((one_bed_props['mort_start']/30)/12).round(2)\n",
    "one_bed_props.head()"
   ]
  },
  {
   "cell_type": "code",
   "execution_count": null,
   "id": "b581c804",
   "metadata": {},
   "outputs": [],
   "source": [
    "#finding average monthly mortage cost\n",
    "two_bed_props['down_payment'] = two_bed_props['2br_value']*.2\n",
    "two_bed_props['mort_start'] = two_bed_props['2br_value']-two_bed_props['down_payment']\n",
    "two_bed_props['monthly_mortgage'] = ((two_bed_props['mort_start']/30)/12).round(2)\n",
    "two_bed_props.head()"
   ]
  },
  {
   "cell_type": "code",
   "execution_count": null,
   "id": "1ae870e0",
   "metadata": {},
   "outputs": [],
   "source": [
    "#finding average monthly mortage cost\n",
    "three_bed_props['down_payment'] = three_bed_props['3br_value']*.2\n",
    "three_bed_props['mort_start'] = three_bed_props['3br_value']-three_bed_props['down_payment']\n",
    "three_bed_props['monthly_mortgage'] = ((three_bed_props['mort_start']/30)/12).round(2)\n",
    "three_bed_props.head()"
   ]
  },
  {
   "cell_type": "code",
   "execution_count": null,
   "id": "9ea614fb",
   "metadata": {},
   "outputs": [],
   "source": [
    "#finding average monthly mortage cost\n",
    "four_bed_props['down_payment'] = four_bed_props['4br_value']*.2\n",
    "four_bed_props['mort_start'] = four_bed_props['4br_value']-four_bed_props['down_payment']\n",
    "four_bed_props['monthly_mortgage'] = ((four_bed_props['mort_start']/30)/12).round(2)\n",
    "four_bed_props.head()"
   ]
  },
  {
   "cell_type": "code",
   "execution_count": null,
   "id": "9c331e89",
   "metadata": {},
   "outputs": [],
   "source": [
    "#finding average monthly mortage cost\n",
    "five_bed_props['down_payment'] = five_bed_props['5br_value']*.2\n",
    "five_bed_props['mort_start'] = five_bed_props['5br_value']-five_bed_props['down_payment']\n",
    "five_bed_props['monthly_mortgage'] = ((five_bed_props['mort_start']/30)/12).round(2)\n",
    "five_bed_props.head()"
   ]
  },
  {
   "cell_type": "code",
   "execution_count": null,
   "id": "62d12547",
   "metadata": {},
   "outputs": [],
   "source": [
    "one_bed_props.to_csv('../data/cleaned/housing/one_bed_props.csv')"
   ]
  },
  {
   "cell_type": "code",
   "execution_count": null,
   "id": "e092f248",
   "metadata": {},
   "outputs": [],
   "source": [
    "two_bed_props.to_csv('../data/cleaned/housing/two_bed_props.csv')"
   ]
  },
  {
   "cell_type": "code",
   "execution_count": null,
   "id": "1141ca97",
   "metadata": {},
   "outputs": [],
   "source": [
    "three_bed_props.to_csv('../data/cleaned/housing/three_bed_props.csv')"
   ]
  },
  {
   "cell_type": "code",
   "execution_count": null,
   "id": "2a6c1e19",
   "metadata": {},
   "outputs": [],
   "source": [
    "four_bed_props.to_csv('../data/cleaned/housing/four_bed_props.csv')"
   ]
  },
  {
   "cell_type": "code",
   "execution_count": null,
   "id": "b3d0b040",
   "metadata": {},
   "outputs": [],
   "source": [
    "five_bed_props.to_csv('../data/cleaned/housing/five_bed_props.csv')"
   ]
  },
  {
   "cell_type": "code",
   "execution_count": null,
   "id": "7fb44cc6",
   "metadata": {},
   "outputs": [],
   "source": []
  },
  {
   "cell_type": "code",
   "execution_count": null,
   "id": "34876079",
   "metadata": {},
   "outputs": [],
   "source": []
  }
 ],
 "metadata": {
  "kernelspec": {
   "display_name": "Python 3 (ipykernel)",
   "language": "python",
   "name": "python3"
  },
  "language_info": {
   "codemirror_mode": {
    "name": "ipython",
    "version": 3
   },
   "file_extension": ".py",
   "mimetype": "text/x-python",
   "name": "python",
   "nbconvert_exporter": "python",
   "pygments_lexer": "ipython3",
   "version": "3.9.13"
  }
 },
 "nbformat": 4,
 "nbformat_minor": 5
}
