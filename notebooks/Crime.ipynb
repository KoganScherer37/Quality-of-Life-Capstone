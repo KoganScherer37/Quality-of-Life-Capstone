{
 "cells": [
  {
   "cell_type": "code",
   "execution_count": null,
   "id": "a6fdd4ce",
   "metadata": {},
   "outputs": [],
   "source": [
    "import pandas as pd\n",
    "import matplotlib.pyplot as plt\n",
    "import numpy as np\n",
    "import seaborn as sns\n",
    "from datetime import datetime as dt\n",
    "import plotly.express as px\n",
    "import requests\n",
    "from bs4 import BeautifulSoup as BS\n",
    "from IPython.core.display import HTML\n",
    "\n",
    "%matplotlib inline"
   ]
  },
  {
   "cell_type": "code",
   "execution_count": null,
   "id": "b34acb04",
   "metadata": {},
   "outputs": [],
   "source": [
    "atl_crime = pd.read_csv('../data/atl_crime.csv')\n",
    "atl_crime.head()"
   ]
  },
  {
   "cell_type": "code",
   "execution_count": null,
   "id": "8023e493",
   "metadata": {},
   "outputs": [],
   "source": [
    "nash_crime = pd.read_csv('../data/nash_crime.csv')\n",
    "nash_crime.head()"
   ]
  },
  {
   "cell_type": "code",
   "execution_count": null,
   "id": "73627d6b",
   "metadata": {},
   "outputs": [],
   "source": [
    "austin_crime = pd.read_csv('../data/austin_crime.csv')\n",
    "austin_crime.head()"
   ]
  },
  {
   "cell_type": "code",
   "execution_count": null,
   "id": "cebc038f",
   "metadata": {},
   "outputs": [],
   "source": [
    "#add city column\n",
    "atl_crime['city'] = 'Atlanta'\n",
    "\n",
    "#pulling out relavent columns\n",
    "atl_crime = atl_crime.loc[:,[ 'city','OccurDate', 'UCRLiteral', 'Latitude', 'Longitude', 'geometry']]\n",
    "\n",
    "\n",
    "atl_crime.head()"
   ]
  },
  {
   "cell_type": "code",
   "execution_count": null,
   "id": "9bf04696",
   "metadata": {},
   "outputs": [],
   "source": [
    "#add city column\n",
    "nash_crime['city'] = 'Nashville'\n",
    "\n",
    "#pulling out relavent columns\n",
    "nash_crime = nash_crime.loc[:,['city','Incident Occurred','Latitude', 'Longitude', 'ZIP Code',\n",
    "                               'Offense Description','Mapped Location']]\n",
    "\n",
    "nash_crime.head()"
   ]
  },
  {
   "cell_type": "code",
   "execution_count": null,
   "id": "753e6a43",
   "metadata": {},
   "outputs": [],
   "source": [
    "#adding city column\n",
    "austin_crime['city'] = 'Austin'\n",
    "\n",
    "#pulling out relavent columns\n",
    "austin_crime = austin_crime.loc[:,[ 'city','Highest Offense Description','Occurred Date', \n",
    "                                    'Latitude','Longitude', 'Location' ]]\n",
    "austin_crime.tail()"
   ]
  },
  {
   "cell_type": "code",
   "execution_count": null,
   "id": "3ba2f652",
   "metadata": {},
   "outputs": [],
   "source": [
    "#creating date and time column\n",
    "atl_crime[['date','time']]=atl_crime['OccurDate'].str.split(' ',1,expand = True)\n",
    "atl_crime.head()"
   ]
  },
  {
   "cell_type": "code",
   "execution_count": null,
   "id": "22743820",
   "metadata": {},
   "outputs": [],
   "source": [
    "#creating date and time column\n",
    "nash_crime[['date','time']]=nash_crime['Incident Occurred'].str.split(' ',1,expand = True)\n",
    "nash_crime.head()"
   ]
  },
  {
   "cell_type": "code",
   "execution_count": null,
   "id": "9ac79e0d",
   "metadata": {},
   "outputs": [],
   "source": [
    "#renaming columns\n",
    "atl_crime = atl_crime.rename(columns = {'UCRLiteral':'incident','Latitude': 'lat','Longitude':'lng'})\n",
    "\n",
    "#reordering\n",
    "atl_crime = atl_crime.loc[:,[ 'city','date', 'incident']]\n",
    "\n",
    "#formatting date column to datetime\n",
    "atl_crime['date']= pd.to_datetime(atl_crime['date'])\n",
    "\n",
    "#pulling from 2018 to present\n",
    "atl_crime = atl_crime.loc[atl_crime['date']>='2018-01-01'].reset_index(drop=True)\n",
    "\n",
    "atl_crime.head()"
   ]
  },
  {
   "cell_type": "code",
   "execution_count": null,
   "id": "d5337ffa",
   "metadata": {},
   "outputs": [],
   "source": [
    "#renaming columns\n",
    "nash_crime = nash_crime.rename(columns = {'Offense Description':'incident','Latitude': 'lat','Longitude':'lng'})\n",
    "\n",
    "#reordering\n",
    "nash_crime = nash_crime.loc[:,[ 'city','date', 'incident']]\n",
    "\n",
    "#formatting date column to datetime\n",
    "nash_crime['date']= pd.to_datetime(nash_crime['date'])\n",
    "\n",
    "#pulling from 2018 to present\n",
    "nash_crime = nash_crime.loc[nash_crime['date']>='2018-01-01'].reset_index(drop=True)\n",
    "\n",
    "nash_crime.head()"
   ]
  },
  {
   "cell_type": "code",
   "execution_count": null,
   "id": "02a0553c",
   "metadata": {},
   "outputs": [],
   "source": [
    "#renaming columns\n",
    "austin_crime = austin_crime.rename(columns = {'Highest Offense Description':'incident','Latitude': 'lat','Longitude':'lng',\n",
    "                                              'Occurred Date':'date'})\n",
    "\n",
    "#reordering\n",
    "austin_crime = austin_crime.loc[:,[ 'city','date', 'incident']]\n",
    "\n",
    "#formatting date column to datetime\n",
    "austin_crime['date']= pd.to_datetime(austin_crime['date'])\n",
    "\n",
    "#pulling from 2018 to present\n",
    "austin_crime = austin_crime.loc[austin_crime['date']>='2018-01-01'].reset_index(drop=True)\n",
    "\n",
    "austin_crime.head()"
   ]
  },
  {
   "cell_type": "code",
   "execution_count": null,
   "id": "607490de",
   "metadata": {},
   "outputs": [],
   "source": [
    "atl_crime_counts = atl_crime['incident'].value_counts().to_frame().reset_index().rename(columns = {'index':'incident','incident':'count'})\n",
    "atl_crime_counts"
   ]
  },
  {
   "cell_type": "code",
   "execution_count": null,
   "id": "ca75c29b",
   "metadata": {},
   "outputs": [],
   "source": [
    "nash_crime_counts = nash_crime['incident'].value_counts().to_frame().reset_index().rename(columns = {'index':'incident','incident':'count'}).head(20)\n",
    "nash_crime_counts"
   ]
  },
  {
   "cell_type": "code",
   "execution_count": null,
   "id": "ed99f2ca",
   "metadata": {},
   "outputs": [],
   "source": [
    "austin_crime_counts = austin_crime['incident'].value_counts().to_frame().reset_index().rename(columns = {'index':'incident','incident':'count'}).head(20)\n",
    "austin_crime_counts"
   ]
  },
  {
   "cell_type": "code",
   "execution_count": null,
   "id": "c50bfd0e",
   "metadata": {},
   "outputs": [],
   "source": [
    "all_crimes = pd.concat([atl_crime,nash_crime,austin_crime]).reset_index(drop=True)\n",
    "\n",
    "all_crimes['incident'] = all_crimes['incident'].str.upper()\n",
    "all_crimes.head()"
   ]
  },
  {
   "cell_type": "code",
   "execution_count": null,
   "id": "4b9c4423",
   "metadata": {},
   "outputs": [],
   "source": [
    "all_crimes.to_csv('../data/cleaned/crime/all_crimes.csv')"
   ]
  },
  {
   "cell_type": "code",
   "execution_count": null,
   "id": "04a46ade",
   "metadata": {},
   "outputs": [],
   "source": [
    "atl_09_19 = pd.read_csv('../data/atl_crime_09_19.csv')\n",
    "atl_09_19.head()"
   ]
  },
  {
   "cell_type": "code",
   "execution_count": null,
   "id": "fab6d06f",
   "metadata": {},
   "outputs": [],
   "source": [
    "atl_20 = pd.read_csv('../data/atl_crime_20.csv')\n",
    "atl_20.head()"
   ]
  },
  {
   "cell_type": "code",
   "execution_count": null,
   "id": "2c503bc3",
   "metadata": {},
   "outputs": [],
   "source": [
    "atl_21 = pd.read_csv('../data/atl_crime_21.csv')\n",
    "atl_21.head()"
   ]
  },
  {
   "cell_type": "code",
   "execution_count": null,
   "id": "6d8e4197",
   "metadata": {},
   "outputs": [],
   "source": [
    "atl_22 = pd.read_csv('../data/atl_crime_22.csv')\n",
    "atl_22.head()"
   ]
  },
  {
   "cell_type": "code",
   "execution_count": null,
   "id": "b6463083",
   "metadata": {},
   "outputs": [],
   "source": [
    "atl_09_19.columns"
   ]
  },
  {
   "cell_type": "code",
   "execution_count": null,
   "id": "1d283c4a",
   "metadata": {},
   "outputs": [],
   "source": [
    "#rename columns\n",
    "atl_09_19 = atl_09_19.rename(columns = {'UCR Literal':'incident','Occur Date':'date'})\n",
    "\n",
    "#convert to datetime\n",
    "atl_09_19['date']= pd.to_datetime(atl_09_19['date'])\n",
    "\n",
    "#set date format\n",
    "atl_09_19['date'] = atl_09_19['date'].dt.strftime('%Y-%m-%d')\n",
    "atl_09_19.head()"
   ]
  },
  {
   "cell_type": "code",
   "execution_count": null,
   "id": "f9c8ffd6",
   "metadata": {},
   "outputs": [],
   "source": [
    "#convert to datetime\n",
    "atl_20['occur_date']= pd.to_datetime(atl_20['occur_date'],errors='coerce')\n",
    "\n",
    "#convert format of date\n",
    "atl_20['occur_date'] = atl_20['occur_date'].dt.strftime('%Y-%m-%d')\n",
    "\n",
    "#drop na date values\n",
    "atl_20 = atl_20.dropna(subset = ['occur_date'])\n",
    "atl_20.head()"
   ]
  },
  {
   "cell_type": "code",
   "execution_count": null,
   "id": "1b0e6f24",
   "metadata": {},
   "outputs": [],
   "source": [
    "#convert to datetime\n",
    "atl_21['occur_date']= pd.to_datetime(atl_21['occur_date'])\n",
    "\n",
    "#convert format\n",
    "atl_21['occur_date'] = atl_21['occur_date'].dt.strftime('%Y-%m-%d')\n",
    "atl_21.head()"
   ]
  },
  {
   "cell_type": "code",
   "execution_count": null,
   "id": "de048eab",
   "metadata": {},
   "outputs": [],
   "source": [
    "#convert to datetime\n",
    "atl_22['occur_date']= pd.to_datetime(atl_22['occur_date'])\n",
    "\n",
    "#convert date format\n",
    "atl_22['occur_date'] = atl_22['occur_date'].dt.strftime('%Y-%m-%d')\n",
    "atl_22.head()"
   ]
  },
  {
   "cell_type": "code",
   "execution_count": null,
   "id": "9d45805d",
   "metadata": {},
   "outputs": [],
   "source": [
    "#add city column\n",
    "atl_09_19['city'] = 'Atlanta'\n",
    "\n",
    "\n",
    "#reordering\n",
    "atl_09_19 = atl_09_19.loc[:,[ 'city','date', 'incident']]\n",
    "\n",
    "#update timeframe\n",
    "atl_18_19 = atl_09_19.loc[atl_09_19['date']>='2018-01-01']\n",
    "\n",
    "\n",
    "atl_18_19.head()"
   ]
  },
  {
   "cell_type": "code",
   "execution_count": null,
   "id": "b153556d",
   "metadata": {},
   "outputs": [],
   "source": [
    "#add city column\n",
    "atl_20['city'] = 'Atlanta'\n",
    "\n",
    "#renaming columns\n",
    "atl_20 = atl_20.rename(columns = {'UC2_Literal':'incident','occur_date':'date'})\n",
    "\n",
    "#reordering\n",
    "atl_20 = atl_20.loc[:,[ 'city','date', 'incident']]\n",
    "\n",
    "\n",
    "atl_20.head()"
   ]
  },
  {
   "cell_type": "code",
   "execution_count": null,
   "id": "0dce3f08",
   "metadata": {},
   "outputs": [],
   "source": [
    "atl_20.info()"
   ]
  },
  {
   "cell_type": "code",
   "execution_count": null,
   "id": "703b6c3f",
   "metadata": {},
   "outputs": [],
   "source": [
    "#add city column\n",
    "atl_21['city'] = 'Atlanta'\n",
    "\n",
    "#renaming columns\n",
    "atl_21 = atl_21.rename(columns = {'UC2_Literal':'incident','occur_date':'date'})\n",
    "\n",
    "#reordering\n",
    "atl_21 = atl_21.loc[:,[ 'city','date', 'incident']]\n",
    "\n",
    "\n",
    "atl_21.head()"
   ]
  },
  {
   "cell_type": "code",
   "execution_count": null,
   "id": "7d98182c",
   "metadata": {},
   "outputs": [],
   "source": [
    "#add city column\n",
    "atl_22['city'] = 'Atlanta'\n",
    "\n",
    "#renaming columns\n",
    "atl_22 = atl_22.rename(columns = {'UC2_Literal':'incident','occur_date':'date'})\n",
    "\n",
    "#reordering\n",
    "atl_22 = atl_22.loc[:,[ 'city','date', 'incident']]\n",
    "\n",
    "\n",
    "atl_22.head()"
   ]
  },
  {
   "cell_type": "code",
   "execution_count": null,
   "id": "b18d9284",
   "metadata": {},
   "outputs": [],
   "source": [
    "#concat atl crime and atl 22 crime\n",
    "atl_crime = pd.concat([atl_crime,atl_22])\n",
    "\n",
    "#drop na date values\n",
    "atl_crime = atl_crime.dropna(subset = ['date'])\n",
    "\n",
    "#convert date column to datetime\n",
    "atl_crime['date'] = pd.to_datetime(atl_crime['date'])\n",
    "\n",
    "#set time parameter\n",
    "atl_crime = atl_crime.loc[atl_crime['date']>='2018-01-01']\n",
    "\n",
    "atl_crime.head()"
   ]
  },
  {
   "cell_type": "code",
   "execution_count": null,
   "id": "50941e29",
   "metadata": {},
   "outputs": [],
   "source": [
    "#concat atl crime and atl 22 crime\n",
    "atl_crime_2 = pd.concat([atl_18_19,atl_20,atl_21,atl_22])\n",
    "\n",
    "#convert date column to datetime\n",
    "atl_crime_2['date'] = pd.to_datetime(atl_crime_2['date'])\n",
    "\n",
    "#set time parameter\n",
    "#atl_crime_2 = atl_crime_2.loc[atl_crime_2['date']>='2018-01-01']\n",
    "\n",
    "atl_crime_2.head()"
   ]
  },
  {
   "cell_type": "code",
   "execution_count": null,
   "id": "cd25bd9e",
   "metadata": {},
   "outputs": [],
   "source": [
    "atl_crime.info()"
   ]
  },
  {
   "cell_type": "code",
   "execution_count": null,
   "id": "97e2b2b5",
   "metadata": {
    "scrolled": true
   },
   "outputs": [],
   "source": [
    "atl_crime_2.info()"
   ]
  },
  {
   "cell_type": "code",
   "execution_count": null,
   "id": "94295030",
   "metadata": {},
   "outputs": [],
   "source": [
    "all_crime = pd.concat([atl_crime,nash_crime,austin_crime]).reset_index(drop=True)\n",
    "\n",
    "all_crime['incident'] = all_crime['incident'].str.upper()\n",
    "all_crime.head()"
   ]
  },
  {
   "cell_type": "code",
   "execution_count": null,
   "id": "4fd3bfc9",
   "metadata": {},
   "outputs": [],
   "source": [
    "all_crime_2 = pd.concat([atl_crime_2,nash_crime,austin_crime]).reset_index(drop=True)\n",
    "\n",
    "all_crime_2['incident'] = all_crime_2['incident'].str.upper()\n",
    "all_crime_2.head()"
   ]
  },
  {
   "cell_type": "code",
   "execution_count": null,
   "id": "76b61c34",
   "metadata": {},
   "outputs": [],
   "source": [
    "all_crime.info()"
   ]
  },
  {
   "cell_type": "code",
   "execution_count": null,
   "id": "7a334b56",
   "metadata": {},
   "outputs": [],
   "source": [
    "all_crime_2.info()"
   ]
  },
  {
   "cell_type": "code",
   "execution_count": null,
   "id": "f815f983",
   "metadata": {},
   "outputs": [],
   "source": [
    "all_crime.to_csv('../data/cleaned/crime/all_crime_act.csv')"
   ]
  },
  {
   "cell_type": "code",
   "execution_count": null,
   "id": "0270afb0",
   "metadata": {},
   "outputs": [],
   "source": [
    "all_crime_2.to_csv('../data/cleaned/crime/crime_act.csv')"
   ]
  },
  {
   "cell_type": "code",
   "execution_count": null,
   "id": "5ac474f5",
   "metadata": {},
   "outputs": [],
   "source": [
    "#url for crime rate table from wikipedia\n",
    "url_wiki= 'https://en.wikipedia.org/wiki/List_of_United_States_cities_by_crime_rate#:~:text=Crime%20rates%20%20%20%20State%20%20,%20%209.12%20%2011%20more%20rows%20'\n",
    "\n",
    "#wiki response\n",
    "resp_wk = requests.get(url_wiki)"
   ]
  },
  {
   "cell_type": "code",
   "execution_count": null,
   "id": "39248ee0",
   "metadata": {},
   "outputs": [],
   "source": [
    "#status check\n",
    "resp_wk.status_code"
   ]
  },
  {
   "cell_type": "code",
   "execution_count": null,
   "id": "cf75a976",
   "metadata": {},
   "outputs": [],
   "source": [
    "soup_wk = BS(resp_wk.text)"
   ]
  },
  {
   "cell_type": "code",
   "execution_count": null,
   "id": "12db4637",
   "metadata": {},
   "outputs": [],
   "source": [
    "soup_wk"
   ]
  },
  {
   "cell_type": "code",
   "execution_count": null,
   "id": "e5105a7e",
   "metadata": {},
   "outputs": [],
   "source": [
    "#reading table is as html and converting to a dataframe\n",
    "crime_rates = pd.read_html(str(soup_wk.find('table', attrs = {'class':'wikitable'})))[0]\n",
    "crime_rates.head()"
   ]
  },
  {
   "cell_type": "code",
   "execution_count": null,
   "id": "984fcab9",
   "metadata": {},
   "outputs": [],
   "source": [
    "#save to csv\n",
    "crime_rates.to_csv('../data/crime_rates.csv',index= False)"
   ]
  },
  {
   "cell_type": "code",
   "execution_count": null,
   "id": "0b2eb21b",
   "metadata": {},
   "outputs": [],
   "source": [
    "#pull back in to remove extra headers\n",
    "crime_rates = pd.read_csv('../data/crime_rates.csv', header= [2])\n",
    "crime_rates.head()"
   ]
  },
  {
   "cell_type": "code",
   "execution_count": null,
   "id": "a71cc3b8",
   "metadata": {},
   "outputs": [],
   "source": [
    "#pulling out relavent cities\n",
    "crime_rates = crime_rates.loc[(crime_rates['City']=='Atlanta')|\n",
    "                              (crime_rates['City']=='Austin')|\n",
    "                              (crime_rates['City']=='Nashville')].reset_index(drop=True)\n",
    "crime_rates"
   ]
  },
  {
   "cell_type": "code",
   "execution_count": null,
   "id": "2d524e83",
   "metadata": {},
   "outputs": [],
   "source": [
    "crime_rates.columns"
   ]
  },
  {
   "cell_type": "code",
   "execution_count": null,
   "id": "fba691cd",
   "metadata": {},
   "outputs": [],
   "source": [
    "#separating out violent crimes\n",
    "violent_crimes = crime_rates.loc[:,['State', 'City','Murder andNonnegligentmanslaughter', 'Rape1', 'Robbery',\n",
    "                                    'Aggravatedassault', 'Total.1']].rename(columns = {'Total.1':'total',\n",
    "                                                                                       'Murder andNonnegligentmanslaughter':'murder',\n",
    "                                                                                       'Rape1':'rape',\n",
    "                                                                                       'Aggravatedassault':'assault'})\n",
    "violent_crimes"
   ]
  },
  {
   "cell_type": "code",
   "execution_count": null,
   "id": "7029ff9c",
   "metadata": {},
   "outputs": [],
   "source": [
    "#separating out nonviolent crimes\n",
    "nonviolent_crimes = crime_rates.loc[:,['State','City','Burglary', 'Larceny-theft',\n",
    "                                       'Motorvehicletheft', 'Total.2']].rename(columns = {'Total.2':'total'})\n",
    "nonviolent_crimes"
   ]
  },
  {
   "cell_type": "code",
   "execution_count": null,
   "id": "7bfdd97d",
   "metadata": {},
   "outputs": [],
   "source": [
    "#melting DF\n",
    "vc = pd.melt(violent_crimes, id_vars=['State','City'], var_name='crime', value_name='crime_rate')\n",
    "vc"
   ]
  },
  {
   "cell_type": "code",
   "execution_count": null,
   "id": "44af1792",
   "metadata": {},
   "outputs": [],
   "source": [
    "#melting DF\n",
    "nvc = pd.melt(nonviolent_crimes, id_vars=['State','City'], var_name='crime', value_name='crime_rate')\n",
    "nvc"
   ]
  },
  {
   "cell_type": "code",
   "execution_count": null,
   "id": "12f7de79",
   "metadata": {},
   "outputs": [],
   "source": [
    "#url for crime rate table from numbeo\n",
    "url_cri_20= 'https://www.numbeo.com/crime/region_rankings.jsp?title=2020-mid&region=021'\n",
    "\n",
    "#cri 2020 response\n",
    "resp_cri_20 = requests.get(url_cri_20)"
   ]
  },
  {
   "cell_type": "code",
   "execution_count": null,
   "id": "94929349",
   "metadata": {},
   "outputs": [],
   "source": [
    "#status check\n",
    "resp_cri_20.status_code"
   ]
  },
  {
   "cell_type": "code",
   "execution_count": null,
   "id": "461a03aa",
   "metadata": {},
   "outputs": [],
   "source": [
    "cri_20_soup=BS(resp_cri_20.text)"
   ]
  },
  {
   "cell_type": "code",
   "execution_count": null,
   "id": "ec3704cc",
   "metadata": {},
   "outputs": [],
   "source": [
    "cri_20 = pd.read_html(str(cri_20_soup.find('table', attrs={'id':'t2'})))[0]\n",
    "cri_20"
   ]
  },
  {
   "cell_type": "code",
   "execution_count": null,
   "id": "ad4e0576",
   "metadata": {},
   "outputs": [],
   "source": [
    "#adding year column\n",
    "cri_20['year'] = 2020\n",
    "cri_20.head()"
   ]
  },
  {
   "cell_type": "code",
   "execution_count": null,
   "id": "7f7c8833",
   "metadata": {},
   "outputs": [],
   "source": [
    "#url for crime rate table from numbeo\n",
    "url_cri_21= 'https://www.numbeo.com/crime/region_rankings.jsp?title=2021-mid&region=021'\n",
    "\n",
    "#cri 2020 response\n",
    "resp_cri_21 = requests.get(url_cri_21)"
   ]
  },
  {
   "cell_type": "code",
   "execution_count": null,
   "id": "61653611",
   "metadata": {},
   "outputs": [],
   "source": [
    "#status check\n",
    "resp_cri_21.status_code"
   ]
  },
  {
   "cell_type": "code",
   "execution_count": null,
   "id": "b5c9011f",
   "metadata": {},
   "outputs": [],
   "source": [
    "cri_21_soup=BS(resp_cri_21.text)"
   ]
  },
  {
   "cell_type": "code",
   "execution_count": null,
   "id": "53f2c6a9",
   "metadata": {},
   "outputs": [],
   "source": [
    "cri_21 = pd.read_html(str(cri_21_soup.find('table', attrs={'id':'t2'})))[0]\n",
    "cri_21"
   ]
  },
  {
   "cell_type": "code",
   "execution_count": null,
   "id": "a01f771e",
   "metadata": {},
   "outputs": [],
   "source": [
    "#adding year column\n",
    "cri_21['year'] = 2021\n",
    "cri_21.head()"
   ]
  },
  {
   "cell_type": "code",
   "execution_count": null,
   "id": "4149b247",
   "metadata": {},
   "outputs": [],
   "source": [
    "#url for crime rate table from numbeo\n",
    "url_cri_22= 'https://www.numbeo.com/crime/region_rankings.jsp?title=2022-mid&region=021'\n",
    "\n",
    "#cri 2020 response\n",
    "resp_cri_22 = requests.get(url_cri_22)"
   ]
  },
  {
   "cell_type": "code",
   "execution_count": null,
   "id": "c300c7a5",
   "metadata": {},
   "outputs": [],
   "source": [
    "#status check\n",
    "resp_cri_22.status_code"
   ]
  },
  {
   "cell_type": "code",
   "execution_count": null,
   "id": "6d86592a",
   "metadata": {},
   "outputs": [],
   "source": [
    "cri_22_soup=BS(resp_cri_22.text)"
   ]
  },
  {
   "cell_type": "code",
   "execution_count": null,
   "id": "0b181f94",
   "metadata": {},
   "outputs": [],
   "source": [
    "cri_22 = pd.read_html(str(cri_22_soup.find('table', attrs={'id':'t2'})))[0]\n",
    "cri_22"
   ]
  },
  {
   "cell_type": "code",
   "execution_count": null,
   "id": "e3a8e576",
   "metadata": {},
   "outputs": [],
   "source": [
    "#adding year column\n",
    "cri_22['year'] = 2022\n",
    "cri_22.head()"
   ]
  },
  {
   "cell_type": "code",
   "execution_count": null,
   "id": "644a2739",
   "metadata": {},
   "outputs": [],
   "source": [
    "#pulling out relevant cities\n",
    "cri_20 = cri_20.loc[(cri_20['City'] == 'Austin, TX, United States')| \n",
    "                     (cri_20['City'] == 'Atlanta, GA, United States')|\n",
    "                     (cri_20['City'] == 'Nashville, TN, United States')].reset_index(drop=True)\n",
    "\n",
    "cri_20"
   ]
  },
  {
   "cell_type": "code",
   "execution_count": null,
   "id": "a3067cc6",
   "metadata": {},
   "outputs": [],
   "source": [
    "#pulling out relevant cities\n",
    "cri_21 = cri_21.loc[(cri_21['City'] == 'Austin, TX, United States')| \n",
    "                     (cri_21['City'] == 'Atlanta, GA, United States')|\n",
    "                     (cri_21['City'] == 'Nashville, TN, United States')].reset_index(drop=True)\n",
    "\n",
    "cri_21"
   ]
  },
  {
   "cell_type": "code",
   "execution_count": null,
   "id": "1ba1bbb3",
   "metadata": {},
   "outputs": [],
   "source": [
    "#pulling out relevant cities\n",
    "cri_22 = cri_22.loc[(cri_22['City'] == 'Austin, TX, United States')| \n",
    "                     (cri_22['City'] == 'Atlanta, GA, United States')|\n",
    "                     (cri_22['City'] == 'Nashville, TN, United States')].reset_index(drop=True)\n",
    "\n",
    "cri_22"
   ]
  },
  {
   "cell_type": "code",
   "execution_count": null,
   "id": "a4a6fb0c",
   "metadata": {},
   "outputs": [],
   "source": [
    "#concatenating all crime rate index tables togather\n",
    "crime_index= pd.concat([cri_20,cri_21,cri_22]).reset_index(drop=True)\n",
    "\n",
    "#splitting up city column\n",
    "crime_index[['city','state','country']] = crime_index['City'].str.split(', ', expand=True)\n",
    "\n",
    "#pulling out relavent columns\n",
    "crime_index = crime_index.loc[:,['city','year','Crime Index','Safety Index']]\n",
    "\n",
    "crime_index"
   ]
  },
  {
   "cell_type": "code",
   "execution_count": null,
   "id": "8348861c",
   "metadata": {},
   "outputs": [],
   "source": [
    "crime_index.to_csv('../data/cleaned/crime/crime_index.csv')"
   ]
  },
  {
   "cell_type": "code",
   "execution_count": null,
   "id": "242f5fc0",
   "metadata": {},
   "outputs": [],
   "source": [
    "vc.to_csv('../data/cleaned/crime/violent_crimes.csv')"
   ]
  },
  {
   "cell_type": "code",
   "execution_count": null,
   "id": "cd495ae1",
   "metadata": {},
   "outputs": [],
   "source": [
    "nvc.to_csv('../data/cleaned/crime/nonviolent_crimes.csv')"
   ]
  },
  {
   "cell_type": "code",
   "execution_count": null,
   "id": "17e048ef",
   "metadata": {},
   "outputs": [],
   "source": []
  }
 ],
 "metadata": {
  "kernelspec": {
   "display_name": "Python 3 (ipykernel)",
   "language": "python",
   "name": "python3"
  },
  "language_info": {
   "codemirror_mode": {
    "name": "ipython",
    "version": 3
   },
   "file_extension": ".py",
   "mimetype": "text/x-python",
   "name": "python",
   "nbconvert_exporter": "python",
   "pygments_lexer": "ipython3",
   "version": "3.9.13"
  }
 },
 "nbformat": 4,
 "nbformat_minor": 5
}
